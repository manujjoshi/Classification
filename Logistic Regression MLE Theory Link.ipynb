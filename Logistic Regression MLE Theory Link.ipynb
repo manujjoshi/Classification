{
 "cells": [
  {
   "cell_type": "markdown",
   "id": "f59ae5b5",
   "metadata": {},
   "source": [
    "## [A Gentle Introduction to Logistic Regression With Maximum Likelihood Estimation](https://machinelearningmastery.com/logistic-regression-with-maximum-likelihood-estimation/)\n",
    "\n",
    "## General MLE intuition\n",
    "\n",
    "- **Find Product of all probabilities that is likelihood and plot it, which point has maximum, its maximum likelihood**\n",
    "\n",
    "#### [Logloss Explanation](https://www.quora.com/What-is-an-intuitive-explanation-for-the-log-loss-function) \n",
    "- 1 - logLoss = Probability\n"
   ]
  },
  {
   "cell_type": "markdown",
   "id": "b16fb510",
   "metadata": {},
   "source": [
    "### `END ----------------------------------------------------------`"
   ]
  }
 ],
 "metadata": {
  "kernelspec": {
   "display_name": "Python 3 (ipykernel)",
   "language": "python",
   "name": "python3"
  },
  "language_info": {
   "codemirror_mode": {
    "name": "ipython",
    "version": 3
   },
   "file_extension": ".py",
   "mimetype": "text/x-python",
   "name": "python",
   "nbconvert_exporter": "python",
   "pygments_lexer": "ipython3",
   "version": "3.9.7"
  }
 },
 "nbformat": 4,
 "nbformat_minor": 5
}
