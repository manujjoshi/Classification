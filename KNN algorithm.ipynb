{
 "cells": [
  {
   "cell_type": "markdown",
   "metadata": {},
   "source": [
    "# `K Nearest Neighbors --------------------------------------`"
   ]
  },
  {
   "cell_type": "code",
   "execution_count": 41,
   "metadata": {},
   "outputs": [],
   "source": [
    "import pandas as pd\n",
    "import seaborn as sns"
   ]
  },
  {
   "cell_type": "code",
   "execution_count": 42,
   "metadata": {},
   "outputs": [],
   "source": [
    "data = pd.read_csv(\"KNNData.csv\")"
   ]
  },
  {
   "cell_type": "code",
   "execution_count": 43,
   "metadata": {},
   "outputs": [
    {
     "data": {
      "text/html": [
       "<div>\n",
       "<style scoped>\n",
       "    .dataframe tbody tr th:only-of-type {\n",
       "        vertical-align: middle;\n",
       "    }\n",
       "\n",
       "    .dataframe tbody tr th {\n",
       "        vertical-align: top;\n",
       "    }\n",
       "\n",
       "    .dataframe thead th {\n",
       "        text-align: right;\n",
       "    }\n",
       "</style>\n",
       "<table border=\"1\" class=\"dataframe\">\n",
       "  <thead>\n",
       "    <tr style=\"text-align: right;\">\n",
       "      <th></th>\n",
       "      <th>WTT</th>\n",
       "      <th>PTI</th>\n",
       "      <th>EQW</th>\n",
       "      <th>SBI</th>\n",
       "      <th>LQE</th>\n",
       "      <th>QWG</th>\n",
       "      <th>FDJ</th>\n",
       "      <th>PJF</th>\n",
       "      <th>HQE</th>\n",
       "      <th>NXJ</th>\n",
       "      <th>TARGET CLASS</th>\n",
       "    </tr>\n",
       "  </thead>\n",
       "  <tbody>\n",
       "    <tr>\n",
       "      <th>0</th>\n",
       "      <td>0.913917</td>\n",
       "      <td>1.162073</td>\n",
       "      <td>0.567946</td>\n",
       "      <td>0.755464</td>\n",
       "      <td>0.780862</td>\n",
       "      <td>0.352608</td>\n",
       "      <td>0.759697</td>\n",
       "      <td>0.643798</td>\n",
       "      <td>0.879422</td>\n",
       "      <td>1.231409</td>\n",
       "      <td>1</td>\n",
       "    </tr>\n",
       "    <tr>\n",
       "      <th>1</th>\n",
       "      <td>0.635632</td>\n",
       "      <td>1.003722</td>\n",
       "      <td>0.535342</td>\n",
       "      <td>0.825645</td>\n",
       "      <td>0.924109</td>\n",
       "      <td>0.648450</td>\n",
       "      <td>0.675334</td>\n",
       "      <td>1.013546</td>\n",
       "      <td>0.621552</td>\n",
       "      <td>1.492702</td>\n",
       "      <td>0</td>\n",
       "    </tr>\n",
       "    <tr>\n",
       "      <th>2</th>\n",
       "      <td>0.721360</td>\n",
       "      <td>1.201493</td>\n",
       "      <td>0.921990</td>\n",
       "      <td>0.855595</td>\n",
       "      <td>1.526629</td>\n",
       "      <td>0.720781</td>\n",
       "      <td>1.626351</td>\n",
       "      <td>1.154483</td>\n",
       "      <td>0.957877</td>\n",
       "      <td>1.285597</td>\n",
       "      <td>0</td>\n",
       "    </tr>\n",
       "    <tr>\n",
       "      <th>3</th>\n",
       "      <td>1.234204</td>\n",
       "      <td>1.386726</td>\n",
       "      <td>0.653046</td>\n",
       "      <td>0.825624</td>\n",
       "      <td>1.142504</td>\n",
       "      <td>0.875128</td>\n",
       "      <td>1.409708</td>\n",
       "      <td>1.380003</td>\n",
       "      <td>1.522692</td>\n",
       "      <td>1.153093</td>\n",
       "      <td>1</td>\n",
       "    </tr>\n",
       "    <tr>\n",
       "      <th>4</th>\n",
       "      <td>1.279491</td>\n",
       "      <td>0.949750</td>\n",
       "      <td>0.627280</td>\n",
       "      <td>0.668976</td>\n",
       "      <td>1.232537</td>\n",
       "      <td>0.703727</td>\n",
       "      <td>1.115596</td>\n",
       "      <td>0.646691</td>\n",
       "      <td>1.463812</td>\n",
       "      <td>1.419167</td>\n",
       "      <td>1</td>\n",
       "    </tr>\n",
       "  </tbody>\n",
       "</table>\n",
       "</div>"
      ],
      "text/plain": [
       "        WTT       PTI       EQW       SBI       LQE       QWG       FDJ  \\\n",
       "0  0.913917  1.162073  0.567946  0.755464  0.780862  0.352608  0.759697   \n",
       "1  0.635632  1.003722  0.535342  0.825645  0.924109  0.648450  0.675334   \n",
       "2  0.721360  1.201493  0.921990  0.855595  1.526629  0.720781  1.626351   \n",
       "3  1.234204  1.386726  0.653046  0.825624  1.142504  0.875128  1.409708   \n",
       "4  1.279491  0.949750  0.627280  0.668976  1.232537  0.703727  1.115596   \n",
       "\n",
       "        PJF       HQE       NXJ  TARGET CLASS  \n",
       "0  0.643798  0.879422  1.231409             1  \n",
       "1  1.013546  0.621552  1.492702             0  \n",
       "2  1.154483  0.957877  1.285597             0  \n",
       "3  1.380003  1.522692  1.153093             1  \n",
       "4  0.646691  1.463812  1.419167             1  "
      ]
     },
     "execution_count": 43,
     "metadata": {},
     "output_type": "execute_result"
    }
   ],
   "source": [
    "data.head()"
   ]
  },
  {
   "cell_type": "markdown",
   "metadata": {},
   "source": [
    "### all are numeric columns"
   ]
  },
  {
   "cell_type": "code",
   "execution_count": 44,
   "metadata": {},
   "outputs": [],
   "source": [
    "# sns.pairplot(data,hue=\"TARGET CLASS\")"
   ]
  },
  {
   "cell_type": "code",
   "execution_count": 45,
   "metadata": {},
   "outputs": [],
   "source": [
    "from sklearn.model_selection import train_test_split\n",
    "X = data.drop(\"TARGET CLASS\",axis=1)\n",
    "y = data[\"TARGET CLASS\"]\n",
    "X_train, X_test, y_train, y_test = train_test_split(X,y,test_size=0.3)"
   ]
  },
  {
   "cell_type": "markdown",
   "metadata": {},
   "source": [
    "### `min max normalisation`"
   ]
  },
  {
   "cell_type": "code",
   "execution_count": 46,
   "metadata": {},
   "outputs": [],
   "source": [
    "from sklearn.preprocessing import MinMaxScaler\n",
    "\n",
    "min_max_sc = MinMaxScaler()\n",
    "min_max_sc.fit(X_train)\n",
    "X_train = min_max_sc.transform(X_train)\n",
    "X_test = min_max_sc.transform(X_test)"
   ]
  },
  {
   "cell_type": "code",
   "execution_count": 47,
   "metadata": {},
   "outputs": [
    {
     "data": {
      "text/plain": [
       "array([[0.39081679, 0.19865222, 0.31981671, ..., 0.34342159, 0.59857591,\n",
       "        0.05192919],\n",
       "       [0.55647911, 0.35940128, 0.6911497 , ..., 0.74793671, 0.34954176,\n",
       "        0.97157292],\n",
       "       [0.36585525, 0.71834978, 0.35874416, ..., 0.60618483, 0.71628476,\n",
       "        0.39445792],\n",
       "       ...,\n",
       "       [0.29615687, 0.72919333, 0.34781339, ..., 0.78136813, 0.56213633,\n",
       "        0.74754356],\n",
       "       [0.57793129, 0.28268356, 0.34445226, ..., 0.50138256, 0.7333152 ,\n",
       "        0.32608471],\n",
       "       [0.59988116, 0.4953968 , 0.40337635, ..., 0.46295252, 0.67593727,\n",
       "        0.35850644]])"
      ]
     },
     "execution_count": 47,
     "metadata": {},
     "output_type": "execute_result"
    }
   ],
   "source": [
    "X_train"
   ]
  },
  {
   "cell_type": "markdown",
   "metadata": {},
   "source": [
    "### `KNN ------------------------------------------------------------------------`"
   ]
  },
  {
   "cell_type": "code",
   "execution_count": 48,
   "metadata": {},
   "outputs": [
    {
     "name": "stdout",
     "output_type": "stream",
     "text": [
      "Accuracy score is 0.9233333333333333\n",
      "Precision score is 0.9066666666666666\n",
      "Recall score is 0.9379310344827586\n",
      "misclassification error 0.07666666666666666\n"
     ]
    }
   ],
   "source": [
    "from sklearn.neighbors import KNeighborsClassifier\n",
    "from sklearn.metrics import accuracy_score, precision_score, recall_score\n",
    "\n",
    "knn = KNeighborsClassifier(n_neighbors=3,p=2)\n",
    "knn.fit(X_train,y_train)\n",
    "y_pred  = knn.predict(X_test)\n",
    "print(f\"Accuracy score is {accuracy_score(y_test,y_pred)}\")\n",
    "print(f\"Precision score is {precision_score(y_test,y_pred)}\")\n",
    "print(f\"Recall score is {recall_score(y_test,y_pred)}\")\n",
    "print(f\"misclassification error { sum((y_pred != y_test))/ X_test.shape[0]}\")"
   ]
  },
  {
   "cell_type": "code",
   "execution_count": 49,
   "metadata": {},
   "outputs": [
    {
     "name": "stdout",
     "output_type": "stream",
     "text": [
      "Accuracy score is 0.9433333333333334\n",
      "Precision score is 0.9324324324324325\n",
      "Recall score is 0.9517241379310345\n",
      "misclassification error 0.056666666666666664\n"
     ]
    }
   ],
   "source": [
    "from sklearn.neighbors import KNeighborsClassifier\n",
    "from sklearn.metrics import accuracy_score, precision_score, recall_score\n",
    "\n",
    "knn = KNeighborsClassifier(n_neighbors=5,p=2)\n",
    "knn.fit(X_train,y_train)\n",
    "y_pred  = knn.predict(X_test)\n",
    "print(f\"Accuracy score is {accuracy_score(y_test,y_pred)}\")\n",
    "print(f\"Precision score is {precision_score(y_test,y_pred)}\")\n",
    "print(f\"Recall score is {recall_score(y_test,y_pred)}\")\n",
    "print(f\"misclassification error { sum((y_pred != y_test))/ X_test.shape[0]}\")"
   ]
  },
  {
   "cell_type": "code",
   "execution_count": 50,
   "metadata": {},
   "outputs": [
    {
     "name": "stdout",
     "output_type": "stream",
     "text": [
      "Accuracy score is 0.9433333333333334\n",
      "Precision score is 0.9324324324324325\n",
      "Recall score is 0.9517241379310345\n",
      "misclassification error 0.056666666666666664\n"
     ]
    }
   ],
   "source": [
    "from sklearn.neighbors import KNeighborsClassifier\n",
    "from sklearn.metrics import accuracy_score, precision_score, recall_score\n",
    "\n",
    "knn = KNeighborsClassifier(n_neighbors=7,p=2)\n",
    "knn.fit(X_train,y_train)\n",
    "y_pred  = knn.predict(X_test)\n",
    "print(f\"Accuracy score is {accuracy_score(y_test,y_pred)}\")\n",
    "print(f\"Precision score is {precision_score(y_test,y_pred)}\")\n",
    "print(f\"Recall score is {recall_score(y_test,y_pred)}\")\n",
    "print(f\"misclassification error { sum((y_pred != y_test))/ X_test.shape[0]}\")"
   ]
  },
  {
   "cell_type": "markdown",
   "metadata": {},
   "source": [
    "### `Same things by iteration`"
   ]
  },
  {
   "cell_type": "code",
   "execution_count": 51,
   "metadata": {},
   "outputs": [
    {
     "name": "stdout",
     "output_type": "stream",
     "text": [
      "Fitting KNN with k == 3\n",
      "~~~~~~~~~~~~~~~~~~~\n",
      "Accuracy score is 0.9233333333333333\n",
      "Precision score is 0.9066666666666666\n",
      "Recall score is 0.9379310344827586\n",
      "misclassification error 0.07666666666666666\n",
      "\n",
      "\n",
      "\n",
      "Fitting KNN with k == 5\n",
      "~~~~~~~~~~~~~~~~~~~\n",
      "Accuracy score is 0.9433333333333334\n",
      "Precision score is 0.9324324324324325\n",
      "Recall score is 0.9517241379310345\n",
      "misclassification error 0.056666666666666664\n",
      "\n",
      "\n",
      "\n",
      "Fitting KNN with k == 7\n",
      "~~~~~~~~~~~~~~~~~~~\n",
      "Accuracy score is 0.9433333333333334\n",
      "Precision score is 0.9324324324324325\n",
      "Recall score is 0.9517241379310345\n",
      "misclassification error 0.056666666666666664\n",
      "\n",
      "\n",
      "\n",
      "Fitting KNN with k == 9\n",
      "~~~~~~~~~~~~~~~~~~~\n",
      "Accuracy score is 0.9466666666666667\n",
      "Precision score is 0.9328859060402684\n",
      "Recall score is 0.9586206896551724\n",
      "misclassification error 0.05333333333333334\n",
      "\n",
      "\n",
      "\n",
      "Fitting KNN with k == 11\n",
      "~~~~~~~~~~~~~~~~~~~\n",
      "Accuracy score is 0.9533333333333334\n",
      "Precision score is 0.9395973154362416\n",
      "Recall score is 0.9655172413793104\n",
      "misclassification error 0.04666666666666667\n",
      "\n",
      "\n",
      "\n",
      "Fitting KNN with k == 13\n",
      "~~~~~~~~~~~~~~~~~~~\n",
      "Accuracy score is 0.96\n",
      "Precision score is 0.9463087248322147\n",
      "Recall score is 0.9724137931034482\n",
      "misclassification error 0.04\n",
      "\n",
      "\n",
      "\n"
     ]
    }
   ],
   "source": [
    "misclassification_error = []\n",
    "for i in range(3,15,2):\n",
    "    print(f\"Fitting KNN with k == {i}\\n~~~~~~~~~~~~~~~~~~~\")\n",
    "    knn = KNeighborsClassifier(n_neighbors=i,p=2)\n",
    "    knn.fit(X_train,y_train)\n",
    "    y_pred  = knn.predict(X_test)\n",
    "    print(f\"Accuracy score is {accuracy_score(y_test,y_pred)}\")\n",
    "    print(f\"Precision score is {precision_score(y_test,y_pred)}\")\n",
    "    print(f\"Recall score is {recall_score(y_test,y_pred)}\")\n",
    "    miss_error = sum((y_pred != y_test))/ X_test.shape[0]\n",
    "    print(f\"misclassification error { miss_error}\")\n",
    "    print(\"\",end=\"\\n\\n\\n\")\n",
    "    misclassification_error.append(miss_error)"
   ]
  },
  {
   "cell_type": "markdown",
   "metadata": {},
   "source": [
    "### `plot misclassification`"
   ]
  },
  {
   "cell_type": "code",
   "execution_count": 52,
   "metadata": {},
   "outputs": [
    {
     "data": {
      "text/plain": [
       "[<matplotlib.lines.Line2D at 0x1e22adb0d60>]"
      ]
     },
     "execution_count": 52,
     "metadata": {},
     "output_type": "execute_result"
    },
    {
     "data": {
      "image/png": "[encoded data removed]",
      "text/plain": [
       "<Figure size 432x288 with 1 Axes>"
      ]
     },
     "metadata": {
      "needs_background": "light"
     },
     "output_type": "display_data"
    }
   ],
   "source": [
    "import matplotlib.pyplot as plt\n",
    "\n",
    "plt.plot(list(range(3,15,2)),misclassification_error)"
   ]
  },
  {
   "cell_type": "markdown",
   "metadata": {},
   "source": [
    "## `grid search for KNN`"
   ]
  },
  {
   "cell_type": "code",
   "execution_count": 53,
   "metadata": {},
   "outputs": [],
   "source": [
    "parameters = {\n",
    "    \"n_neighbors\": list(range(3,17,2)),\n",
    "    \"p\":[1,2]\n",
    "}"
   ]
  },
  {
   "cell_type": "markdown",
   "metadata": {},
   "source": [
    "### `It's completely depends upon business case, that you have to find wrt precision or accuracy`"
   ]
  },
  {
   "cell_type": "code",
   "execution_count": 54,
   "metadata": {},
   "outputs": [
    {
     "data": {
      "text/plain": [
       "GridSearchCV(estimator=KNeighborsClassifier(), n_jobs=-1,\n",
       "             param_grid={'n_neighbors': [3, 5, 7, 9, 11, 13, 15], 'p': [1, 2]},\n",
       "             scoring='precision')"
      ]
     },
     "execution_count": 54,
     "metadata": {},
     "output_type": "execute_result"
    }
   ],
   "source": [
    "from sklearn.neighbors import KNeighborsClassifier\n",
    "from sklearn.model_selection import GridSearchCV\n",
    "\n",
    "knn = KNeighborsClassifier()\n",
    "grid = GridSearchCV(knn,parameters,n_jobs=-1,scoring=\"precision\")\n",
    "grid.fit(X_train,y_train)\n"
   ]
  },
  {
   "cell_type": "code",
   "execution_count": 55,
   "metadata": {},
   "outputs": [
    {
     "data": {
      "text/plain": [
       "{'n_neighbors': 15, 'p': 1}"
      ]
     },
     "execution_count": 55,
     "metadata": {},
     "output_type": "execute_result"
    }
   ],
   "source": [
    "grid.best_params_"
   ]
  },
  {
   "cell_type": "markdown",
   "metadata": {},
   "source": [
    "## `END ---------------------------------------------------------------------`"
   ]
  }
 ],
 "metadata": {
  "kernelspec": {
   "display_name": "Python 3",
   "language": "python",
   "name": "python3"
  },
  "language_info": {
   "codemirror_mode": {
    "name": "ipython",
    "version": 3
   },
   "file_extension": ".py",
   "mimetype": "text/x-python",
   "name": "python",
   "nbconvert_exporter": "python",
   "pygments_lexer": "ipython3",
   "version": "3.8.8"
  }
 },
 "nbformat": 4,
 "nbformat_minor": 2
}
