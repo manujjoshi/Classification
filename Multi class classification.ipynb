{
 "cells": [
  {
   "cell_type": "markdown",
   "id": "cda5ba75",
   "metadata": {},
   "source": [
    "# `For more then 2 classes` (sklearn automatically switch between methods)\n",
    "# [Naive Bayes types sklearn documentation](https://scikit-learn.org/stable/modules/naive_bayes.html)\n",
    "# [Multiclass and multilabel algorithms sklearn documentation](https://scikit-learn.org/0.15/modules/multiclass.html)\n",
    "## `Concept -------------------------------------`\n",
    "## `Multiclass classification`\n",
    "### 1. `One vs rest classifier`:\n",
    "![](https://miro.medium.com/max/1574/1*7sz-bpA4r_xSqAG3IJx-7w.jpeg)\n",
    "- Hectic Task\n",
    "### [sklearn.multiclass.OneVsRestClassifier¶](https://scikit-learn.org/stable/modules/generated/sklearn.multiclass.OneVsRestClassifier.html)\n",
    "\n",
    "### 2. `Switch between your distributions underlying your model`:\n",
    "- Easy Task\n",
    "#### 1. [Dirichlet Distribution](https://en.wikipedia.org/wiki/Dirichlet_distribution)\n",
    "![](https://upload.wikimedia.org/wikipedia/commons/thumb/7/74/Dirichlet.pdf/page1-1200px-Dirichlet.pdf.jpg)\n",
    "- **Use Dirichlit Distribution instead of Binomial distribution**\n",
    "- sklearn does it for logistic regression internally\n",
    "#### 2. `Multinominal Naive Bayes` It also uses Dirichlit distribution\n",
    "- Initially we were using Gaussian Naive Bayes\n",
    "- [Naives Bayes — A Bird’s Eye View](https://nainoor.medium.com/naives-bayes-a-birds-eye-view-78be88895fee)\n",
    "### [sklearn.naive_bayes.MultinomialNB¶(important)](https://scikit-learn.org/stable/modules/generated/sklearn.naive_bayes.MultinomialNB.html)"
   ]
  },
  {
   "cell_type": "code",
   "execution_count": null,
   "id": "d1200a12",
   "metadata": {},
   "outputs": [],
   "source": []
  }
 ],
 "metadata": {
  "kernelspec": {
   "display_name": "Python 3 (ipykernel)",
   "language": "python",
   "name": "python3"
  },
  "language_info": {
   "codemirror_mode": {
    "name": "ipython",
    "version": 3
   },
   "file_extension": ".py",
   "mimetype": "text/x-python",
   "name": "python",
   "nbconvert_exporter": "python",
   "pygments_lexer": "ipython3",
   "version": "3.9.7"
  }
 },
 "nbformat": 4,
 "nbformat_minor": 5
}
