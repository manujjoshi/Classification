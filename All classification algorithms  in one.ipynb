{
 "cells": [
  {
   "cell_type": "markdown",
   "id": "3a40b6b0",
   "metadata": {},
   "source": [
    "### [https://www.saedsayad.com/classification.html *****](https://www.saedsayad.com/classification.htm)\n",
    "# `Logistic Regression -------------------------------`"
   ]
  },
  {
   "cell_type": "code",
   "execution_count": 1,
   "id": "d6cfdaea",
   "metadata": {},
   "outputs": [],
   "source": [
    "import pandas as pd\n",
    "import numpy as np\n",
    "import matplotlib.pyplot as plt\n",
    "import warnings\n",
    "warnings.filterwarnings('ignore')"
   ]
  },
  {
   "cell_type": "code",
   "execution_count": 2,
   "id": "7f8633c0",
   "metadata": {},
   "outputs": [
    {
     "data": {
      "text/html": [
       "<div>\n",
       "<style scoped>\n",
       "    .dataframe tbody tr th:only-of-type {\n",
       "        vertical-align: middle;\n",
       "    }\n",
       "\n",
       "    .dataframe tbody tr th {\n",
       "        vertical-align: top;\n",
       "    }\n",
       "\n",
       "    .dataframe thead th {\n",
       "        text-align: right;\n",
       "    }\n",
       "</style>\n",
       "<table border=\"1\" class=\"dataframe\">\n",
       "  <thead>\n",
       "    <tr style=\"text-align: right;\">\n",
       "      <th></th>\n",
       "      <th>RowNumber</th>\n",
       "      <th>CustomerId</th>\n",
       "      <th>Surname</th>\n",
       "      <th>CreditScore</th>\n",
       "      <th>Geography</th>\n",
       "      <th>Gender</th>\n",
       "      <th>Age</th>\n",
       "      <th>Tenure</th>\n",
       "      <th>Balance</th>\n",
       "      <th>NumOfProducts</th>\n",
       "      <th>HasCrCard</th>\n",
       "      <th>IsActiveMember</th>\n",
       "      <th>EstimatedSalary</th>\n",
       "      <th>Exited</th>\n",
       "    </tr>\n",
       "  </thead>\n",
       "  <tbody>\n",
       "    <tr>\n",
       "      <th>0</th>\n",
       "      <td>1</td>\n",
       "      <td>15634602</td>\n",
       "      <td>Hargrave</td>\n",
       "      <td>619</td>\n",
       "      <td>France</td>\n",
       "      <td>Female</td>\n",
       "      <td>42</td>\n",
       "      <td>2</td>\n",
       "      <td>0.00</td>\n",
       "      <td>1</td>\n",
       "      <td>1</td>\n",
       "      <td>1</td>\n",
       "      <td>101348.88</td>\n",
       "      <td>1</td>\n",
       "    </tr>\n",
       "    <tr>\n",
       "      <th>1</th>\n",
       "      <td>2</td>\n",
       "      <td>15647311</td>\n",
       "      <td>Hill</td>\n",
       "      <td>608</td>\n",
       "      <td>Spain</td>\n",
       "      <td>Female</td>\n",
       "      <td>41</td>\n",
       "      <td>1</td>\n",
       "      <td>83807.86</td>\n",
       "      <td>1</td>\n",
       "      <td>0</td>\n",
       "      <td>1</td>\n",
       "      <td>112542.58</td>\n",
       "      <td>0</td>\n",
       "    </tr>\n",
       "    <tr>\n",
       "      <th>2</th>\n",
       "      <td>3</td>\n",
       "      <td>15619304</td>\n",
       "      <td>Onio</td>\n",
       "      <td>502</td>\n",
       "      <td>France</td>\n",
       "      <td>Female</td>\n",
       "      <td>42</td>\n",
       "      <td>8</td>\n",
       "      <td>159660.80</td>\n",
       "      <td>3</td>\n",
       "      <td>1</td>\n",
       "      <td>0</td>\n",
       "      <td>113931.57</td>\n",
       "      <td>1</td>\n",
       "    </tr>\n",
       "    <tr>\n",
       "      <th>3</th>\n",
       "      <td>4</td>\n",
       "      <td>15701354</td>\n",
       "      <td>Boni</td>\n",
       "      <td>699</td>\n",
       "      <td>France</td>\n",
       "      <td>Female</td>\n",
       "      <td>39</td>\n",
       "      <td>1</td>\n",
       "      <td>0.00</td>\n",
       "      <td>2</td>\n",
       "      <td>0</td>\n",
       "      <td>0</td>\n",
       "      <td>93826.63</td>\n",
       "      <td>0</td>\n",
       "    </tr>\n",
       "    <tr>\n",
       "      <th>4</th>\n",
       "      <td>5</td>\n",
       "      <td>15737888</td>\n",
       "      <td>Mitchell</td>\n",
       "      <td>850</td>\n",
       "      <td>Spain</td>\n",
       "      <td>Female</td>\n",
       "      <td>43</td>\n",
       "      <td>2</td>\n",
       "      <td>125510.82</td>\n",
       "      <td>1</td>\n",
       "      <td>1</td>\n",
       "      <td>1</td>\n",
       "      <td>79084.10</td>\n",
       "      <td>0</td>\n",
       "    </tr>\n",
       "  </tbody>\n",
       "</table>\n",
       "</div>"
      ],
      "text/plain": [
       "   RowNumber  CustomerId   Surname  CreditScore Geography  Gender  Age  \\\n",
       "0          1    15634602  Hargrave          619    France  Female   42   \n",
       "1          2    15647311      Hill          608     Spain  Female   41   \n",
       "2          3    15619304      Onio          502    France  Female   42   \n",
       "3          4    15701354      Boni          699    France  Female   39   \n",
       "4          5    15737888  Mitchell          850     Spain  Female   43   \n",
       "\n",
       "   Tenure    Balance  NumOfProducts  HasCrCard  IsActiveMember  \\\n",
       "0       2       0.00              1          1               1   \n",
       "1       1   83807.86              1          0               1   \n",
       "2       8  159660.80              3          1               0   \n",
       "3       1       0.00              2          0               0   \n",
       "4       2  125510.82              1          1               1   \n",
       "\n",
       "   EstimatedSalary  Exited  \n",
       "0        101348.88       1  \n",
       "1        112542.58       0  \n",
       "2        113931.57       1  \n",
       "3         93826.63       0  \n",
       "4         79084.10       0  "
      ]
     },
     "execution_count": 2,
     "metadata": {},
     "output_type": "execute_result"
    }
   ],
   "source": [
    "data = pd.read_csv('Churn_Modelling.csv')\n",
    "data.head()"
   ]
  },
  {
   "cell_type": "code",
   "execution_count": 3,
   "id": "d86ec039",
   "metadata": {},
   "outputs": [
    {
     "data": {
      "text/plain": [
       "Index(['RowNumber', 'CustomerId', 'Surname', 'CreditScore', 'Geography',\n",
       "       'Gender', 'Age', 'Tenure', 'Balance', 'NumOfProducts', 'HasCrCard',\n",
       "       'IsActiveMember', 'EstimatedSalary', 'Exited'],\n",
       "      dtype='object')"
      ]
     },
     "execution_count": 3,
     "metadata": {},
     "output_type": "execute_result"
    }
   ],
   "source": [
    "data.columns"
   ]
  },
  {
   "cell_type": "markdown",
   "id": "bb7b323c",
   "metadata": {},
   "source": [
    "### Rownumber, CustermerId and Surname are of no use "
   ]
  },
  {
   "cell_type": "code",
   "execution_count": 4,
   "id": "7edb61bb",
   "metadata": {},
   "outputs": [],
   "source": [
    "data.drop(['RowNumber', 'CustomerId', 'Surname'],axis=1,inplace=True)"
   ]
  },
  {
   "cell_type": "code",
   "execution_count": 5,
   "id": "b493f5cd",
   "metadata": {},
   "outputs": [
    {
     "data": {
      "text/html": [
       "<div>\n",
       "<style scoped>\n",
       "    .dataframe tbody tr th:only-of-type {\n",
       "        vertical-align: middle;\n",
       "    }\n",
       "\n",
       "    .dataframe tbody tr th {\n",
       "        vertical-align: top;\n",
       "    }\n",
       "\n",
       "    .dataframe thead th {\n",
       "        text-align: right;\n",
       "    }\n",
       "</style>\n",
       "<table border=\"1\" class=\"dataframe\">\n",
       "  <thead>\n",
       "    <tr style=\"text-align: right;\">\n",
       "      <th></th>\n",
       "      <th>CreditScore</th>\n",
       "      <th>Geography</th>\n",
       "      <th>Gender</th>\n",
       "      <th>Age</th>\n",
       "      <th>Tenure</th>\n",
       "      <th>Balance</th>\n",
       "      <th>NumOfProducts</th>\n",
       "      <th>HasCrCard</th>\n",
       "      <th>IsActiveMember</th>\n",
       "      <th>EstimatedSalary</th>\n",
       "      <th>Exited</th>\n",
       "    </tr>\n",
       "  </thead>\n",
       "  <tbody>\n",
       "    <tr>\n",
       "      <th>0</th>\n",
       "      <td>619</td>\n",
       "      <td>France</td>\n",
       "      <td>Female</td>\n",
       "      <td>42</td>\n",
       "      <td>2</td>\n",
       "      <td>0.00</td>\n",
       "      <td>1</td>\n",
       "      <td>1</td>\n",
       "      <td>1</td>\n",
       "      <td>101348.88</td>\n",
       "      <td>1</td>\n",
       "    </tr>\n",
       "    <tr>\n",
       "      <th>1</th>\n",
       "      <td>608</td>\n",
       "      <td>Spain</td>\n",
       "      <td>Female</td>\n",
       "      <td>41</td>\n",
       "      <td>1</td>\n",
       "      <td>83807.86</td>\n",
       "      <td>1</td>\n",
       "      <td>0</td>\n",
       "      <td>1</td>\n",
       "      <td>112542.58</td>\n",
       "      <td>0</td>\n",
       "    </tr>\n",
       "    <tr>\n",
       "      <th>2</th>\n",
       "      <td>502</td>\n",
       "      <td>France</td>\n",
       "      <td>Female</td>\n",
       "      <td>42</td>\n",
       "      <td>8</td>\n",
       "      <td>159660.80</td>\n",
       "      <td>3</td>\n",
       "      <td>1</td>\n",
       "      <td>0</td>\n",
       "      <td>113931.57</td>\n",
       "      <td>1</td>\n",
       "    </tr>\n",
       "    <tr>\n",
       "      <th>3</th>\n",
       "      <td>699</td>\n",
       "      <td>France</td>\n",
       "      <td>Female</td>\n",
       "      <td>39</td>\n",
       "      <td>1</td>\n",
       "      <td>0.00</td>\n",
       "      <td>2</td>\n",
       "      <td>0</td>\n",
       "      <td>0</td>\n",
       "      <td>93826.63</td>\n",
       "      <td>0</td>\n",
       "    </tr>\n",
       "    <tr>\n",
       "      <th>4</th>\n",
       "      <td>850</td>\n",
       "      <td>Spain</td>\n",
       "      <td>Female</td>\n",
       "      <td>43</td>\n",
       "      <td>2</td>\n",
       "      <td>125510.82</td>\n",
       "      <td>1</td>\n",
       "      <td>1</td>\n",
       "      <td>1</td>\n",
       "      <td>79084.10</td>\n",
       "      <td>0</td>\n",
       "    </tr>\n",
       "  </tbody>\n",
       "</table>\n",
       "</div>"
      ],
      "text/plain": [
       "   CreditScore Geography  Gender  Age  Tenure    Balance  NumOfProducts  \\\n",
       "0          619    France  Female   42       2       0.00              1   \n",
       "1          608     Spain  Female   41       1   83807.86              1   \n",
       "2          502    France  Female   42       8  159660.80              3   \n",
       "3          699    France  Female   39       1       0.00              2   \n",
       "4          850     Spain  Female   43       2  125510.82              1   \n",
       "\n",
       "   HasCrCard  IsActiveMember  EstimatedSalary  Exited  \n",
       "0          1               1        101348.88       1  \n",
       "1          0               1        112542.58       0  \n",
       "2          1               0        113931.57       1  \n",
       "3          0               0         93826.63       0  \n",
       "4          1               1         79084.10       0  "
      ]
     },
     "execution_count": 5,
     "metadata": {},
     "output_type": "execute_result"
    }
   ],
   "source": [
    "data.head()"
   ]
  },
  {
   "cell_type": "code",
   "execution_count": 6,
   "id": "47b9e423",
   "metadata": {},
   "outputs": [
    {
     "data": {
      "text/plain": [
       "CreditScore          int64\n",
       "Geography           object\n",
       "Gender              object\n",
       "Age                  int64\n",
       "Tenure               int64\n",
       "Balance            float64\n",
       "NumOfProducts        int64\n",
       "HasCrCard            int64\n",
       "IsActiveMember       int64\n",
       "EstimatedSalary    float64\n",
       "Exited               int64\n",
       "dtype: object"
      ]
     },
     "execution_count": 6,
     "metadata": {},
     "output_type": "execute_result"
    }
   ],
   "source": [
    "data.dtypes"
   ]
  },
  {
   "cell_type": "markdown",
   "id": "496d9381",
   "metadata": {},
   "source": [
    "### HasCrCard, IsActiveMember and Exited should be of datatype object"
   ]
  },
  {
   "cell_type": "code",
   "execution_count": 7,
   "id": "1b7113dc",
   "metadata": {},
   "outputs": [],
   "source": [
    "conversion_columns = ['HasCrCard','IsActiveMember','Exited']\n",
    "for cols in conversion_columns:\n",
    "    data[cols] = data[cols].astype('object')\n",
    "    "
   ]
  },
  {
   "cell_type": "code",
   "execution_count": 8,
   "id": "d8231c7d",
   "metadata": {},
   "outputs": [
    {
     "data": {
      "text/plain": [
       "CreditScore          int64\n",
       "Geography           object\n",
       "Gender              object\n",
       "Age                  int64\n",
       "Tenure               int64\n",
       "Balance            float64\n",
       "NumOfProducts        int64\n",
       "HasCrCard           object\n",
       "IsActiveMember      object\n",
       "EstimatedSalary    float64\n",
       "Exited              object\n",
       "dtype: object"
      ]
     },
     "execution_count": 8,
     "metadata": {},
     "output_type": "execute_result"
    }
   ],
   "source": [
    "data.dtypes"
   ]
  },
  {
   "cell_type": "code",
   "execution_count": 9,
   "id": "5e5a97b9",
   "metadata": {},
   "outputs": [],
   "source": [
    "target = 'Exited'\n",
    "cont_columns = data.select_dtypes(['int64','float64']).columns\n",
    "cat_columns = list(filter(lambda x: x!='Exited',data.select_dtypes('object').columns))"
   ]
  },
  {
   "cell_type": "code",
   "execution_count": 10,
   "id": "112d0769",
   "metadata": {},
   "outputs": [
    {
     "data": {
      "text/plain": [
       "Index(['CreditScore', 'Age', 'Tenure', 'Balance', 'NumOfProducts',\n",
       "       'EstimatedSalary'],\n",
       "      dtype='object')"
      ]
     },
     "execution_count": 10,
     "metadata": {},
     "output_type": "execute_result"
    }
   ],
   "source": [
    "cont_columns"
   ]
  },
  {
   "cell_type": "code",
   "execution_count": 11,
   "id": "2781373c",
   "metadata": {},
   "outputs": [
    {
     "data": {
      "text/plain": [
       "['Geography', 'Gender', 'HasCrCard', 'IsActiveMember']"
      ]
     },
     "execution_count": 11,
     "metadata": {},
     "output_type": "execute_result"
    }
   ],
   "source": [
    "cat_columns"
   ]
  },
  {
   "cell_type": "code",
   "execution_count": 12,
   "id": "96a204d0",
   "metadata": {},
   "outputs": [
    {
     "data": {
      "text/plain": [
       "'Exited'"
      ]
     },
     "execution_count": 12,
     "metadata": {},
     "output_type": "execute_result"
    }
   ],
   "source": [
    "target"
   ]
  },
  {
   "cell_type": "code",
   "execution_count": 13,
   "id": "bca041ff",
   "metadata": {},
   "outputs": [
    {
     "name": "stdout",
     "output_type": "stream",
     "text": [
      "Column unique Geography ==>> 3\n",
      "Column unique Gender ==>> 2\n",
      "Column unique HasCrCard ==>> 2\n",
      "Column unique IsActiveMember ==>> 2\n"
     ]
    }
   ],
   "source": [
    "for col in cat_columns:\n",
    "    print(f'Column unique {col} ==>> {data[col].nunique()}')"
   ]
  },
  {
   "cell_type": "markdown",
   "id": "fa488d7b",
   "metadata": {},
   "source": [
    "### Continious vs Target ( T-test ) "
   ]
  },
  {
   "cell_type": "code",
   "execution_count": 14,
   "id": "7ee2a63a",
   "metadata": {},
   "outputs": [
    {
     "name": "stdout",
     "output_type": "stream",
     "text": [
      "CreditScore => t-test result => Ttest_indResult(statistic=2.7100778888729833, pvalue=0.006738213892192373)\n",
      "\n",
      "Age => t-test result => Ttest_indResult(statistic=-29.76681499437077, pvalue=1.2399313093427738e-186)\n",
      "\n",
      "Tenure => t-test result => Ttest_indResult(statistic=1.4000584366735584, pvalue=0.16152684949473256)\n",
      "\n",
      "Balance => t-test result => Ttest_indResult(statistic=-11.936240300013841, pvalue=1.2755633191525477e-32)\n",
      "\n",
      "NumOfProducts => t-test result => Ttest_indResult(statistic=4.786984698423093, pvalue=1.717333004804293e-06)\n",
      "\n",
      "EstimatedSalary => t-test result => Ttest_indResult(statistic=-1.2096536380192642, pvalue=0.22644042802223346)\n",
      "\n"
     ]
    },
    {
     "data": {
      "image/png": "[encoded data removed]",
      "text/plain": [
       "<Figure size 1728x576 with 1 Axes>"
      ]
     },
     "metadata": {
      "needs_background": "light"
     },
     "output_type": "display_data"
    },
    {
     "data": {
      "image/png": "[encoded data removed]",
      "text/plain": [
       "<Figure size 1728x576 with 1 Axes>"
      ]
     },
     "metadata": {
      "needs_background": "light"
     },
     "output_type": "display_data"
    },
    {
     "data": {
      "image/png": "[encoded data removed]",
      "text/plain": [
       "<Figure size 1728x576 with 1 Axes>"
      ]
     },
     "metadata": {
      "needs_background": "light"
     },
     "output_type": "display_data"
    },
    {
     "data": {
      "image/png": "[encoded data removed]",
      "text/plain": [
       "<Figure size 1728x576 with 1 Axes>"
      ]
     },
     "metadata": {
      "needs_background": "light"
     },
     "output_type": "display_data"
    },
    {
     "data": {
      "image/png": "[encoded data removed]",
      "text/plain": [
       "<Figure size 1728x576 with 1 Axes>"
      ]
     },
     "metadata": {
      "needs_background": "light"
     },
     "output_type": "display_data"
    },
    {
     "data": {
      "image/png": "[encoded data removed]",
      "text/plain": [
       "<Figure size 1728x576 with 1 Axes>"
      ]
     },
     "metadata": {
      "needs_background": "light"
     },
     "output_type": "display_data"
    }
   ],
   "source": [
    "from scipy.stats import ttest_ind\n",
    "import seaborn as sns\n",
    "import matplotlib.pyplot as plt\n",
    "\n",
    "def t_test_plot(col,grp1,grp2):\n",
    "    plt.figure(figsize=(24,8))\n",
    "    sns.distplot(grp1)\n",
    "    sns.distplot(grp2)\n",
    "    t_test_resutl = ttest_ind(grp1,grp2)\n",
    "    print(f\"{col} => t-test result => {t_test_resutl}\\n\")\n",
    "\n",
    "    \n",
    "for col in cont_columns:\n",
    "    grp1 = data.loc[data[target]==0,col]\n",
    "    grp2 = data.loc[data[target]==1,col]\n",
    "    t_test_plot(col,grp1,grp2)"
   ]
  },
  {
   "cell_type": "markdown",
   "id": "c95475dd",
   "metadata": {},
   "source": [
    "`EstimatedSalary and Tenure are not related to Exited, so we should drop them`"
   ]
  },
  {
   "cell_type": "markdown",
   "id": "bbc112dc",
   "metadata": {},
   "source": [
    "### Categorical vs Target ( chi square test ) "
   ]
  },
  {
   "cell_type": "code",
   "execution_count": 15,
   "id": "674886f5",
   "metadata": {},
   "outputs": [],
   "source": [
    "from scipy.stats import chi2_contingency\n",
    "\n",
    "def chisq_test(target,independent_col,data):\n",
    "    two_way = pd.crosstab(data[target],data[independent_col])\n",
    "    chi_test_result = chi2_contingency(two_way)\n",
    "    print(f'{independent_col} => chi-square result p-values => {chi_test_result[1]}')"
   ]
  },
  {
   "cell_type": "code",
   "execution_count": 16,
   "id": "d20c0810",
   "metadata": {},
   "outputs": [
    {
     "name": "stdout",
     "output_type": "stream",
     "text": [
      "Geography => chi-square result p-values => 3.830317605354266e-66\n",
      "Gender => chi-square result p-values => 2.2482100097131755e-26\n",
      "HasCrCard => chi-square result p-values => 0.49237236141554686\n",
      "IsActiveMember => chi-square result p-values => 8.785858269303703e-55\n"
     ]
    }
   ],
   "source": [
    "for col in cat_columns:\n",
    "    chisq_test(target,col,data)"
   ]
  },
  {
   "cell_type": "markdown",
   "id": "19f0836f",
   "metadata": {},
   "source": [
    "`HasCrCard is not related to Exited, we should drop it`"
   ]
  },
  {
   "cell_type": "markdown",
   "id": "ebd62781",
   "metadata": {},
   "source": [
    "### Drop columns which are not related to target"
   ]
  },
  {
   "cell_type": "code",
   "execution_count": 17,
   "id": "c58ba107",
   "metadata": {},
   "outputs": [],
   "source": [
    "not_related = ['HasCrCard','EstimatedSalary','Tenure']\n",
    "data.drop(not_related,axis=1,inplace=True)"
   ]
  },
  {
   "cell_type": "code",
   "execution_count": 18,
   "id": "2aa71b2d",
   "metadata": {},
   "outputs": [
    {
     "data": {
      "text/html": [
       "<div>\n",
       "<style scoped>\n",
       "    .dataframe tbody tr th:only-of-type {\n",
       "        vertical-align: middle;\n",
       "    }\n",
       "\n",
       "    .dataframe tbody tr th {\n",
       "        vertical-align: top;\n",
       "    }\n",
       "\n",
       "    .dataframe thead th {\n",
       "        text-align: right;\n",
       "    }\n",
       "</style>\n",
       "<table border=\"1\" class=\"dataframe\">\n",
       "  <thead>\n",
       "    <tr style=\"text-align: right;\">\n",
       "      <th></th>\n",
       "      <th>CreditScore</th>\n",
       "      <th>Geography</th>\n",
       "      <th>Gender</th>\n",
       "      <th>Age</th>\n",
       "      <th>Balance</th>\n",
       "      <th>NumOfProducts</th>\n",
       "      <th>IsActiveMember</th>\n",
       "      <th>Exited</th>\n",
       "    </tr>\n",
       "  </thead>\n",
       "  <tbody>\n",
       "    <tr>\n",
       "      <th>0</th>\n",
       "      <td>619</td>\n",
       "      <td>France</td>\n",
       "      <td>Female</td>\n",
       "      <td>42</td>\n",
       "      <td>0.00</td>\n",
       "      <td>1</td>\n",
       "      <td>1</td>\n",
       "      <td>1</td>\n",
       "    </tr>\n",
       "    <tr>\n",
       "      <th>1</th>\n",
       "      <td>608</td>\n",
       "      <td>Spain</td>\n",
       "      <td>Female</td>\n",
       "      <td>41</td>\n",
       "      <td>83807.86</td>\n",
       "      <td>1</td>\n",
       "      <td>1</td>\n",
       "      <td>0</td>\n",
       "    </tr>\n",
       "    <tr>\n",
       "      <th>2</th>\n",
       "      <td>502</td>\n",
       "      <td>France</td>\n",
       "      <td>Female</td>\n",
       "      <td>42</td>\n",
       "      <td>159660.80</td>\n",
       "      <td>3</td>\n",
       "      <td>0</td>\n",
       "      <td>1</td>\n",
       "    </tr>\n",
       "    <tr>\n",
       "      <th>3</th>\n",
       "      <td>699</td>\n",
       "      <td>France</td>\n",
       "      <td>Female</td>\n",
       "      <td>39</td>\n",
       "      <td>0.00</td>\n",
       "      <td>2</td>\n",
       "      <td>0</td>\n",
       "      <td>0</td>\n",
       "    </tr>\n",
       "    <tr>\n",
       "      <th>4</th>\n",
       "      <td>850</td>\n",
       "      <td>Spain</td>\n",
       "      <td>Female</td>\n",
       "      <td>43</td>\n",
       "      <td>125510.82</td>\n",
       "      <td>1</td>\n",
       "      <td>1</td>\n",
       "      <td>0</td>\n",
       "    </tr>\n",
       "  </tbody>\n",
       "</table>\n",
       "</div>"
      ],
      "text/plain": [
       "   CreditScore Geography  Gender  Age    Balance  NumOfProducts  \\\n",
       "0          619    France  Female   42       0.00              1   \n",
       "1          608     Spain  Female   41   83807.86              1   \n",
       "2          502    France  Female   42  159660.80              3   \n",
       "3          699    France  Female   39       0.00              2   \n",
       "4          850     Spain  Female   43  125510.82              1   \n",
       "\n",
       "  IsActiveMember Exited  \n",
       "0              1      1  \n",
       "1              1      0  \n",
       "2              0      1  \n",
       "3              0      0  \n",
       "4              1      0  "
      ]
     },
     "execution_count": 18,
     "metadata": {},
     "output_type": "execute_result"
    }
   ],
   "source": [
    "data.head()"
   ]
  },
  {
   "cell_type": "markdown",
   "id": "3585c7f8",
   "metadata": {},
   "source": [
    "### Split the data"
   ]
  },
  {
   "cell_type": "code",
   "execution_count": 19,
   "id": "68342d9d",
   "metadata": {},
   "outputs": [],
   "source": [
    "X = data.drop(['Exited'],axis=1)\n",
    "y = data['Exited']"
   ]
  },
  {
   "cell_type": "code",
   "execution_count": 20,
   "id": "5e828b0b",
   "metadata": {},
   "outputs": [
    {
     "data": {
      "text/html": [
       "<div>\n",
       "<style scoped>\n",
       "    .dataframe tbody tr th:only-of-type {\n",
       "        vertical-align: middle;\n",
       "    }\n",
       "\n",
       "    .dataframe tbody tr th {\n",
       "        vertical-align: top;\n",
       "    }\n",
       "\n",
       "    .dataframe thead th {\n",
       "        text-align: right;\n",
       "    }\n",
       "</style>\n",
       "<table border=\"1\" class=\"dataframe\">\n",
       "  <thead>\n",
       "    <tr style=\"text-align: right;\">\n",
       "      <th></th>\n",
       "      <th>CreditScore</th>\n",
       "      <th>Geography</th>\n",
       "      <th>Gender</th>\n",
       "      <th>Age</th>\n",
       "      <th>Balance</th>\n",
       "      <th>NumOfProducts</th>\n",
       "      <th>IsActiveMember</th>\n",
       "    </tr>\n",
       "  </thead>\n",
       "  <tbody>\n",
       "    <tr>\n",
       "      <th>0</th>\n",
       "      <td>619</td>\n",
       "      <td>France</td>\n",
       "      <td>Female</td>\n",
       "      <td>42</td>\n",
       "      <td>0.00</td>\n",
       "      <td>1</td>\n",
       "      <td>1</td>\n",
       "    </tr>\n",
       "    <tr>\n",
       "      <th>1</th>\n",
       "      <td>608</td>\n",
       "      <td>Spain</td>\n",
       "      <td>Female</td>\n",
       "      <td>41</td>\n",
       "      <td>83807.86</td>\n",
       "      <td>1</td>\n",
       "      <td>1</td>\n",
       "    </tr>\n",
       "    <tr>\n",
       "      <th>2</th>\n",
       "      <td>502</td>\n",
       "      <td>France</td>\n",
       "      <td>Female</td>\n",
       "      <td>42</td>\n",
       "      <td>159660.80</td>\n",
       "      <td>3</td>\n",
       "      <td>0</td>\n",
       "    </tr>\n",
       "    <tr>\n",
       "      <th>3</th>\n",
       "      <td>699</td>\n",
       "      <td>France</td>\n",
       "      <td>Female</td>\n",
       "      <td>39</td>\n",
       "      <td>0.00</td>\n",
       "      <td>2</td>\n",
       "      <td>0</td>\n",
       "    </tr>\n",
       "    <tr>\n",
       "      <th>4</th>\n",
       "      <td>850</td>\n",
       "      <td>Spain</td>\n",
       "      <td>Female</td>\n",
       "      <td>43</td>\n",
       "      <td>125510.82</td>\n",
       "      <td>1</td>\n",
       "      <td>1</td>\n",
       "    </tr>\n",
       "    <tr>\n",
       "      <th>...</th>\n",
       "      <td>...</td>\n",
       "      <td>...</td>\n",
       "      <td>...</td>\n",
       "      <td>...</td>\n",
       "      <td>...</td>\n",
       "      <td>...</td>\n",
       "      <td>...</td>\n",
       "    </tr>\n",
       "    <tr>\n",
       "      <th>9995</th>\n",
       "      <td>771</td>\n",
       "      <td>France</td>\n",
       "      <td>Male</td>\n",
       "      <td>39</td>\n",
       "      <td>0.00</td>\n",
       "      <td>2</td>\n",
       "      <td>0</td>\n",
       "    </tr>\n",
       "    <tr>\n",
       "      <th>9996</th>\n",
       "      <td>516</td>\n",
       "      <td>France</td>\n",
       "      <td>Male</td>\n",
       "      <td>35</td>\n",
       "      <td>57369.61</td>\n",
       "      <td>1</td>\n",
       "      <td>1</td>\n",
       "    </tr>\n",
       "    <tr>\n",
       "      <th>9997</th>\n",
       "      <td>709</td>\n",
       "      <td>France</td>\n",
       "      <td>Female</td>\n",
       "      <td>36</td>\n",
       "      <td>0.00</td>\n",
       "      <td>1</td>\n",
       "      <td>1</td>\n",
       "    </tr>\n",
       "    <tr>\n",
       "      <th>9998</th>\n",
       "      <td>772</td>\n",
       "      <td>Germany</td>\n",
       "      <td>Male</td>\n",
       "      <td>42</td>\n",
       "      <td>75075.31</td>\n",
       "      <td>2</td>\n",
       "      <td>0</td>\n",
       "    </tr>\n",
       "    <tr>\n",
       "      <th>9999</th>\n",
       "      <td>792</td>\n",
       "      <td>France</td>\n",
       "      <td>Female</td>\n",
       "      <td>28</td>\n",
       "      <td>130142.79</td>\n",
       "      <td>1</td>\n",
       "      <td>0</td>\n",
       "    </tr>\n",
       "  </tbody>\n",
       "</table>\n",
       "<p>10000 rows × 7 columns</p>\n",
       "</div>"
      ],
      "text/plain": [
       "      CreditScore Geography  Gender  Age    Balance  NumOfProducts  \\\n",
       "0             619    France  Female   42       0.00              1   \n",
       "1             608     Spain  Female   41   83807.86              1   \n",
       "2             502    France  Female   42  159660.80              3   \n",
       "3             699    France  Female   39       0.00              2   \n",
       "4             850     Spain  Female   43  125510.82              1   \n",
       "...           ...       ...     ...  ...        ...            ...   \n",
       "9995          771    France    Male   39       0.00              2   \n",
       "9996          516    France    Male   35   57369.61              1   \n",
       "9997          709    France  Female   36       0.00              1   \n",
       "9998          772   Germany    Male   42   75075.31              2   \n",
       "9999          792    France  Female   28  130142.79              1   \n",
       "\n",
       "     IsActiveMember  \n",
       "0                 1  \n",
       "1                 1  \n",
       "2                 0  \n",
       "3                 0  \n",
       "4                 1  \n",
       "...             ...  \n",
       "9995              0  \n",
       "9996              1  \n",
       "9997              1  \n",
       "9998              0  \n",
       "9999              0  \n",
       "\n",
       "[10000 rows x 7 columns]"
      ]
     },
     "execution_count": 20,
     "metadata": {},
     "output_type": "execute_result"
    }
   ],
   "source": [
    "X"
   ]
  },
  {
   "cell_type": "code",
   "execution_count": 21,
   "id": "00bd38b0",
   "metadata": {},
   "outputs": [
    {
     "data": {
      "text/plain": [
       "0       1\n",
       "1       0\n",
       "2       1\n",
       "3       0\n",
       "4       0\n",
       "       ..\n",
       "9995    0\n",
       "9996    0\n",
       "9997    1\n",
       "9998    1\n",
       "9999    0\n",
       "Name: Exited, Length: 10000, dtype: object"
      ]
     },
     "execution_count": 21,
     "metadata": {},
     "output_type": "execute_result"
    }
   ],
   "source": [
    "y"
   ]
  },
  {
   "cell_type": "code",
   "execution_count": 22,
   "id": "f8737b8e",
   "metadata": {},
   "outputs": [],
   "source": [
    "from sklearn.model_selection import train_test_split\n",
    "X_train, X_test, y_train, y_test = train_test_split(X, y, test_size=0.20, random_state=42)"
   ]
  },
  {
   "cell_type": "markdown",
   "id": "0cc8d4b0",
   "metadata": {},
   "source": [
    "### I cannot use this to fit my model, I have to do encoding"
   ]
  },
  {
   "cell_type": "markdown",
   "id": "9ebb9dd1",
   "metadata": {},
   "source": [
    "### `Label Encoder`"
   ]
  },
  {
   "cell_type": "code",
   "execution_count": 23,
   "id": "3f9d2a3e",
   "metadata": {},
   "outputs": [],
   "source": [
    "from sklearn.preprocessing import LabelEncoder\n",
    "le = LabelEncoder()\n",
    "le.fit(X_train['Gender'])\n",
    "X_train.loc[:,'Gender'] = le.transform(X_train['Gender'])\n",
    "X_test.loc[:,'Gender'] = le.transform(X_test['Gender'])"
   ]
  },
  {
   "cell_type": "code",
   "execution_count": 24,
   "id": "1775d707",
   "metadata": {},
   "outputs": [
    {
     "data": {
      "text/html": [
       "<div>\n",
       "<style scoped>\n",
       "    .dataframe tbody tr th:only-of-type {\n",
       "        vertical-align: middle;\n",
       "    }\n",
       "\n",
       "    .dataframe tbody tr th {\n",
       "        vertical-align: top;\n",
       "    }\n",
       "\n",
       "    .dataframe thead th {\n",
       "        text-align: right;\n",
       "    }\n",
       "</style>\n",
       "<table border=\"1\" class=\"dataframe\">\n",
       "  <thead>\n",
       "    <tr style=\"text-align: right;\">\n",
       "      <th></th>\n",
       "      <th>CreditScore</th>\n",
       "      <th>Geography</th>\n",
       "      <th>Gender</th>\n",
       "      <th>Age</th>\n",
       "      <th>Balance</th>\n",
       "      <th>NumOfProducts</th>\n",
       "      <th>IsActiveMember</th>\n",
       "    </tr>\n",
       "  </thead>\n",
       "  <tbody>\n",
       "    <tr>\n",
       "      <th>9254</th>\n",
       "      <td>686</td>\n",
       "      <td>France</td>\n",
       "      <td>1</td>\n",
       "      <td>32</td>\n",
       "      <td>0.00</td>\n",
       "      <td>2</td>\n",
       "      <td>1</td>\n",
       "    </tr>\n",
       "    <tr>\n",
       "      <th>1561</th>\n",
       "      <td>632</td>\n",
       "      <td>Germany</td>\n",
       "      <td>1</td>\n",
       "      <td>42</td>\n",
       "      <td>119624.60</td>\n",
       "      <td>2</td>\n",
       "      <td>1</td>\n",
       "    </tr>\n",
       "    <tr>\n",
       "      <th>1670</th>\n",
       "      <td>559</td>\n",
       "      <td>Spain</td>\n",
       "      <td>1</td>\n",
       "      <td>24</td>\n",
       "      <td>114739.92</td>\n",
       "      <td>1</td>\n",
       "      <td>0</td>\n",
       "    </tr>\n",
       "    <tr>\n",
       "      <th>6087</th>\n",
       "      <td>561</td>\n",
       "      <td>France</td>\n",
       "      <td>0</td>\n",
       "      <td>27</td>\n",
       "      <td>135637.00</td>\n",
       "      <td>1</td>\n",
       "      <td>0</td>\n",
       "    </tr>\n",
       "    <tr>\n",
       "      <th>6669</th>\n",
       "      <td>517</td>\n",
       "      <td>France</td>\n",
       "      <td>1</td>\n",
       "      <td>56</td>\n",
       "      <td>142147.32</td>\n",
       "      <td>1</td>\n",
       "      <td>0</td>\n",
       "    </tr>\n",
       "    <tr>\n",
       "      <th>...</th>\n",
       "      <td>...</td>\n",
       "      <td>...</td>\n",
       "      <td>...</td>\n",
       "      <td>...</td>\n",
       "      <td>...</td>\n",
       "      <td>...</td>\n",
       "      <td>...</td>\n",
       "    </tr>\n",
       "    <tr>\n",
       "      <th>5734</th>\n",
       "      <td>768</td>\n",
       "      <td>France</td>\n",
       "      <td>1</td>\n",
       "      <td>54</td>\n",
       "      <td>69712.74</td>\n",
       "      <td>1</td>\n",
       "      <td>1</td>\n",
       "    </tr>\n",
       "    <tr>\n",
       "      <th>5191</th>\n",
       "      <td>682</td>\n",
       "      <td>France</td>\n",
       "      <td>0</td>\n",
       "      <td>58</td>\n",
       "      <td>0.00</td>\n",
       "      <td>1</td>\n",
       "      <td>1</td>\n",
       "    </tr>\n",
       "    <tr>\n",
       "      <th>5390</th>\n",
       "      <td>735</td>\n",
       "      <td>France</td>\n",
       "      <td>0</td>\n",
       "      <td>38</td>\n",
       "      <td>0.00</td>\n",
       "      <td>3</td>\n",
       "      <td>0</td>\n",
       "    </tr>\n",
       "    <tr>\n",
       "      <th>860</th>\n",
       "      <td>667</td>\n",
       "      <td>France</td>\n",
       "      <td>1</td>\n",
       "      <td>43</td>\n",
       "      <td>190227.46</td>\n",
       "      <td>1</td>\n",
       "      <td>0</td>\n",
       "    </tr>\n",
       "    <tr>\n",
       "      <th>7270</th>\n",
       "      <td>697</td>\n",
       "      <td>Germany</td>\n",
       "      <td>1</td>\n",
       "      <td>51</td>\n",
       "      <td>147910.30</td>\n",
       "      <td>1</td>\n",
       "      <td>1</td>\n",
       "    </tr>\n",
       "  </tbody>\n",
       "</table>\n",
       "<p>8000 rows × 7 columns</p>\n",
       "</div>"
      ],
      "text/plain": [
       "      CreditScore Geography  Gender  Age    Balance  NumOfProducts  \\\n",
       "9254          686    France       1   32       0.00              2   \n",
       "1561          632   Germany       1   42  119624.60              2   \n",
       "1670          559     Spain       1   24  114739.92              1   \n",
       "6087          561    France       0   27  135637.00              1   \n",
       "6669          517    France       1   56  142147.32              1   \n",
       "...           ...       ...     ...  ...        ...            ...   \n",
       "5734          768    France       1   54   69712.74              1   \n",
       "5191          682    France       0   58       0.00              1   \n",
       "5390          735    France       0   38       0.00              3   \n",
       "860           667    France       1   43  190227.46              1   \n",
       "7270          697   Germany       1   51  147910.30              1   \n",
       "\n",
       "     IsActiveMember  \n",
       "9254              1  \n",
       "1561              1  \n",
       "1670              0  \n",
       "6087              0  \n",
       "6669              0  \n",
       "...             ...  \n",
       "5734              1  \n",
       "5191              1  \n",
       "5390              0  \n",
       "860               0  \n",
       "7270              1  \n",
       "\n",
       "[8000 rows x 7 columns]"
      ]
     },
     "execution_count": 24,
     "metadata": {},
     "output_type": "execute_result"
    }
   ],
   "source": [
    "X_train"
   ]
  },
  {
   "cell_type": "markdown",
   "id": "3b9f1d11",
   "metadata": {},
   "source": [
    "### `Label Binarizer / One Hot Encoding / dummy variable`"
   ]
  },
  {
   "cell_type": "code",
   "execution_count": 25,
   "id": "7dc42c93",
   "metadata": {},
   "outputs": [
    {
     "data": {
      "text/plain": [
       "LabelBinarizer()"
      ]
     },
     "execution_count": 25,
     "metadata": {},
     "output_type": "execute_result"
    }
   ],
   "source": [
    "from sklearn.preprocessing import LabelBinarizer\n",
    "lb = LabelBinarizer()\n",
    "lb.fit(data['Geography'])"
   ]
  },
  {
   "cell_type": "markdown",
   "id": "ce28b743",
   "metadata": {},
   "source": [
    "### to explain three categories two columns are sufficient, you can drop any"
   ]
  },
  {
   "cell_type": "code",
   "execution_count": 26,
   "id": "a2731416",
   "metadata": {},
   "outputs": [],
   "source": [
    "encoded_df = pd.DataFrame(lb.transform(X_train['Geography']),columns=lb.classes_)\n",
    "encoded_df.drop(['Germany'],axis=1,inplace=True)"
   ]
  },
  {
   "cell_type": "code",
   "execution_count": 27,
   "id": "749c95da",
   "metadata": {},
   "outputs": [
    {
     "data": {
      "text/html": [
       "<div>\n",
       "<style scoped>\n",
       "    .dataframe tbody tr th:only-of-type {\n",
       "        vertical-align: middle;\n",
       "    }\n",
       "\n",
       "    .dataframe tbody tr th {\n",
       "        vertical-align: top;\n",
       "    }\n",
       "\n",
       "    .dataframe thead th {\n",
       "        text-align: right;\n",
       "    }\n",
       "</style>\n",
       "<table border=\"1\" class=\"dataframe\">\n",
       "  <thead>\n",
       "    <tr style=\"text-align: right;\">\n",
       "      <th></th>\n",
       "      <th>index</th>\n",
       "      <th>CreditScore</th>\n",
       "      <th>Geography</th>\n",
       "      <th>Gender</th>\n",
       "      <th>Age</th>\n",
       "      <th>Balance</th>\n",
       "      <th>NumOfProducts</th>\n",
       "      <th>IsActiveMember</th>\n",
       "      <th>France</th>\n",
       "      <th>Spain</th>\n",
       "    </tr>\n",
       "  </thead>\n",
       "  <tbody>\n",
       "    <tr>\n",
       "      <th>0</th>\n",
       "      <td>9254</td>\n",
       "      <td>686</td>\n",
       "      <td>France</td>\n",
       "      <td>1</td>\n",
       "      <td>32</td>\n",
       "      <td>0.00</td>\n",
       "      <td>2</td>\n",
       "      <td>1</td>\n",
       "      <td>1</td>\n",
       "      <td>0</td>\n",
       "    </tr>\n",
       "    <tr>\n",
       "      <th>1</th>\n",
       "      <td>1561</td>\n",
       "      <td>632</td>\n",
       "      <td>Germany</td>\n",
       "      <td>1</td>\n",
       "      <td>42</td>\n",
       "      <td>119624.60</td>\n",
       "      <td>2</td>\n",
       "      <td>1</td>\n",
       "      <td>0</td>\n",
       "      <td>0</td>\n",
       "    </tr>\n",
       "    <tr>\n",
       "      <th>2</th>\n",
       "      <td>1670</td>\n",
       "      <td>559</td>\n",
       "      <td>Spain</td>\n",
       "      <td>1</td>\n",
       "      <td>24</td>\n",
       "      <td>114739.92</td>\n",
       "      <td>1</td>\n",
       "      <td>0</td>\n",
       "      <td>0</td>\n",
       "      <td>1</td>\n",
       "    </tr>\n",
       "    <tr>\n",
       "      <th>3</th>\n",
       "      <td>6087</td>\n",
       "      <td>561</td>\n",
       "      <td>France</td>\n",
       "      <td>0</td>\n",
       "      <td>27</td>\n",
       "      <td>135637.00</td>\n",
       "      <td>1</td>\n",
       "      <td>0</td>\n",
       "      <td>1</td>\n",
       "      <td>0</td>\n",
       "    </tr>\n",
       "    <tr>\n",
       "      <th>4</th>\n",
       "      <td>6669</td>\n",
       "      <td>517</td>\n",
       "      <td>France</td>\n",
       "      <td>1</td>\n",
       "      <td>56</td>\n",
       "      <td>142147.32</td>\n",
       "      <td>1</td>\n",
       "      <td>0</td>\n",
       "      <td>1</td>\n",
       "      <td>0</td>\n",
       "    </tr>\n",
       "    <tr>\n",
       "      <th>...</th>\n",
       "      <td>...</td>\n",
       "      <td>...</td>\n",
       "      <td>...</td>\n",
       "      <td>...</td>\n",
       "      <td>...</td>\n",
       "      <td>...</td>\n",
       "      <td>...</td>\n",
       "      <td>...</td>\n",
       "      <td>...</td>\n",
       "      <td>...</td>\n",
       "    </tr>\n",
       "    <tr>\n",
       "      <th>7995</th>\n",
       "      <td>5734</td>\n",
       "      <td>768</td>\n",
       "      <td>France</td>\n",
       "      <td>1</td>\n",
       "      <td>54</td>\n",
       "      <td>69712.74</td>\n",
       "      <td>1</td>\n",
       "      <td>1</td>\n",
       "      <td>1</td>\n",
       "      <td>0</td>\n",
       "    </tr>\n",
       "    <tr>\n",
       "      <th>7996</th>\n",
       "      <td>5191</td>\n",
       "      <td>682</td>\n",
       "      <td>France</td>\n",
       "      <td>0</td>\n",
       "      <td>58</td>\n",
       "      <td>0.00</td>\n",
       "      <td>1</td>\n",
       "      <td>1</td>\n",
       "      <td>1</td>\n",
       "      <td>0</td>\n",
       "    </tr>\n",
       "    <tr>\n",
       "      <th>7997</th>\n",
       "      <td>5390</td>\n",
       "      <td>735</td>\n",
       "      <td>France</td>\n",
       "      <td>0</td>\n",
       "      <td>38</td>\n",
       "      <td>0.00</td>\n",
       "      <td>3</td>\n",
       "      <td>0</td>\n",
       "      <td>1</td>\n",
       "      <td>0</td>\n",
       "    </tr>\n",
       "    <tr>\n",
       "      <th>7998</th>\n",
       "      <td>860</td>\n",
       "      <td>667</td>\n",
       "      <td>France</td>\n",
       "      <td>1</td>\n",
       "      <td>43</td>\n",
       "      <td>190227.46</td>\n",
       "      <td>1</td>\n",
       "      <td>0</td>\n",
       "      <td>1</td>\n",
       "      <td>0</td>\n",
       "    </tr>\n",
       "    <tr>\n",
       "      <th>7999</th>\n",
       "      <td>7270</td>\n",
       "      <td>697</td>\n",
       "      <td>Germany</td>\n",
       "      <td>1</td>\n",
       "      <td>51</td>\n",
       "      <td>147910.30</td>\n",
       "      <td>1</td>\n",
       "      <td>1</td>\n",
       "      <td>0</td>\n",
       "      <td>0</td>\n",
       "    </tr>\n",
       "  </tbody>\n",
       "</table>\n",
       "<p>8000 rows × 10 columns</p>\n",
       "</div>"
      ],
      "text/plain": [
       "      index  CreditScore Geography  Gender  Age    Balance  NumOfProducts  \\\n",
       "0      9254          686    France       1   32       0.00              2   \n",
       "1      1561          632   Germany       1   42  119624.60              2   \n",
       "2      1670          559     Spain       1   24  114739.92              1   \n",
       "3      6087          561    France       0   27  135637.00              1   \n",
       "4      6669          517    France       1   56  142147.32              1   \n",
       "...     ...          ...       ...     ...  ...        ...            ...   \n",
       "7995   5734          768    France       1   54   69712.74              1   \n",
       "7996   5191          682    France       0   58       0.00              1   \n",
       "7997   5390          735    France       0   38       0.00              3   \n",
       "7998    860          667    France       1   43  190227.46              1   \n",
       "7999   7270          697   Germany       1   51  147910.30              1   \n",
       "\n",
       "     IsActiveMember  France  Spain  \n",
       "0                 1       1      0  \n",
       "1                 1       0      0  \n",
       "2                 0       0      1  \n",
       "3                 0       1      0  \n",
       "4                 0       1      0  \n",
       "...             ...     ...    ...  \n",
       "7995              1       1      0  \n",
       "7996              1       1      0  \n",
       "7997              0       1      0  \n",
       "7998              0       1      0  \n",
       "7999              1       0      0  \n",
       "\n",
       "[8000 rows x 10 columns]"
      ]
     },
     "execution_count": 27,
     "metadata": {},
     "output_type": "execute_result"
    }
   ],
   "source": [
    "X_train = pd.concat([X_train.reset_index(),encoded_df],axis=1)\n",
    "X_train"
   ]
  },
  {
   "cell_type": "code",
   "execution_count": 28,
   "id": "19adf7a2",
   "metadata": {},
   "outputs": [],
   "source": [
    "X_train.drop(['Geography','index'],axis=1,inplace=True)"
   ]
  },
  {
   "cell_type": "code",
   "execution_count": 29,
   "id": "6904808b",
   "metadata": {},
   "outputs": [
    {
     "data": {
      "text/html": [
       "<div>\n",
       "<style scoped>\n",
       "    .dataframe tbody tr th:only-of-type {\n",
       "        vertical-align: middle;\n",
       "    }\n",
       "\n",
       "    .dataframe tbody tr th {\n",
       "        vertical-align: top;\n",
       "    }\n",
       "\n",
       "    .dataframe thead th {\n",
       "        text-align: right;\n",
       "    }\n",
       "</style>\n",
       "<table border=\"1\" class=\"dataframe\">\n",
       "  <thead>\n",
       "    <tr style=\"text-align: right;\">\n",
       "      <th></th>\n",
       "      <th>CreditScore</th>\n",
       "      <th>Gender</th>\n",
       "      <th>Age</th>\n",
       "      <th>Balance</th>\n",
       "      <th>NumOfProducts</th>\n",
       "      <th>IsActiveMember</th>\n",
       "      <th>France</th>\n",
       "      <th>Spain</th>\n",
       "    </tr>\n",
       "  </thead>\n",
       "  <tbody>\n",
       "    <tr>\n",
       "      <th>0</th>\n",
       "      <td>686</td>\n",
       "      <td>1</td>\n",
       "      <td>32</td>\n",
       "      <td>0.00</td>\n",
       "      <td>2</td>\n",
       "      <td>1</td>\n",
       "      <td>1</td>\n",
       "      <td>0</td>\n",
       "    </tr>\n",
       "    <tr>\n",
       "      <th>1</th>\n",
       "      <td>632</td>\n",
       "      <td>1</td>\n",
       "      <td>42</td>\n",
       "      <td>119624.60</td>\n",
       "      <td>2</td>\n",
       "      <td>1</td>\n",
       "      <td>0</td>\n",
       "      <td>0</td>\n",
       "    </tr>\n",
       "    <tr>\n",
       "      <th>2</th>\n",
       "      <td>559</td>\n",
       "      <td>1</td>\n",
       "      <td>24</td>\n",
       "      <td>114739.92</td>\n",
       "      <td>1</td>\n",
       "      <td>0</td>\n",
       "      <td>0</td>\n",
       "      <td>1</td>\n",
       "    </tr>\n",
       "    <tr>\n",
       "      <th>3</th>\n",
       "      <td>561</td>\n",
       "      <td>0</td>\n",
       "      <td>27</td>\n",
       "      <td>135637.00</td>\n",
       "      <td>1</td>\n",
       "      <td>0</td>\n",
       "      <td>1</td>\n",
       "      <td>0</td>\n",
       "    </tr>\n",
       "    <tr>\n",
       "      <th>4</th>\n",
       "      <td>517</td>\n",
       "      <td>1</td>\n",
       "      <td>56</td>\n",
       "      <td>142147.32</td>\n",
       "      <td>1</td>\n",
       "      <td>0</td>\n",
       "      <td>1</td>\n",
       "      <td>0</td>\n",
       "    </tr>\n",
       "    <tr>\n",
       "      <th>...</th>\n",
       "      <td>...</td>\n",
       "      <td>...</td>\n",
       "      <td>...</td>\n",
       "      <td>...</td>\n",
       "      <td>...</td>\n",
       "      <td>...</td>\n",
       "      <td>...</td>\n",
       "      <td>...</td>\n",
       "    </tr>\n",
       "    <tr>\n",
       "      <th>7995</th>\n",
       "      <td>768</td>\n",
       "      <td>1</td>\n",
       "      <td>54</td>\n",
       "      <td>69712.74</td>\n",
       "      <td>1</td>\n",
       "      <td>1</td>\n",
       "      <td>1</td>\n",
       "      <td>0</td>\n",
       "    </tr>\n",
       "    <tr>\n",
       "      <th>7996</th>\n",
       "      <td>682</td>\n",
       "      <td>0</td>\n",
       "      <td>58</td>\n",
       "      <td>0.00</td>\n",
       "      <td>1</td>\n",
       "      <td>1</td>\n",
       "      <td>1</td>\n",
       "      <td>0</td>\n",
       "    </tr>\n",
       "    <tr>\n",
       "      <th>7997</th>\n",
       "      <td>735</td>\n",
       "      <td>0</td>\n",
       "      <td>38</td>\n",
       "      <td>0.00</td>\n",
       "      <td>3</td>\n",
       "      <td>0</td>\n",
       "      <td>1</td>\n",
       "      <td>0</td>\n",
       "    </tr>\n",
       "    <tr>\n",
       "      <th>7998</th>\n",
       "      <td>667</td>\n",
       "      <td>1</td>\n",
       "      <td>43</td>\n",
       "      <td>190227.46</td>\n",
       "      <td>1</td>\n",
       "      <td>0</td>\n",
       "      <td>1</td>\n",
       "      <td>0</td>\n",
       "    </tr>\n",
       "    <tr>\n",
       "      <th>7999</th>\n",
       "      <td>697</td>\n",
       "      <td>1</td>\n",
       "      <td>51</td>\n",
       "      <td>147910.30</td>\n",
       "      <td>1</td>\n",
       "      <td>1</td>\n",
       "      <td>0</td>\n",
       "      <td>0</td>\n",
       "    </tr>\n",
       "  </tbody>\n",
       "</table>\n",
       "<p>8000 rows × 8 columns</p>\n",
       "</div>"
      ],
      "text/plain": [
       "      CreditScore  Gender  Age    Balance  NumOfProducts IsActiveMember  \\\n",
       "0             686       1   32       0.00              2              1   \n",
       "1             632       1   42  119624.60              2              1   \n",
       "2             559       1   24  114739.92              1              0   \n",
       "3             561       0   27  135637.00              1              0   \n",
       "4             517       1   56  142147.32              1              0   \n",
       "...           ...     ...  ...        ...            ...            ...   \n",
       "7995          768       1   54   69712.74              1              1   \n",
       "7996          682       0   58       0.00              1              1   \n",
       "7997          735       0   38       0.00              3              0   \n",
       "7998          667       1   43  190227.46              1              0   \n",
       "7999          697       1   51  147910.30              1              1   \n",
       "\n",
       "      France  Spain  \n",
       "0          1      0  \n",
       "1          0      0  \n",
       "2          0      1  \n",
       "3          1      0  \n",
       "4          1      0  \n",
       "...      ...    ...  \n",
       "7995       1      0  \n",
       "7996       1      0  \n",
       "7997       1      0  \n",
       "7998       1      0  \n",
       "7999       0      0  \n",
       "\n",
       "[8000 rows x 8 columns]"
      ]
     },
     "execution_count": 29,
     "metadata": {},
     "output_type": "execute_result"
    }
   ],
   "source": [
    "X_train"
   ]
  },
  {
   "cell_type": "markdown",
   "id": "bd14990a",
   "metadata": {},
   "source": [
    "### Similarly this to be done for test data"
   ]
  },
  {
   "cell_type": "code",
   "execution_count": 30,
   "id": "f8537c19",
   "metadata": {},
   "outputs": [],
   "source": [
    "encoded_df = pd.DataFrame(lb.transform(X_test['Geography']),columns=lb.classes_)\n",
    "X_test = pd.concat([X_test.reset_index(),encoded_df],axis=1)\n",
    "X_test.drop(['Geography','Germany','index'],axis=1,inplace=True)"
   ]
  },
  {
   "cell_type": "code",
   "execution_count": 31,
   "id": "1b2ccec9",
   "metadata": {},
   "outputs": [
    {
     "data": {
      "text/html": [
       "<div>\n",
       "<style scoped>\n",
       "    .dataframe tbody tr th:only-of-type {\n",
       "        vertical-align: middle;\n",
       "    }\n",
       "\n",
       "    .dataframe tbody tr th {\n",
       "        vertical-align: top;\n",
       "    }\n",
       "\n",
       "    .dataframe thead th {\n",
       "        text-align: right;\n",
       "    }\n",
       "</style>\n",
       "<table border=\"1\" class=\"dataframe\">\n",
       "  <thead>\n",
       "    <tr style=\"text-align: right;\">\n",
       "      <th></th>\n",
       "      <th>CreditScore</th>\n",
       "      <th>Gender</th>\n",
       "      <th>Age</th>\n",
       "      <th>Balance</th>\n",
       "      <th>NumOfProducts</th>\n",
       "      <th>IsActiveMember</th>\n",
       "      <th>France</th>\n",
       "      <th>Spain</th>\n",
       "    </tr>\n",
       "  </thead>\n",
       "  <tbody>\n",
       "    <tr>\n",
       "      <th>0</th>\n",
       "      <td>596</td>\n",
       "      <td>1</td>\n",
       "      <td>32</td>\n",
       "      <td>96709.07</td>\n",
       "      <td>2</td>\n",
       "      <td>0</td>\n",
       "      <td>0</td>\n",
       "      <td>0</td>\n",
       "    </tr>\n",
       "    <tr>\n",
       "      <th>1</th>\n",
       "      <td>623</td>\n",
       "      <td>1</td>\n",
       "      <td>43</td>\n",
       "      <td>0.00</td>\n",
       "      <td>2</td>\n",
       "      <td>1</td>\n",
       "      <td>1</td>\n",
       "      <td>0</td>\n",
       "    </tr>\n",
       "    <tr>\n",
       "      <th>2</th>\n",
       "      <td>601</td>\n",
       "      <td>0</td>\n",
       "      <td>44</td>\n",
       "      <td>0.00</td>\n",
       "      <td>2</td>\n",
       "      <td>0</td>\n",
       "      <td>0</td>\n",
       "      <td>1</td>\n",
       "    </tr>\n",
       "    <tr>\n",
       "      <th>3</th>\n",
       "      <td>506</td>\n",
       "      <td>1</td>\n",
       "      <td>59</td>\n",
       "      <td>119152.10</td>\n",
       "      <td>2</td>\n",
       "      <td>1</td>\n",
       "      <td>0</td>\n",
       "      <td>0</td>\n",
       "    </tr>\n",
       "    <tr>\n",
       "      <th>4</th>\n",
       "      <td>560</td>\n",
       "      <td>0</td>\n",
       "      <td>27</td>\n",
       "      <td>124995.98</td>\n",
       "      <td>1</td>\n",
       "      <td>1</td>\n",
       "      <td>0</td>\n",
       "      <td>1</td>\n",
       "    </tr>\n",
       "    <tr>\n",
       "      <th>...</th>\n",
       "      <td>...</td>\n",
       "      <td>...</td>\n",
       "      <td>...</td>\n",
       "      <td>...</td>\n",
       "      <td>...</td>\n",
       "      <td>...</td>\n",
       "      <td>...</td>\n",
       "      <td>...</td>\n",
       "    </tr>\n",
       "    <tr>\n",
       "      <th>1995</th>\n",
       "      <td>602</td>\n",
       "      <td>0</td>\n",
       "      <td>53</td>\n",
       "      <td>98268.84</td>\n",
       "      <td>1</td>\n",
       "      <td>1</td>\n",
       "      <td>0</td>\n",
       "      <td>0</td>\n",
       "    </tr>\n",
       "    <tr>\n",
       "      <th>1996</th>\n",
       "      <td>609</td>\n",
       "      <td>1</td>\n",
       "      <td>25</td>\n",
       "      <td>0.00</td>\n",
       "      <td>1</td>\n",
       "      <td>1</td>\n",
       "      <td>1</td>\n",
       "      <td>0</td>\n",
       "    </tr>\n",
       "    <tr>\n",
       "      <th>1997</th>\n",
       "      <td>730</td>\n",
       "      <td>0</td>\n",
       "      <td>47</td>\n",
       "      <td>0.00</td>\n",
       "      <td>1</td>\n",
       "      <td>0</td>\n",
       "      <td>1</td>\n",
       "      <td>0</td>\n",
       "    </tr>\n",
       "    <tr>\n",
       "      <th>1998</th>\n",
       "      <td>692</td>\n",
       "      <td>1</td>\n",
       "      <td>29</td>\n",
       "      <td>0.00</td>\n",
       "      <td>1</td>\n",
       "      <td>0</td>\n",
       "      <td>1</td>\n",
       "      <td>0</td>\n",
       "    </tr>\n",
       "    <tr>\n",
       "      <th>1999</th>\n",
       "      <td>628</td>\n",
       "      <td>1</td>\n",
       "      <td>39</td>\n",
       "      <td>115341.19</td>\n",
       "      <td>1</td>\n",
       "      <td>1</td>\n",
       "      <td>0</td>\n",
       "      <td>0</td>\n",
       "    </tr>\n",
       "  </tbody>\n",
       "</table>\n",
       "<p>2000 rows × 8 columns</p>\n",
       "</div>"
      ],
      "text/plain": [
       "      CreditScore  Gender  Age    Balance  NumOfProducts IsActiveMember  \\\n",
       "0             596       1   32   96709.07              2              0   \n",
       "1             623       1   43       0.00              2              1   \n",
       "2             601       0   44       0.00              2              0   \n",
       "3             506       1   59  119152.10              2              1   \n",
       "4             560       0   27  124995.98              1              1   \n",
       "...           ...     ...  ...        ...            ...            ...   \n",
       "1995          602       0   53   98268.84              1              1   \n",
       "1996          609       1   25       0.00              1              1   \n",
       "1997          730       0   47       0.00              1              0   \n",
       "1998          692       1   29       0.00              1              0   \n",
       "1999          628       1   39  115341.19              1              1   \n",
       "\n",
       "      France  Spain  \n",
       "0          0      0  \n",
       "1          1      0  \n",
       "2          0      1  \n",
       "3          0      0  \n",
       "4          0      1  \n",
       "...      ...    ...  \n",
       "1995       0      0  \n",
       "1996       1      0  \n",
       "1997       1      0  \n",
       "1998       1      0  \n",
       "1999       0      0  \n",
       "\n",
       "[2000 rows x 8 columns]"
      ]
     },
     "execution_count": 31,
     "metadata": {},
     "output_type": "execute_result"
    }
   ],
   "source": [
    "X_test"
   ]
  },
  {
   "cell_type": "markdown",
   "id": "c43ea9ca",
   "metadata": {},
   "source": [
    "### Now Scaling of the data"
   ]
  },
  {
   "cell_type": "code",
   "execution_count": 32,
   "id": "34f2cd23",
   "metadata": {},
   "outputs": [
    {
     "data": {
      "text/plain": [
       "StandardScaler()"
      ]
     },
     "execution_count": 32,
     "metadata": {},
     "output_type": "execute_result"
    }
   ],
   "source": [
    "from sklearn.preprocessing import StandardScaler\n",
    "sc = StandardScaler()\n",
    "sc.fit(X_train[['CreditScore','Age','Balance']])"
   ]
  },
  {
   "cell_type": "code",
   "execution_count": 33,
   "id": "18225117",
   "metadata": {},
   "outputs": [],
   "source": [
    "X_train[['CreditScore','Age','Balance']] = sc.transform(X_train[['CreditScore','Age','Balance']])\n",
    "X_test[['CreditScore','Age','Balance']] = sc.transform(X_test[['CreditScore','Age','Balance']])"
   ]
  },
  {
   "cell_type": "code",
   "execution_count": 34,
   "id": "eee25348",
   "metadata": {},
   "outputs": [
    {
     "data": {
      "text/html": [
       "<div>\n",
       "<style scoped>\n",
       "    .dataframe tbody tr th:only-of-type {\n",
       "        vertical-align: middle;\n",
       "    }\n",
       "\n",
       "    .dataframe tbody tr th {\n",
       "        vertical-align: top;\n",
       "    }\n",
       "\n",
       "    .dataframe thead th {\n",
       "        text-align: right;\n",
       "    }\n",
       "</style>\n",
       "<table border=\"1\" class=\"dataframe\">\n",
       "  <thead>\n",
       "    <tr style=\"text-align: right;\">\n",
       "      <th></th>\n",
       "      <th>CreditScore</th>\n",
       "      <th>Gender</th>\n",
       "      <th>Age</th>\n",
       "      <th>Balance</th>\n",
       "      <th>NumOfProducts</th>\n",
       "      <th>IsActiveMember</th>\n",
       "      <th>France</th>\n",
       "      <th>Spain</th>\n",
       "    </tr>\n",
       "  </thead>\n",
       "  <tbody>\n",
       "    <tr>\n",
       "      <th>0</th>\n",
       "      <td>0.356500</td>\n",
       "      <td>1</td>\n",
       "      <td>-0.655786</td>\n",
       "      <td>-1.218471</td>\n",
       "      <td>2</td>\n",
       "      <td>1</td>\n",
       "      <td>1</td>\n",
       "      <td>0</td>\n",
       "    </tr>\n",
       "    <tr>\n",
       "      <th>1</th>\n",
       "      <td>-0.203898</td>\n",
       "      <td>1</td>\n",
       "      <td>0.294938</td>\n",
       "      <td>0.696838</td>\n",
       "      <td>2</td>\n",
       "      <td>1</td>\n",
       "      <td>0</td>\n",
       "      <td>0</td>\n",
       "    </tr>\n",
       "    <tr>\n",
       "      <th>2</th>\n",
       "      <td>-0.961472</td>\n",
       "      <td>1</td>\n",
       "      <td>-1.416365</td>\n",
       "      <td>0.618629</td>\n",
       "      <td>1</td>\n",
       "      <td>0</td>\n",
       "      <td>0</td>\n",
       "      <td>1</td>\n",
       "    </tr>\n",
       "    <tr>\n",
       "      <th>3</th>\n",
       "      <td>-0.940717</td>\n",
       "      <td>0</td>\n",
       "      <td>-1.131148</td>\n",
       "      <td>0.953212</td>\n",
       "      <td>1</td>\n",
       "      <td>0</td>\n",
       "      <td>1</td>\n",
       "      <td>0</td>\n",
       "    </tr>\n",
       "    <tr>\n",
       "      <th>4</th>\n",
       "      <td>-1.397337</td>\n",
       "      <td>1</td>\n",
       "      <td>1.625953</td>\n",
       "      <td>1.057449</td>\n",
       "      <td>1</td>\n",
       "      <td>0</td>\n",
       "      <td>1</td>\n",
       "      <td>0</td>\n",
       "    </tr>\n",
       "    <tr>\n",
       "      <th>...</th>\n",
       "      <td>...</td>\n",
       "      <td>...</td>\n",
       "      <td>...</td>\n",
       "      <td>...</td>\n",
       "      <td>...</td>\n",
       "      <td>...</td>\n",
       "      <td>...</td>\n",
       "      <td>...</td>\n",
       "    </tr>\n",
       "    <tr>\n",
       "      <th>7995</th>\n",
       "      <td>1.207474</td>\n",
       "      <td>1</td>\n",
       "      <td>1.435808</td>\n",
       "      <td>-0.102301</td>\n",
       "      <td>1</td>\n",
       "      <td>1</td>\n",
       "      <td>1</td>\n",
       "      <td>0</td>\n",
       "    </tr>\n",
       "    <tr>\n",
       "      <th>7996</th>\n",
       "      <td>0.314989</td>\n",
       "      <td>0</td>\n",
       "      <td>1.816097</td>\n",
       "      <td>-1.218471</td>\n",
       "      <td>1</td>\n",
       "      <td>1</td>\n",
       "      <td>1</td>\n",
       "      <td>0</td>\n",
       "    </tr>\n",
       "    <tr>\n",
       "      <th>7997</th>\n",
       "      <td>0.865009</td>\n",
       "      <td>0</td>\n",
       "      <td>-0.085351</td>\n",
       "      <td>-1.218471</td>\n",
       "      <td>3</td>\n",
       "      <td>0</td>\n",
       "      <td>1</td>\n",
       "      <td>0</td>\n",
       "    </tr>\n",
       "    <tr>\n",
       "      <th>7998</th>\n",
       "      <td>0.159323</td>\n",
       "      <td>1</td>\n",
       "      <td>0.390011</td>\n",
       "      <td>1.827259</td>\n",
       "      <td>1</td>\n",
       "      <td>0</td>\n",
       "      <td>1</td>\n",
       "      <td>0</td>\n",
       "    </tr>\n",
       "    <tr>\n",
       "      <th>7999</th>\n",
       "      <td>0.470655</td>\n",
       "      <td>1</td>\n",
       "      <td>1.150590</td>\n",
       "      <td>1.149720</td>\n",
       "      <td>1</td>\n",
       "      <td>1</td>\n",
       "      <td>0</td>\n",
       "      <td>0</td>\n",
       "    </tr>\n",
       "  </tbody>\n",
       "</table>\n",
       "<p>8000 rows × 8 columns</p>\n",
       "</div>"
      ],
      "text/plain": [
       "      CreditScore  Gender       Age   Balance  NumOfProducts IsActiveMember  \\\n",
       "0        0.356500       1 -0.655786 -1.218471              2              1   \n",
       "1       -0.203898       1  0.294938  0.696838              2              1   \n",
       "2       -0.961472       1 -1.416365  0.618629              1              0   \n",
       "3       -0.940717       0 -1.131148  0.953212              1              0   \n",
       "4       -1.397337       1  1.625953  1.057449              1              0   \n",
       "...           ...     ...       ...       ...            ...            ...   \n",
       "7995     1.207474       1  1.435808 -0.102301              1              1   \n",
       "7996     0.314989       0  1.816097 -1.218471              1              1   \n",
       "7997     0.865009       0 -0.085351 -1.218471              3              0   \n",
       "7998     0.159323       1  0.390011  1.827259              1              0   \n",
       "7999     0.470655       1  1.150590  1.149720              1              1   \n",
       "\n",
       "      France  Spain  \n",
       "0          1      0  \n",
       "1          0      0  \n",
       "2          0      1  \n",
       "3          1      0  \n",
       "4          1      0  \n",
       "...      ...    ...  \n",
       "7995       1      0  \n",
       "7996       1      0  \n",
       "7997       1      0  \n",
       "7998       1      0  \n",
       "7999       0      0  \n",
       "\n",
       "[8000 rows x 8 columns]"
      ]
     },
     "execution_count": 34,
     "metadata": {},
     "output_type": "execute_result"
    }
   ],
   "source": [
    "X_train"
   ]
  },
  {
   "cell_type": "markdown",
   "id": "070b0f5c",
   "metadata": {},
   "source": [
    "### Logistic Regression"
   ]
  },
  {
   "cell_type": "markdown",
   "id": "d92f618e",
   "metadata": {},
   "source": [
    "## `*** Sklearn logistic regression internally uses gradient descent ***`"
   ]
  },
  {
   "cell_type": "code",
   "execution_count": 35,
   "id": "c04ca29e",
   "metadata": {},
   "outputs": [
    {
     "data": {
      "text/plain": [
       "LogisticRegression()"
      ]
     },
     "execution_count": 35,
     "metadata": {},
     "output_type": "execute_result"
    }
   ],
   "source": [
    "from sklearn.linear_model import LogisticRegression\n",
    "model = LogisticRegression()\n",
    "model.fit(X_train,y_train.astype(int))"
   ]
  },
  {
   "cell_type": "code",
   "execution_count": 36,
   "id": "154d0401",
   "metadata": {},
   "outputs": [],
   "source": [
    "y_pred = model.predict(X_test)"
   ]
  },
  {
   "cell_type": "code",
   "execution_count": 37,
   "id": "fbc8a3d8",
   "metadata": {},
   "outputs": [
    {
     "data": {
      "text/plain": [
       "array([[0.77343875, 0.22656125],\n",
       "       [0.9270735 , 0.0729265 ],\n",
       "       [0.6834002 , 0.3165998 ],\n",
       "       ...,\n",
       "       [0.65328361, 0.34671639],\n",
       "       [0.91898443, 0.08101557],\n",
       "       [0.83981054, 0.16018946]])"
      ]
     },
     "execution_count": 37,
     "metadata": {},
     "output_type": "execute_result"
    }
   ],
   "source": [
    "y_pred_proba = model.predict_proba(X_test)\n",
    "y_pred_proba"
   ]
  },
  {
   "cell_type": "code",
   "execution_count": 38,
   "id": "dea806cf",
   "metadata": {},
   "outputs": [
    {
     "name": "stdout",
     "output_type": "stream",
     "text": [
      "Confusion matrix =>\n",
      " [[1541   66]\n",
      " [ 311   82]]\n",
      "Accuracy => 0.8115\n"
     ]
    }
   ],
   "source": [
    "from sklearn.metrics import accuracy_score, confusion_matrix\n",
    "print(f'Confusion matrix =>\\n {confusion_matrix(y_test.astype(int),y_pred)}')\n",
    "print(f'Accuracy => {accuracy_score(y_test.astype(int),y_pred)}')"
   ]
  },
  {
   "cell_type": "markdown",
   "id": "d3893d48",
   "metadata": {},
   "source": [
    "### Here we get only 81% accuracy,Now I am going to improvise accuracy, for that I have to go for univariate analysis\n",
    "### Manual Threshold Finding"
   ]
  },
  {
   "cell_type": "code",
   "execution_count": 39,
   "id": "564f0c12",
   "metadata": {},
   "outputs": [
    {
     "data": {
      "text/plain": [
       "<AxesSubplot:xlabel='Exited', ylabel='count'>"
      ]
     },
     "execution_count": 39,
     "metadata": {},
     "output_type": "execute_result"
    },
    {
     "data": {
      "image/png": "[encoded data removed]",
      "text/plain": [
       "<Figure size 432x288 with 1 Axes>"
      ]
     },
     "metadata": {
      "needs_background": "light"
     },
     "output_type": "display_data"
    }
   ],
   "source": [
    "import seaborn as sns\n",
    "sns.countplot(data['Exited'])"
   ]
  },
  {
   "cell_type": "markdown",
   "id": "efac84fe",
   "metadata": {},
   "source": [
    "### We want probabilities of .5 to give model the fair chance, but the actual probabilities are"
   ]
  },
  {
   "cell_type": "code",
   "execution_count": 40,
   "id": "65cc5c51",
   "metadata": {},
   "outputs": [
    {
     "data": {
      "text/plain": [
       "0    0.7963\n",
       "1    0.2037\n",
       "Name: Exited, dtype: float64"
      ]
     },
     "execution_count": 40,
     "metadata": {},
     "output_type": "execute_result"
    }
   ],
   "source": [
    "data['Exited'].value_counts() / data.shape[0]"
   ]
  },
  {
   "cell_type": "code",
   "execution_count": 41,
   "id": "350464a3",
   "metadata": {},
   "outputs": [
    {
     "data": {
      "text/plain": [
       "array([[0.77343875, 0.22656125],\n",
       "       [0.9270735 , 0.0729265 ],\n",
       "       [0.6834002 , 0.3165998 ],\n",
       "       ...,\n",
       "       [0.65328361, 0.34671639],\n",
       "       [0.91898443, 0.08101557],\n",
       "       [0.83981054, 0.16018946]])"
      ]
     },
     "execution_count": 41,
     "metadata": {},
     "output_type": "execute_result"
    }
   ],
   "source": [
    "y_pred_proba = model.predict_proba(X_test)\n",
    "y_pred_proba"
   ]
  },
  {
   "cell_type": "markdown",
   "id": "fdf3b03f",
   "metadata": {},
   "source": [
    "### We manually fixed .796 as threshold"
   ]
  },
  {
   "cell_type": "code",
   "execution_count": 42,
   "id": "b68d854f",
   "metadata": {},
   "outputs": [],
   "source": [
    "import numpy as np\n",
    "y_pred = np.where(y_pred_proba[:,1]<.796,0,1)"
   ]
  },
  {
   "cell_type": "code",
   "execution_count": 43,
   "id": "11a07cf5",
   "metadata": {},
   "outputs": [
    {
     "name": "stdout",
     "output_type": "stream",
     "text": [
      "Confusion matrix =>\n",
      " [[1604    3]\n",
      " [ 386    7]]\n",
      "Accuracy => 0.8055\n"
     ]
    }
   ],
   "source": [
    "from sklearn.metrics import accuracy_score, confusion_matrix\n",
    "print(f'Confusion matrix =>\\n {confusion_matrix(y_test.astype(int),y_pred)}')\n",
    "print(f'Accuracy => {accuracy_score(y_test.astype(int),y_pred)}')"
   ]
  },
  {
   "cell_type": "markdown",
   "id": "91f8c3e4",
   "metadata": {},
   "source": [
    "### but it reduced accuracy, so adjust probaibility manually to get better accuracy\n",
    "### `Finding adjust threshold to get better accuracy`"
   ]
  },
  {
   "cell_type": "code",
   "execution_count": 44,
   "id": "edf47137",
   "metadata": {},
   "outputs": [
    {
     "name": "stdout",
     "output_type": "stream",
     "text": [
      "Confusion matrix =>\n",
      " [[1604    3]\n",
      " [ 384    9]]\n",
      "Accuracy => 0.8065\n"
     ]
    }
   ],
   "source": [
    "y_pred = np.where(y_pred_proba[:,1]<.78,0,1)\n",
    "from sklearn.metrics import accuracy_score, confusion_matrix\n",
    "print(f'Confusion matrix =>\\n {confusion_matrix(y_test.astype(int),y_pred)}')\n",
    "print(f'Accuracy => {accuracy_score(y_test.astype(int),y_pred)}')"
   ]
  },
  {
   "cell_type": "code",
   "execution_count": 45,
   "id": "25137be8",
   "metadata": {},
   "outputs": [
    {
     "name": "stdout",
     "output_type": "stream",
     "text": [
      "Confusion matrix =>\n",
      " [[1603    4]\n",
      " [ 382   11]]\n",
      "Accuracy => 0.807\n"
     ]
    }
   ],
   "source": [
    "y_pred = np.where(y_pred_proba[:,1]<.75,0,1)\n",
    "from sklearn.metrics import accuracy_score, confusion_matrix\n",
    "print(f'Confusion matrix =>\\n {confusion_matrix(y_test.astype(int),y_pred)}')\n",
    "print(f'Accuracy => {accuracy_score(y_test.astype(int),y_pred)}')"
   ]
  },
  {
   "cell_type": "code",
   "execution_count": 46,
   "id": "fc7863bd",
   "metadata": {},
   "outputs": [
    {
     "name": "stdout",
     "output_type": "stream",
     "text": [
      "Confusion matrix =>\n",
      " [[1597   10]\n",
      " [ 374   19]]\n",
      "Accuracy => 0.808\n"
     ]
    }
   ],
   "source": [
    "y_pred = np.where(y_pred_proba[:,1]<.70,0,1)\n",
    "from sklearn.metrics import accuracy_score, confusion_matrix\n",
    "print(f'Confusion matrix =>\\n {confusion_matrix(y_test.astype(int),y_pred)}')\n",
    "print(f'Accuracy => {accuracy_score(y_test.astype(int),y_pred)}')"
   ]
  },
  {
   "cell_type": "markdown",
   "id": "ba9c70ca",
   "metadata": {},
   "source": [
    "## `ROC and AUC`\n",
    "![](https://www.kdnuggets.com/wp-content/uploads/nagesh-metrics-1.png)\n",
    "![](https://keytodatascience.com/wp-content/uploads/2019/09/accuracy.jpg)"
   ]
  },
  {
   "cell_type": "markdown",
   "id": "357aee49",
   "metadata": {},
   "source": [
    "### Accuracy"
   ]
  },
  {
   "cell_type": "code",
   "execution_count": 47,
   "id": "1bcc93ea",
   "metadata": {},
   "outputs": [
    {
     "data": {
      "text/plain": [
       "0.808"
      ]
     },
     "execution_count": 47,
     "metadata": {},
     "output_type": "execute_result"
    }
   ],
   "source": [
    "accuracy = (19+1597)/len(y_test)\n",
    "accuracy"
   ]
  },
  {
   "cell_type": "markdown",
   "id": "87598ae1",
   "metadata": {},
   "source": [
    "### True positive rate / Recall / Sensitivity = TP / ( FN + TP )"
   ]
  },
  {
   "cell_type": "code",
   "execution_count": 48,
   "id": "9f1d3886",
   "metadata": {},
   "outputs": [
    {
     "data": {
      "text/plain": [
       "0.04834605597964377"
      ]
     },
     "execution_count": 48,
     "metadata": {},
     "output_type": "execute_result"
    }
   ],
   "source": [
    "true_positive_rate = 19 / (374+19)\n",
    "true_positive_rate"
   ]
  },
  {
   "cell_type": "markdown",
   "id": "5dc8ee94",
   "metadata": {},
   "source": [
    "### False positive rate = FP / ( TN + FP )"
   ]
  },
  {
   "cell_type": "code",
   "execution_count": 49,
   "id": "b962672c",
   "metadata": {},
   "outputs": [
    {
     "data": {
      "text/plain": [
       "0.006222775357809583"
      ]
     },
     "execution_count": 49,
     "metadata": {},
     "output_type": "execute_result"
    }
   ],
   "source": [
    "false_positive_rate = 10 / (1597+10)\n",
    "false_positive_rate"
   ]
  },
  {
   "cell_type": "markdown",
   "id": "0354daf3",
   "metadata": {},
   "source": [
    "### `Finding Threshold using ROC and checking algo performance by AUC`"
   ]
  },
  {
   "cell_type": "code",
   "execution_count": 50,
   "id": "a0ed763e",
   "metadata": {},
   "outputs": [
    {
     "data": {
      "image/png": "[encoded data removed]",
      "text/plain": [
       "<Figure size 432x288 with 1 Axes>"
      ]
     },
     "metadata": {
      "needs_background": "light"
     },
     "output_type": "display_data"
    },
    {
     "name": "stdout",
     "output_type": "stream",
     "text": [
      "AUC is => 0.7787700439077764\n"
     ]
    }
   ],
   "source": [
    "from sklearn.metrics import roc_curve,roc_auc_score\n",
    "import matplotlib.pyplot as plt\n",
    "\n",
    "\n",
    "ns_prob = [0 for _ in range(len(y_test))]  # bad algo\n",
    "ns_fpr,ns_tpr,thresholds_1 = roc_curve(y_test.astype(int),ns_prob)\n",
    "\n",
    "lr_prob = y_pred_proba[:,1]\n",
    "lr_auc = roc_auc_score(y_test.astype(int),lr_prob)   # logistic regression\n",
    "lr_fpr,lr_tpr,thesholds_2 = roc_curve(y_test.astype(int),lr_prob)\n",
    "\n",
    "# plotting\n",
    "plt.plot(lr_fpr,lr_tpr,marker='.',label='Logistic Regression')\n",
    "plt.plot(ns_fpr,ns_tpr,marker='.',label='Bad Random Algo')\n",
    "plt.xlabel('False Positive Rate')\n",
    "plt.ylabel('True Positive Rate')\n",
    "plt.legend()\n",
    "plt.show()\n",
    "\n",
    "\n",
    "print(f'AUC is => {lr_auc}')"
   ]
  },
  {
   "cell_type": "code",
   "execution_count": 51,
   "id": "ff1a4335",
   "metadata": {},
   "outputs": [
    {
     "data": {
      "text/plain": [
       "array([1, 0])"
      ]
     },
     "execution_count": 51,
     "metadata": {},
     "output_type": "execute_result"
    }
   ],
   "source": [
    "thresholds_1"
   ]
  },
  {
   "cell_type": "code",
   "execution_count": 52,
   "id": "85489fd1",
   "metadata": {},
   "outputs": [
    {
     "data": {
      "text/plain": [
       "array([1.92207688, 0.92207688, 0.86887367, 0.83174409, 0.82794247,\n",
       "       0.78148675, 0.77534753, 0.75913381, 0.74991171, 0.72594699,\n",
       "       0.72362128, 0.71225512, 0.70768365, 0.70375175, 0.70096173,\n",
       "       0.6998165 , 0.68715935, 0.68678589, 0.68531529, 0.67797922,\n",
       "       0.67480474, 0.6602765 , 0.65415205, 0.65342123, 0.65136943,\n",
       "       0.63531752, 0.63456397, 0.63055445, 0.62426775, 0.62303215,\n",
       "       0.62265459, 0.61674618, 0.61066627, 0.60819264, 0.60388239,\n",
       "       0.58857793, 0.58367199, 0.58052139, 0.57243734, 0.572257  ,\n",
       "       0.5721055 , 0.57099319, 0.56810717, 0.56804393, 0.56192973,\n",
       "       0.55712814, 0.55712067, 0.55671395, 0.55381687, 0.55261199,\n",
       "       0.55124636, 0.54840384, 0.54761071, 0.54096414, 0.53593511,\n",
       "       0.53484024, 0.53460365, 0.53453276, 0.52820521, 0.52667325,\n",
       "       0.52648547, 0.52422107, 0.52317016, 0.52248389, 0.51812809,\n",
       "       0.5138529 , 0.51076392, 0.50924189, 0.50509782, 0.50387028,\n",
       "       0.50183963, 0.50155256, 0.49886385, 0.49020112, 0.48830682,\n",
       "       0.48727356, 0.48559426, 0.48409384, 0.4832533 , 0.48286371,\n",
       "       0.47793445, 0.47778716, 0.47478207, 0.47220952, 0.47191528,\n",
       "       0.47161597, 0.47146487, 0.46927807, 0.46333985, 0.46307929,\n",
       "       0.45933945, 0.45843863, 0.454076  , 0.45124454, 0.45024518,\n",
       "       0.44533026, 0.44418356, 0.44282391, 0.44202391, 0.44114701,\n",
       "       0.4396477 , 0.43790127, 0.43637933, 0.43451436, 0.43438393,\n",
       "       0.43117483, 0.42776654, 0.42711492, 0.42676906, 0.4265256 ,\n",
       "       0.42596973, 0.42248665, 0.42128668, 0.41904375, 0.41653921,\n",
       "       0.41598105, 0.41466264, 0.41316735, 0.4127088 , 0.41244461,\n",
       "       0.40928595, 0.40500478, 0.4041515 , 0.40370498, 0.40328974,\n",
       "       0.40041903, 0.40039418, 0.39949897, 0.39572286, 0.39503084,\n",
       "       0.39368781, 0.39266184, 0.39072958, 0.39062855, 0.38926339,\n",
       "       0.38884397, 0.38561124, 0.38527264, 0.38432146, 0.38107891,\n",
       "       0.38101449, 0.3799107 , 0.37856056, 0.37839854, 0.37826927,\n",
       "       0.37800578, 0.37530737, 0.37530225, 0.37492433, 0.37275406,\n",
       "       0.36996153, 0.36724465, 0.3659165 , 0.36569668, 0.36464991,\n",
       "       0.36383434, 0.36287146, 0.36265921, 0.35911511, 0.3590106 ,\n",
       "       0.35889812, 0.35585566, 0.35511601, 0.3546433 , 0.35156647,\n",
       "       0.35021955, 0.35020741, 0.34902188, 0.34881996, 0.34854764,\n",
       "       0.34725272, 0.34538463, 0.34532302, 0.34404588, 0.34222609,\n",
       "       0.34175045, 0.34100727, 0.34074385, 0.34016364, 0.33981408,\n",
       "       0.33842386, 0.33613881, 0.33600923, 0.33332914, 0.32669704,\n",
       "       0.32618215, 0.32298365, 0.32214535, 0.32199955, 0.32131489,\n",
       "       0.32100571, 0.32064628, 0.31756821, 0.31739453, 0.31615511,\n",
       "       0.31613229, 0.31517153, 0.3129526 , 0.31062038, 0.31045011,\n",
       "       0.30990867, 0.30938422, 0.3093434 , 0.30930455, 0.30813522,\n",
       "       0.3073341 , 0.30667343, 0.30468082, 0.30416032, 0.3036513 ,\n",
       "       0.30058635, 0.30037092, 0.29984791, 0.29964281, 0.29896812,\n",
       "       0.29832836, 0.29829877, 0.29829552, 0.29777912, 0.29751264,\n",
       "       0.29741684, 0.29712456, 0.2946132 , 0.29415425, 0.29358481,\n",
       "       0.29301589, 0.29229818, 0.29219301, 0.28945234, 0.28874801,\n",
       "       0.28848371, 0.28795407, 0.28761466, 0.28706492, 0.28694343,\n",
       "       0.28654082, 0.28527057, 0.28495912, 0.28449102, 0.28439595,\n",
       "       0.28134933, 0.281076  , 0.28090393, 0.28072508, 0.27843057,\n",
       "       0.27810505, 0.2755412 , 0.27502477, 0.27228721, 0.27189638,\n",
       "       0.2688567 , 0.26882268, 0.26774077, 0.26643977, 0.26631037,\n",
       "       0.2656214 , 0.26556681, 0.2654398 , 0.2650291 , 0.2644899 ,\n",
       "       0.26307355, 0.26301142, 0.26281185, 0.26167387, 0.26048008,\n",
       "       0.25956152, 0.25667977, 0.2561841 , 0.25605058, 0.2559101 ,\n",
       "       0.25579643, 0.25489014, 0.25465593, 0.25433511, 0.2535964 ,\n",
       "       0.25309829, 0.25056895, 0.2503724 , 0.24818495, 0.24801616,\n",
       "       0.24751524, 0.24702642, 0.24592763, 0.2449395 , 0.24442777,\n",
       "       0.24420868, 0.24224105, 0.24181624, 0.24158543, 0.24124886,\n",
       "       0.23668496, 0.23665844, 0.23564821, 0.23507274, 0.23339694,\n",
       "       0.2333308 , 0.23164994, 0.23157983, 0.22614929, 0.22596896,\n",
       "       0.22577761, 0.2254879 , 0.22339057, 0.22282342, 0.22239635,\n",
       "       0.22222993, 0.22201752, 0.22169611, 0.22061238, 0.21975505,\n",
       "       0.21557475, 0.21548952, 0.21493619, 0.21479535, 0.21448409,\n",
       "       0.21371914, 0.21370452, 0.21359125, 0.21155343, 0.21134905,\n",
       "       0.21126992, 0.21107247, 0.20902743, 0.20840859, 0.20830309,\n",
       "       0.20817659, 0.20749398, 0.2071776 , 0.20624849, 0.20585216,\n",
       "       0.20489348, 0.20477204, 0.20192895, 0.20076043, 0.20031576,\n",
       "       0.20029044, 0.1987944 , 0.19869075, 0.19852553, 0.19841843,\n",
       "       0.19497926, 0.19465974, 0.19455775, 0.19417886, 0.19291325,\n",
       "       0.19276135, 0.19078505, 0.19076975, 0.18978537, 0.18978149,\n",
       "       0.18973567, 0.18836545, 0.18626209, 0.18620101, 0.18528868,\n",
       "       0.18526123, 0.18507591, 0.18507281, 0.18317809, 0.18296947,\n",
       "       0.18220049, 0.18177889, 0.18075465, 0.18057757, 0.17858719,\n",
       "       0.17855196, 0.1779051 , 0.17774329, 0.176912  , 0.17673874,\n",
       "       0.17535645, 0.17494166, 0.17463302, 0.17448267, 0.17386724,\n",
       "       0.17368437, 0.17334211, 0.17255165, 0.17199029, 0.17194477,\n",
       "       0.17143338, 0.17138402, 0.16635834, 0.16622019, 0.16547598,\n",
       "       0.16547437, 0.16505068, 0.16481244, 0.16449855, 0.16447663,\n",
       "       0.1627238 , 0.1625541 , 0.16198549, 0.16160128, 0.16019383,\n",
       "       0.160019  , 0.15966692, 0.15938529, 0.15795603, 0.15769903,\n",
       "       0.15477655, 0.15448603, 0.1544125 , 0.15431589, 0.15256541,\n",
       "       0.15184746, 0.14730964, 0.14716503, 0.14435127, 0.1438574 ,\n",
       "       0.14206096, 0.14200579, 0.14074278, 0.14055792, 0.13952694,\n",
       "       0.13942547, 0.13843793, 0.13818742, 0.13496837, 0.13495505,\n",
       "       0.1321097 , 0.13203929, 0.13162895, 0.13146013, 0.13042815,\n",
       "       0.13035443, 0.1279932 , 0.12771026, 0.1265249 , 0.12635211,\n",
       "       0.12486279, 0.1247089 , 0.12418276, 0.12411538, 0.12200098,\n",
       "       0.12183521, 0.11748088, 0.11732478, 0.11730175, 0.11720288,\n",
       "       0.11630864, 0.11626084, 0.11442157, 0.11409743, 0.1138773 ,\n",
       "       0.11365301, 0.1113215 , 0.11120845, 0.11113571, 0.11100438,\n",
       "       0.10940049, 0.10933732, 0.10913985, 0.10880844, 0.10857354,\n",
       "       0.10856132, 0.10811148, 0.10786836, 0.10629812, 0.10619454,\n",
       "       0.10181036, 0.10172723, 0.10029635, 0.10025944, 0.09960339,\n",
       "       0.09948178, 0.09832592, 0.09793843, 0.094328  , 0.09372934,\n",
       "       0.09120641, 0.09100242, 0.09020851, 0.09014334, 0.08978005,\n",
       "       0.08940093, 0.08873927, 0.0886856 , 0.08352803, 0.08341321,\n",
       "       0.08128265, 0.08101557, 0.08062359, 0.08034404, 0.07802489,\n",
       "       0.077823  , 0.07776122, 0.07765231, 0.06598292, 0.06596123,\n",
       "       0.06566921, 0.06561107, 0.06461227, 0.06444687, 0.06228405,\n",
       "       0.0622663 , 0.06136228, 0.06124895, 0.05901654, 0.05887891,\n",
       "       0.05349563, 0.05332876, 0.04908311, 0.0490392 , 0.04602927,\n",
       "       0.04597462, 0.04489755, 0.0446016 , 0.04424325, 0.04388729,\n",
       "       0.04377367, 0.0434062 , 0.04215636, 0.042133  , 0.03849392,\n",
       "       0.03841655, 0.03627432, 0.03626574, 0.0127427 ])"
      ]
     },
     "execution_count": 52,
     "metadata": {},
     "output_type": "execute_result"
    }
   ],
   "source": [
    "thesholds_2"
   ]
  },
  {
   "cell_type": "code",
   "execution_count": 53,
   "id": "4370ef40",
   "metadata": {},
   "outputs": [
    {
     "name": "stdout",
     "output_type": "stream",
     "text": [
      "Accuracy => 0.808\n"
     ]
    }
   ],
   "source": [
    "y_pred = np.where(y_pred_proba[:,1]<.70,0,1)\n",
    "print(f'Accuracy => {accuracy_score(y_test.astype(int),y_pred)}')"
   ]
  },
  {
   "cell_type": "code",
   "execution_count": 54,
   "id": "a67ce54d",
   "metadata": {},
   "outputs": [
    {
     "name": "stdout",
     "output_type": "stream",
     "text": [
      "Accuracy => 0.8135\n"
     ]
    }
   ],
   "source": [
    "y_pred = np.where(y_pred_proba[:,1]<.60,0,1)\n",
    "print(f'Accuracy => {accuracy_score(y_test.astype(int),y_pred)}')"
   ]
  },
  {
   "cell_type": "code",
   "execution_count": 55,
   "id": "4c7aadb1",
   "metadata": {},
   "outputs": [
    {
     "name": "stdout",
     "output_type": "stream",
     "text": [
      "Precision => 0.6388888888888888\n"
     ]
    }
   ],
   "source": [
    "from sklearn.metrics import precision_score\n",
    "print(f'Precision => {precision_score(y_test.astype(int),y_pred)}')"
   ]
  },
  {
   "cell_type": "code",
   "execution_count": 56,
   "id": "b3c7976d",
   "metadata": {},
   "outputs": [
    {
     "name": "stdout",
     "output_type": "stream",
     "text": [
      "Recall => 0.11704834605597965\n"
     ]
    }
   ],
   "source": [
    "from sklearn.metrics import recall_score\n",
    "print(f'Recall => {recall_score(y_test.astype(int),y_pred)}')"
   ]
  },
  {
   "cell_type": "markdown",
   "id": "9342818c",
   "metadata": {},
   "source": [
    "### `.60 to .80 you can choose any value to find best accuracy`"
   ]
  },
  {
   "cell_type": "markdown",
   "id": "f00e44be",
   "metadata": {},
   "source": [
    "### Precision = TP / ( TP + FP ) \n",
    "### F1 score = 2 * Precision * Recall / ( Precision + Recall )\n",
    "\n",
    "### `Formulae list`:\n",
    "<br />\n",
    "\n",
    "![](https://www.researchgate.net/publication/325567208/figure/tbl4/AS:668664739151911@1536433505975/Classification-performance-metrics-based-on-the-confusion-matrix.png)"
   ]
  },
  {
   "cell_type": "markdown",
   "id": "f5f1022f",
   "metadata": {},
   "source": [
    "## `Finding threshold using LogLoss[Don't use this method], only for reference (not purely MLE)`"
   ]
  },
  {
   "cell_type": "code",
   "execution_count": 57,
   "id": "895eabd0",
   "metadata": {},
   "outputs": [],
   "source": [
    "class threshold:\n",
    "    def __init__(self):\n",
    "        self.th = 0.5  # initially starting with 0.5\n",
    "        \n",
    "    def predict_threshold(self,y):   # predict threshold\n",
    "        if y >= self.th:\n",
    "            return 1\n",
    "        return 0"
   ]
  },
  {
   "cell_type": "code",
   "execution_count": 58,
   "id": "c45f7f96",
   "metadata": {},
   "outputs": [],
   "source": [
    "from sklearn.metrics import log_loss"
   ]
  },
  {
   "cell_type": "markdown",
   "id": "9da23dda",
   "metadata": {},
   "source": [
    "### `Finding LogLoss`\n",
    "![](https://editor.analyticsvidhya.com/uploads/90149Capture0.PNG)"
   ]
  },
  {
   "cell_type": "code",
   "execution_count": 59,
   "id": "e4180cf6",
   "metadata": {},
   "outputs": [
    {
     "name": "stdout",
     "output_type": "stream",
     "text": [
      "Threshold => 0.0 and Loss => 27.75254930984589\n",
      "Threshold => 0.1111111111111111 and Loss => 17.21796304003204\n",
      "Threshold => 0.2222222222222222 and Loss => 9.394713095882471\n",
      "Threshold => 0.3333333333333333 and Loss => 6.5969766560017975\n",
      "Threshold => 0.4444444444444444 and Loss => 6.596941873513584\n",
      "Threshold => 0.5555555555555556 and Loss => 6.389688425610935\n",
      "Threshold => 0.6666666666666666 and Loss => 6.6141816766061226\n",
      "Threshold => 0.7777777777777777 and Loss => 6.6832544318113625\n",
      "Threshold => 0.8888888888888888 and Loss => 6.80413934959612\n",
      "Threshold => 1.0 and Loss => 6.78686956159995\n"
     ]
    }
   ],
   "source": [
    "lr_prob = y_pred_proba[:,1]\n",
    "different_threshold = np.linspace(0,1,num=10)\n",
    "pre = threshold()\n",
    "log_losses = []\n",
    "for t in different_threshold:\n",
    "    pre.th = t\n",
    "    yy = pd.Series(lr_prob)\n",
    "    y_pred = yy.apply(pre.predict_threshold)\n",
    "    loss =  log_loss(y_test.astype(int),y_pred.astype(int))\n",
    "    print(f'Threshold => {t} and Loss => {loss}')\n",
    "    log_losses.append(loss)"
   ]
  },
  {
   "cell_type": "markdown",
   "id": "16213ff7",
   "metadata": {},
   "source": [
    "### `Plotting`"
   ]
  },
  {
   "cell_type": "code",
   "execution_count": 60,
   "id": "071ab631",
   "metadata": {},
   "outputs": [
    {
     "data": {
      "image/png": "[encoded data removed]",
      "text/plain": [
       "<Figure size 1728x576 with 1 Axes>"
      ]
     },
     "metadata": {
      "needs_background": "light"
     },
     "output_type": "display_data"
    }
   ],
   "source": [
    "plt.figure(figsize=(24,8))\n",
    "plt.plot(different_threshold,log_losses)\n",
    "\n",
    "for i,p in enumerate(different_threshold):\n",
    "    plt.text(different_threshold[i],log_losses[i],\"%0.2f\"%(p),fontsize=15)\n",
    "\n",
    "plt.xlabel(\"proba\",fontsize=20)\n",
    "plt.ylabel(\"log loss\",fontsize=20)\n",
    "plt.show()"
   ]
  },
  {
   "cell_type": "code",
   "execution_count": 61,
   "id": "224fcb1a",
   "metadata": {},
   "outputs": [
    {
     "data": {
      "text/plain": [
       "0.5555555555555556"
      ]
     },
     "execution_count": 61,
     "metadata": {},
     "output_type": "execute_result"
    }
   ],
   "source": [
    "index = np.array(log_losses).argmin()   # best threshold\n",
    "different_threshold[index]"
   ]
  },
  {
   "cell_type": "markdown",
   "id": "c0535a99",
   "metadata": {},
   "source": [
    "### Fit the model"
   ]
  },
  {
   "cell_type": "code",
   "execution_count": 62,
   "id": "14f77120",
   "metadata": {},
   "outputs": [
    {
     "name": "stdout",
     "output_type": "stream",
     "text": [
      "Accuracy => 0.815\n"
     ]
    }
   ],
   "source": [
    "y_pred = np.where(y_pred_proba[:,1]<0.5555555555555556,0,1)\n",
    "print(f'Accuracy => {accuracy_score(y_test.astype(int),y_pred)}')"
   ]
  },
  {
   "cell_type": "code",
   "execution_count": 63,
   "id": "4b376d5d",
   "metadata": {},
   "outputs": [
    {
     "name": "stdout",
     "output_type": "stream",
     "text": [
      "Confusion matrix =>\n",
      " [[1570   37]\n",
      " [ 333   60]]\n"
     ]
    }
   ],
   "source": [
    "print(f'Confusion matrix =>\\n {confusion_matrix(y_test.astype(int),y_pred)}')"
   ]
  },
  {
   "cell_type": "code",
   "execution_count": 64,
   "id": "ac94ef47",
   "metadata": {},
   "outputs": [
    {
     "name": "stdout",
     "output_type": "stream",
     "text": [
      "Precision => 0.6185567010309279\n"
     ]
    }
   ],
   "source": [
    "from sklearn.metrics import precision_score\n",
    "print(f'Precision => {precision_score(y_test.astype(int),y_pred)}')"
   ]
  },
  {
   "cell_type": "code",
   "execution_count": 65,
   "id": "55db6b74",
   "metadata": {},
   "outputs": [
    {
     "name": "stdout",
     "output_type": "stream",
     "text": [
      "Recall => 0.15267175572519084\n"
     ]
    }
   ],
   "source": [
    "from sklearn.metrics import recall_score\n",
    "print(f'Recall => {recall_score(y_test.astype(int),y_pred)}')"
   ]
  },
  {
   "cell_type": "markdown",
   "id": "8cb127ef",
   "metadata": {},
   "source": [
    "-------\n",
    "\n",
    "<br />\n",
    "<br />\n",
    "<br />\n",
    "<br />\n",
    "\n",
    "# `Naive Bayes -----------------------------------------------------`\n",
    "### [Naive Bayes from scratch](http://localhost:8888/notebooks/Classification/Naive%20Bayes.ipynb)"
   ]
  },
  {
   "cell_type": "code",
   "execution_count": 66,
   "id": "51a46953",
   "metadata": {},
   "outputs": [],
   "source": [
    "from sklearn.naive_bayes import GaussianNB\n",
    "nb = GaussianNB()\n",
    "nb.fit(X_train,y_train.astype(int))\n",
    "y_pred = nb.predict(X_test)"
   ]
  },
  {
   "cell_type": "code",
   "execution_count": 70,
   "id": "dfa6ced9",
   "metadata": {},
   "outputs": [
    {
     "name": "stdout",
     "output_type": "stream",
     "text": [
      "[[1563   44]\n",
      " [ 289  104]]\n"
     ]
    }
   ],
   "source": [
    "from sklearn.metrics import confusion_matrix\n",
    "print(confusion_matrix(y_test.astype(int),y_pred))"
   ]
  },
  {
   "cell_type": "code",
   "execution_count": 71,
   "id": "45e15f08",
   "metadata": {},
   "outputs": [
    {
     "name": "stdout",
     "output_type": "stream",
     "text": [
      "0.8335\n"
     ]
    }
   ],
   "source": [
    "from sklearn.metrics import accuracy_score\n",
    "print(accuracy_score(y_test.astype(int),y_pred))"
   ]
  },
  {
   "cell_type": "code",
   "execution_count": 72,
   "id": "24f4878e",
   "metadata": {},
   "outputs": [
    {
     "name": "stdout",
     "output_type": "stream",
     "text": [
      "0.7027027027027027\n"
     ]
    }
   ],
   "source": [
    "from sklearn.metrics import precision_score\n",
    "print(precision_score(y_test.astype(int),y_pred))"
   ]
  },
  {
   "cell_type": "code",
   "execution_count": 73,
   "id": "c003ec1b",
   "metadata": {},
   "outputs": [
    {
     "name": "stdout",
     "output_type": "stream",
     "text": [
      "0.26463104325699743\n"
     ]
    }
   ],
   "source": [
    "from sklearn.metrics import recall_score\n",
    "print(recall_score(y_test.astype(int),y_pred))"
   ]
  },
  {
   "cell_type": "markdown",
   "id": "ef419ee1",
   "metadata": {},
   "source": [
    "### `precision-recall tradeoff`"
   ]
  },
  {
   "cell_type": "code",
   "execution_count": 74,
   "id": "bf7f14ca",
   "metadata": {},
   "outputs": [
    {
     "name": "stdout",
     "output_type": "stream",
     "text": [
      "0.3844731977818853\n"
     ]
    }
   ],
   "source": [
    "from sklearn.metrics import f1_score\n",
    "print(f1_score(y_test.astype(int),y_pred))"
   ]
  },
  {
   "cell_type": "markdown",
   "id": "04936919",
   "metadata": {},
   "source": [
    "### `Don't just rely on accuracy, check all matrics`\n",
    "### `This algorithm increased accuracy, precision and recall score upto a significant level`\n",
    "![](https://cdn.analyticsvidhya.com/wp-content/uploads/2020/10/image23.gif)"
   ]
  },
  {
   "cell_type": "markdown",
   "id": "592731f9",
   "metadata": {},
   "source": [
    "-------\n",
    "\n",
    "<br />\n",
    "<br />\n",
    "<br />\n",
    "<br />\n",
    "\n",
    "# `Decision Tree -----------------------------------------------------`"
   ]
  },
  {
   "cell_type": "markdown",
   "id": "cca5a62c",
   "metadata": {},
   "source": [
    "### Parameter 1: Entropy"
   ]
  },
  {
   "cell_type": "code",
   "execution_count": 231,
   "id": "98efdf62",
   "metadata": {},
   "outputs": [
    {
     "data": {
      "text/plain": [
       "DecisionTreeClassifier(criterion='entropy', max_depth=3)"
      ]
     },
     "execution_count": 231,
     "metadata": {},
     "output_type": "execute_result"
    }
   ],
   "source": [
    "from sklearn.tree import DecisionTreeClassifier,plot_tree\n",
    "tree = DecisionTreeClassifier(criterion='entropy',max_depth=3)\n",
    "tree.fit(X_train,y_train.astype(int))"
   ]
  },
  {
   "cell_type": "code",
   "execution_count": 232,
   "id": "af3f7a99",
   "metadata": {},
   "outputs": [],
   "source": [
    "y_pred = tree.predict(X_test)"
   ]
  },
  {
   "cell_type": "code",
   "execution_count": 233,
   "id": "9465de2e",
   "metadata": {},
   "outputs": [
    {
     "name": "stdout",
     "output_type": "stream",
     "text": [
      "0.839\n"
     ]
    }
   ],
   "source": [
    "from sklearn.metrics import accuracy_score\n",
    "print(accuracy_score(y_test.astype(int),y_pred))"
   ]
  },
  {
   "cell_type": "code",
   "execution_count": 234,
   "id": "fc2394dd",
   "metadata": {},
   "outputs": [
    {
     "name": "stdout",
     "output_type": "stream",
     "text": [
      "0.784\n"
     ]
    }
   ],
   "source": [
    "from sklearn.metrics import precision_score\n",
    "print(precision_score(y_test.astype(int),y_pred))"
   ]
  },
  {
   "cell_type": "code",
   "execution_count": 235,
   "id": "65a74e0a",
   "metadata": {},
   "outputs": [
    {
     "name": "stdout",
     "output_type": "stream",
     "text": [
      "0.24936386768447838\n"
     ]
    }
   ],
   "source": [
    "from sklearn.metrics import recall_score\n",
    "print(recall_score(y_test.astype(int),y_pred))"
   ]
  },
  {
   "cell_type": "code",
   "execution_count": 236,
   "id": "721dea93",
   "metadata": {},
   "outputs": [
    {
     "name": "stdout",
     "output_type": "stream",
     "text": [
      "0.3783783783783784\n"
     ]
    }
   ],
   "source": [
    "from sklearn.metrics import f1_score\n",
    "print(f1_score(y_test.astype(int),y_pred))"
   ]
  },
  {
   "cell_type": "markdown",
   "id": "5986892d",
   "metadata": {},
   "source": [
    "### Parameter 2: Gini"
   ]
  },
  {
   "cell_type": "code",
   "execution_count": 237,
   "id": "a1c36900",
   "metadata": {},
   "outputs": [
    {
     "data": {
      "text/plain": [
       "DecisionTreeClassifier(max_depth=5)"
      ]
     },
     "execution_count": 237,
     "metadata": {},
     "output_type": "execute_result"
    }
   ],
   "source": [
    "from sklearn.tree import DecisionTreeClassifier,plot_tree\n",
    "tree = DecisionTreeClassifier(criterion='gini',max_depth=5)\n",
    "tree.fit(X_train,y_train.astype(int))"
   ]
  },
  {
   "cell_type": "code",
   "execution_count": 238,
   "id": "323898fc",
   "metadata": {},
   "outputs": [],
   "source": [
    "y_pred = tree.predict(X_test)"
   ]
  },
  {
   "cell_type": "code",
   "execution_count": 239,
   "id": "de9bfb2e",
   "metadata": {},
   "outputs": [
    {
     "name": "stdout",
     "output_type": "stream",
     "text": [
      "0.859\n"
     ]
    }
   ],
   "source": [
    "from sklearn.metrics import accuracy_score\n",
    "print(accuracy_score(y_test.astype(int),y_pred))"
   ]
  },
  {
   "cell_type": "code",
   "execution_count": 240,
   "id": "b4f43505",
   "metadata": {},
   "outputs": [
    {
     "name": "stdout",
     "output_type": "stream",
     "text": [
      "0.7707317073170732\n"
     ]
    }
   ],
   "source": [
    "from sklearn.metrics import precision_score\n",
    "print(precision_score(y_test.astype(int),y_pred))"
   ]
  },
  {
   "cell_type": "code",
   "execution_count": 241,
   "id": "7b02f375",
   "metadata": {},
   "outputs": [
    {
     "name": "stdout",
     "output_type": "stream",
     "text": [
      "0.4020356234096692\n"
     ]
    }
   ],
   "source": [
    "from sklearn.metrics import recall_score\n",
    "print(recall_score(y_test.astype(int),y_pred))"
   ]
  },
  {
   "cell_type": "code",
   "execution_count": 242,
   "id": "1b82e998",
   "metadata": {},
   "outputs": [
    {
     "name": "stdout",
     "output_type": "stream",
     "text": [
      "0.528428093645485\n"
     ]
    }
   ],
   "source": [
    "from sklearn.metrics import f1_score\n",
    "print(f1_score(y_test.astype(int),y_pred))"
   ]
  },
  {
   "cell_type": "code",
   "execution_count": 243,
   "id": "382863fd",
   "metadata": {},
   "outputs": [],
   "source": [
    "y_prob_tree = tree.predict_proba(X_test)"
   ]
  },
  {
   "cell_type": "code",
   "execution_count": 244,
   "id": "bbadb595",
   "metadata": {},
   "outputs": [
    {
     "data": {
      "image/png": "[encoded data removed]",
      "text/plain": [
       "<Figure size 432x288 with 1 Axes>"
      ]
     },
     "metadata": {
      "needs_background": "light"
     },
     "output_type": "display_data"
    },
    {
     "name": "stdout",
     "output_type": "stream",
     "text": [
      "AUC of Logistic Regression is => 0.7787700439077764\n",
      "AUC of Decsion tree is => 0.8288261755582685\n"
     ]
    }
   ],
   "source": [
    "from sklearn.metrics import roc_curve,roc_auc_score\n",
    "import matplotlib.pyplot as plt\n",
    "\n",
    "\n",
    "ns_prob = [0 for _ in range(len(y_test))]  # bad algo\n",
    "ns_fpr,ns_tpr,thresholds_1 = roc_curve(y_test.astype(int),ns_prob)\n",
    "\n",
    "lr_prob = y_pred_proba[:,1]\n",
    "lr_auc = roc_auc_score(y_test.astype(int),lr_prob)   # logistic regression\n",
    "lr_fpr,lr_tpr,thesholds_2 = roc_curve(y_test.astype(int),lr_prob)\n",
    "\n",
    "tr_prob = y_prob_tree[:,1]\n",
    "tr_auc = roc_auc_score(y_test.astype(int),tr_prob)   # Decision tree\n",
    "tr_fpr,tr_tpr,thesholds_3 = roc_curve(y_test.astype(int),tr_prob)\n",
    "\n",
    "# plotting\n",
    "plt.plot(lr_fpr,lr_tpr,marker='.',label='Logistic Regression')\n",
    "plt.plot(tr_fpr,tr_tpr,marker='.',label='Decision Tree')\n",
    "plt.plot(ns_fpr,ns_tpr,marker='.',label='Bad Random Algo')\n",
    "plt.xlabel('False Positive Rate')\n",
    "plt.ylabel('True Positive Rate')\n",
    "plt.legend()\n",
    "plt.show()\n",
    "\n",
    "\n",
    "print(f'AUC of Logistic Regression is => {lr_auc}')\n",
    "print(f'AUC of Decsion tree is => {tr_auc}')"
   ]
  },
  {
   "cell_type": "markdown",
   "id": "e528a3a7",
   "metadata": {},
   "source": [
    "### `Feature Importances`"
   ]
  },
  {
   "cell_type": "code",
   "execution_count": 245,
   "id": "b1126f73",
   "metadata": {},
   "outputs": [
    {
     "data": {
      "text/plain": [
       "array([0.00551524, 0.        , 0.44026934, 0.03410563, 0.3417453 ,\n",
       "       0.17016848, 0.00819602, 0.        ])"
      ]
     },
     "execution_count": 245,
     "metadata": {},
     "output_type": "execute_result"
    }
   ],
   "source": [
    "tree.feature_importances_"
   ]
  },
  {
   "cell_type": "code",
   "execution_count": 246,
   "id": "d8cb6592",
   "metadata": {},
   "outputs": [
    {
     "name": "stdout",
     "output_type": "stream",
     "text": [
      "******************************Feature Importance******************************\n"
     ]
    },
    {
     "data": {
      "text/plain": [
       "Text(0.5, 0, 'Support')"
      ]
     },
     "execution_count": 246,
     "metadata": {},
     "output_type": "execute_result"
    },
    {
     "data": {
      "image/png": "[encoded data removed]",
      "text/plain": [
       "<Figure size 1728x576 with 1 Axes>"
      ]
     },
     "metadata": {
      "needs_background": "light"
     },
     "output_type": "display_data"
    }
   ],
   "source": [
    "imp_feature = tree.tree_.compute_feature_importances()\n",
    "print('*'*30+'Feature Importance'+'*'*30)\n",
    "plt.figure(figsize=(24,8))\n",
    "pd.Series(imp_feature,index=X_train.columns).sort_values().plot.barh()\n",
    "plt.xlabel('Support')"
   ]
  },
  {
   "cell_type": "markdown",
   "id": "fea9e2ec",
   "metadata": {},
   "source": [
    "#### `Age column contributing more towards decision of prediction`"
   ]
  },
  {
   "cell_type": "markdown",
   "id": "2ecbc60a",
   "metadata": {},
   "source": [
    "### `Plot Tree`"
   ]
  },
  {
   "cell_type": "code",
   "execution_count": 247,
   "id": "850de611",
   "metadata": {},
   "outputs": [
    {
     "data": {
      "text/plain": [
       "DecisionTreeClassifier(max_depth=3)"
      ]
     },
     "execution_count": 247,
     "metadata": {},
     "output_type": "execute_result"
    }
   ],
   "source": [
    "from sklearn.tree import DecisionTreeClassifier,plot_tree\n",
    "tree = DecisionTreeClassifier(criterion='gini',max_depth=3)\n",
    "tree.fit(X_train,y_train.astype(int))"
   ]
  },
  {
   "cell_type": "code",
   "execution_count": 248,
   "id": "543ca2b8",
   "metadata": {},
   "outputs": [
    {
     "data": {
      "image/png": "[encoded data removed]",
      "text/plain": [
       "<Figure size 1728x576 with 1 Axes>"
      ]
     },
     "metadata": {
      "needs_background": "light"
     },
     "output_type": "display_data"
    }
   ],
   "source": [
    "plt.figure(figsize=(24,8))\n",
    "plot_tree(tree)\n",
    "plt.show()"
   ]
  },
  {
   "cell_type": "markdown",
   "id": "0c26bff0",
   "metadata": {},
   "source": [
    "### `Grid Search: Find best parameters`"
   ]
  },
  {
   "cell_type": "code",
   "execution_count": 249,
   "id": "b0796938",
   "metadata": {},
   "outputs": [],
   "source": [
    "from sklearn.model_selection import GridSearchCV\n",
    "param_grid = {\n",
    "    'criterion':['entropy','gini'],\n",
    "    'max_depth':[2,4,5,6,7,8,14,15]\n",
    "}\n",
    "\n",
    "tree = DecisionTreeClassifier()"
   ]
  },
  {
   "cell_type": "markdown",
   "id": "0bfb959d",
   "metadata": {},
   "source": [
    "#### `recall`"
   ]
  },
  {
   "cell_type": "code",
   "execution_count": 250,
   "id": "a3c9ebe8",
   "metadata": {},
   "outputs": [],
   "source": [
    "tree_grid = GridSearchCV(tree,param_grid,n_jobs=-1,scoring='recall')"
   ]
  },
  {
   "cell_type": "code",
   "execution_count": 251,
   "id": "fcfaed88",
   "metadata": {},
   "outputs": [
    {
     "data": {
      "text/plain": [
       "GridSearchCV(estimator=DecisionTreeClassifier(), n_jobs=-1,\n",
       "             param_grid={'criterion': ['entropy', 'gini'],\n",
       "                         'max_depth': [2, 4, 5, 6, 7, 8, 14, 15]},\n",
       "             scoring='recall')"
      ]
     },
     "execution_count": 251,
     "metadata": {},
     "output_type": "execute_result"
    }
   ],
   "source": [
    "tree_grid.fit(X_train,y_train.astype(int))"
   ]
  },
  {
   "cell_type": "code",
   "execution_count": 252,
   "id": "c69afbe1",
   "metadata": {},
   "outputs": [
    {
     "data": {
      "text/plain": [
       "{'criterion': 'entropy', 'max_depth': 15}"
      ]
     },
     "execution_count": 252,
     "metadata": {},
     "output_type": "execute_result"
    }
   ],
   "source": [
    "tree_grid.best_params_"
   ]
  },
  {
   "cell_type": "markdown",
   "id": "279eb5a6",
   "metadata": {},
   "source": [
    "#### `precision`"
   ]
  },
  {
   "cell_type": "code",
   "execution_count": 253,
   "id": "ee01f1e7",
   "metadata": {},
   "outputs": [],
   "source": [
    "tree_grid = GridSearchCV(tree,param_grid,n_jobs=-1,scoring='precision')"
   ]
  },
  {
   "cell_type": "code",
   "execution_count": 254,
   "id": "9b0e032b",
   "metadata": {},
   "outputs": [
    {
     "data": {
      "text/plain": [
       "GridSearchCV(estimator=DecisionTreeClassifier(), n_jobs=-1,\n",
       "             param_grid={'criterion': ['entropy', 'gini'],\n",
       "                         'max_depth': [2, 4, 5, 6, 7, 8, 14, 15]},\n",
       "             scoring='precision')"
      ]
     },
     "execution_count": 254,
     "metadata": {},
     "output_type": "execute_result"
    }
   ],
   "source": [
    "tree_grid.fit(X_train,y_train.astype(int))"
   ]
  },
  {
   "cell_type": "code",
   "execution_count": 255,
   "id": "b089f9b6",
   "metadata": {},
   "outputs": [
    {
     "data": {
      "text/plain": [
       "{'criterion': 'gini', 'max_depth': 5}"
      ]
     },
     "execution_count": 255,
     "metadata": {},
     "output_type": "execute_result"
    }
   ],
   "source": [
    "tree_grid.best_params_"
   ]
  },
  {
   "cell_type": "markdown",
   "id": "5b3f236c",
   "metadata": {},
   "source": [
    "#### `accuracy`"
   ]
  },
  {
   "cell_type": "code",
   "execution_count": 256,
   "id": "dc583a8b",
   "metadata": {},
   "outputs": [],
   "source": [
    "tree_grid = GridSearchCV(tree,param_grid,n_jobs=-1,scoring='accuracy')"
   ]
  },
  {
   "cell_type": "code",
   "execution_count": 257,
   "id": "b676fa9a",
   "metadata": {},
   "outputs": [
    {
     "data": {
      "text/plain": [
       "GridSearchCV(estimator=DecisionTreeClassifier(), n_jobs=-1,\n",
       "             param_grid={'criterion': ['entropy', 'gini'],\n",
       "                         'max_depth': [2, 4, 5, 6, 7, 8, 14, 15]},\n",
       "             scoring='accuracy')"
      ]
     },
     "execution_count": 257,
     "metadata": {},
     "output_type": "execute_result"
    }
   ],
   "source": [
    "tree_grid.fit(X_train,y_train.astype(int))"
   ]
  },
  {
   "cell_type": "code",
   "execution_count": 258,
   "id": "298135ee",
   "metadata": {},
   "outputs": [
    {
     "data": {
      "text/plain": [
       "{'criterion': 'entropy', 'max_depth': 5}"
      ]
     },
     "execution_count": 258,
     "metadata": {},
     "output_type": "execute_result"
    }
   ],
   "source": [
    "tree_grid.best_params_"
   ]
  },
  {
   "cell_type": "markdown",
   "id": "089baef6",
   "metadata": {},
   "source": [
    "### `Decision tree is prone to overfit a lot *****`"
   ]
  },
  {
   "cell_type": "markdown",
   "id": "11150d2d",
   "metadata": {},
   "source": [
    "-------\n",
    "\n",
    "<br />\n",
    "<br />\n",
    "<br />\n",
    "<br />\n",
    "\n",
    "# `Random Forest -----------------------------------------------------`"
   ]
  },
  {
   "cell_type": "markdown",
   "id": "921ad133",
   "metadata": {},
   "source": [
    "### Ensembling:\n",
    "    1. Bagging/Bootstraping=> Random Forest\n",
    "    2. Boosting\n",
    "    3. Stacking"
   ]
  },
  {
   "cell_type": "code",
   "execution_count": 259,
   "id": "38b8206c",
   "metadata": {},
   "outputs": [],
   "source": [
    "from sklearn.ensemble import RandomForestClassifier\n",
    "rf = RandomForestClassifier(n_estimators=100, criterion='entropy')\n",
    "rf.fit(X_train,y_train.astype(int))\n",
    "y_pred = rf.predict(X_test)"
   ]
  },
  {
   "cell_type": "code",
   "execution_count": 260,
   "id": "fe1888ee",
   "metadata": {},
   "outputs": [
    {
     "name": "stdout",
     "output_type": "stream",
     "text": [
      "0.8615\n"
     ]
    }
   ],
   "source": [
    "from sklearn.metrics import accuracy_score\n",
    "print(accuracy_score(y_test.astype(int),y_pred))"
   ]
  },
  {
   "cell_type": "code",
   "execution_count": 261,
   "id": "9bf03d0d",
   "metadata": {},
   "outputs": [
    {
     "name": "stdout",
     "output_type": "stream",
     "text": [
      "0.7132352941176471\n"
     ]
    }
   ],
   "source": [
    "from sklearn.metrics import precision_score\n",
    "print(precision_score(y_test.astype(int),y_pred))"
   ]
  },
  {
   "cell_type": "code",
   "execution_count": 262,
   "id": "a9cb9471",
   "metadata": {},
   "outputs": [
    {
     "name": "stdout",
     "output_type": "stream",
     "text": [
      "0.49363867684478374\n"
     ]
    }
   ],
   "source": [
    "from sklearn.metrics import recall_score\n",
    "print(recall_score(y_test.astype(int),y_pred))"
   ]
  },
  {
   "cell_type": "code",
   "execution_count": 263,
   "id": "0b5875a0",
   "metadata": {},
   "outputs": [
    {
     "name": "stdout",
     "output_type": "stream",
     "text": [
      "0.5834586466165413\n"
     ]
    }
   ],
   "source": [
    "from sklearn.metrics import f1_score\n",
    "print(f1_score(y_test.astype(int),y_pred))"
   ]
  },
  {
   "cell_type": "markdown",
   "id": "e383276b",
   "metadata": {},
   "source": [
    "### Extrapolation tree will not work, only interpolation tree will work, that is a disadvantage of a decisiion tree being used as a linear regression for a regression"
   ]
  },
  {
   "cell_type": "code",
   "execution_count": 264,
   "id": "ef9187db",
   "metadata": {},
   "outputs": [],
   "source": [
    "y_prob_rf = rf.predict_proba(X_test)"
   ]
  },
  {
   "cell_type": "code",
   "execution_count": 265,
   "id": "a0cc11f2",
   "metadata": {},
   "outputs": [
    {
     "data": {
      "image/png": "[encoded data removed]",
      "text/plain": [
       "<Figure size 432x288 with 1 Axes>"
      ]
     },
     "metadata": {
      "needs_background": "light"
     },
     "output_type": "display_data"
    },
    {
     "name": "stdout",
     "output_type": "stream",
     "text": [
      "AUC of Logistic Regression is => 0.7787700439077764\n",
      "AUC of Decsion tree is => 0.8288261755582685\n",
      "AUC of Random Forest tree is => 0.8493914189036199\n"
     ]
    }
   ],
   "source": [
    "from sklearn.metrics import roc_curve,roc_auc_score\n",
    "import matplotlib.pyplot as plt\n",
    "\n",
    "\n",
    "ns_prob = [0 for _ in range(len(y_test))]  # bad algo\n",
    "ns_fpr,ns_tpr,thresholds_1 = roc_curve(y_test.astype(int),ns_prob)\n",
    "\n",
    "lr_prob = y_pred_proba[:,1]\n",
    "lr_auc = roc_auc_score(y_test.astype(int),lr_prob)   # logistic regression\n",
    "lr_fpr,lr_tpr,thesholds_2 = roc_curve(y_test.astype(int),lr_prob)\n",
    "\n",
    "tr_prob = y_prob_tree[:,1]\n",
    "tr_auc = roc_auc_score(y_test.astype(int),tr_prob)   # Decision tree\n",
    "tr_fpr,tr_tpr,thesholds_3 = roc_curve(y_test.astype(int),tr_prob)\n",
    "\n",
    "rf_prob = y_prob_rf[:,1]\n",
    "rf_auc = roc_auc_score(y_test.astype(int),rf_prob)   # random forest\n",
    "rf_fpr,rf_tpr,thesholds_4 = roc_curve(y_test.astype(int),rf_prob)\n",
    "\n",
    "# plotting\n",
    "plt.plot(lr_fpr,lr_tpr,marker='.',label='Logistic Regression')\n",
    "plt.plot(tr_fpr,tr_tpr,marker='.',label='Decision Tree')\n",
    "plt.plot(ns_fpr,ns_tpr,marker='.',label='Bad Random Algo')\n",
    "plt.plot(rf_fpr,rf_tpr,marker='.',label='Random Forest entropy')\n",
    "plt.xlabel('False Positive Rate')\n",
    "plt.ylabel('True Positive Rate')\n",
    "plt.legend()\n",
    "plt.show()\n",
    "\n",
    "\n",
    "print(f'AUC of Logistic Regression is => {lr_auc}')\n",
    "print(f'AUC of Decsion tree is => {tr_auc}')\n",
    "print(f'AUC of Random Forest tree is => {rf_auc}')"
   ]
  },
  {
   "cell_type": "markdown",
   "id": "3d785827",
   "metadata": {},
   "source": [
    "### For extrapolation of a regression model decision tree is not advised to use"
   ]
  },
  {
   "cell_type": "markdown",
   "id": "cd1ef001",
   "metadata": {},
   "source": [
    "-------\n",
    "\n",
    "<br />\n",
    "<br />\n",
    "<br />\n",
    "<br />\n",
    "\n",
    "# `Manual implementation of Cross Validation ---------`\n",
    "- `Will detect and prevent us from overfitting` "
   ]
  },
  {
   "cell_type": "code",
   "execution_count": 266,
   "id": "7eeacb56",
   "metadata": {},
   "outputs": [],
   "source": [
    "from sklearn.model_selection import cross_val_score\n",
    "rf = RandomForestClassifier()\n",
    "accuracy = cross_val_score(rf,X_train,y_train.astype(int),cv=10,scoring='accuracy')"
   ]
  },
  {
   "cell_type": "markdown",
   "id": "03ddcd43",
   "metadata": {},
   "source": [
    "#### statistical analysis to check how much it is varying, whether it is skewed"
   ]
  },
  {
   "cell_type": "code",
   "execution_count": 267,
   "id": "f4ab447d",
   "metadata": {},
   "outputs": [
    {
     "data": {
      "text/plain": [
       "<AxesSubplot:ylabel='Density'>"
      ]
     },
     "execution_count": 267,
     "metadata": {},
     "output_type": "execute_result"
    },
    {
     "data": {
      "image/png": "[encoded data removed]",
      "text/plain": [
       "<Figure size 432x288 with 1 Axes>"
      ]
     },
     "metadata": {
      "needs_background": "light"
     },
     "output_type": "display_data"
    }
   ],
   "source": [
    "sns.distplot(accuracy)"
   ]
  },
  {
   "cell_type": "code",
   "execution_count": 268,
   "id": "87a6ff74",
   "metadata": {},
   "outputs": [
    {
     "data": {
      "text/plain": [
       "0.851375"
      ]
     },
     "execution_count": 268,
     "metadata": {},
     "output_type": "execute_result"
    }
   ],
   "source": [
    "np.mean(accuracy)"
   ]
  },
  {
   "cell_type": "code",
   "execution_count": 269,
   "id": "780d1441",
   "metadata": {},
   "outputs": [
    {
     "data": {
      "text/plain": [
       "0.009176226076116479"
      ]
     },
     "execution_count": 269,
     "metadata": {},
     "output_type": "execute_result"
    }
   ],
   "source": [
    "np.std(accuracy)"
   ]
  },
  {
   "cell_type": "markdown",
   "id": "d2567c3f",
   "metadata": {},
   "source": [
    "#### `check any function code strategy`"
   ]
  },
  {
   "cell_type": "code",
   "execution_count": 270,
   "id": "959027b7",
   "metadata": {},
   "outputs": [],
   "source": [
    "# from sklearn.model_selection import cross_val_score\n",
    "# cross_val_score??"
   ]
  },
  {
   "cell_type": "markdown",
   "id": "f8a1a6d8",
   "metadata": {},
   "source": [
    "### This is manually, but usually it is done in GridSearchCV, you can pass your number of cv here"
   ]
  },
  {
   "cell_type": "markdown",
   "id": "a9481a36",
   "metadata": {},
   "source": [
    "\n",
    "<br />\n",
    "<br />\n",
    "<br />\n",
    "<br />\n",
    "\n",
    "# ` Voting Classifier ------------------------------------------`\n",
    "--------\n",
    "### - [Voting Classifier sklearn => one way to improve accuracy](https://scikitlearn.org/stable/modules/generated/sklearn.ensemble.VotingClassifier.html)"
   ]
  },
  {
   "cell_type": "code",
   "execution_count": 271,
   "id": "91827bc0",
   "metadata": {},
   "outputs": [],
   "source": [
    "from sklearn.linear_model import LogisticRegression\n",
    "from sklearn.naive_bayes import GaussianNB\n",
    "from sklearn.ensemble import RandomForestClassifier, VotingClassifier"
   ]
  },
  {
   "cell_type": "code",
   "execution_count": 272,
   "id": "8f8c1cf6",
   "metadata": {},
   "outputs": [],
   "source": [
    "clf1 = LogisticRegression()\n",
    "clf2 = RandomForestClassifier(n_estimators=50)\n",
    "clf3 = GaussianNB()"
   ]
  },
  {
   "cell_type": "code",
   "execution_count": 273,
   "id": "66d8a373",
   "metadata": {},
   "outputs": [],
   "source": [
    "eclf1 = eclf1 = VotingClassifier(estimators=[('lr', clf1), ('rf', clf2), ('gnb', clf3)])"
   ]
  },
  {
   "cell_type": "code",
   "execution_count": 274,
   "id": "c959f35a",
   "metadata": {},
   "outputs": [
    {
     "data": {
      "text/plain": [
       "VotingClassifier(estimators=[('lr', LogisticRegression()),\n",
       "                             ('rf', RandomForestClassifier(n_estimators=50)),\n",
       "                             ('gnb', GaussianNB())])"
      ]
     },
     "execution_count": 274,
     "metadata": {},
     "output_type": "execute_result"
    }
   ],
   "source": [
    "eclf1.fit(X_train,y_train.astype(int))"
   ]
  },
  {
   "cell_type": "code",
   "execution_count": 275,
   "id": "8c4dcc18",
   "metadata": {},
   "outputs": [],
   "source": [
    "y_pred = eclf1.predict(X_test)"
   ]
  },
  {
   "cell_type": "code",
   "execution_count": 276,
   "id": "31de96a1",
   "metadata": {},
   "outputs": [
    {
     "name": "stdout",
     "output_type": "stream",
     "text": [
      "0.8375\n"
     ]
    }
   ],
   "source": [
    "from sklearn.metrics import accuracy_score\n",
    "print(accuracy_score(y_test.astype(int),y_pred))"
   ]
  },
  {
   "cell_type": "code",
   "execution_count": 277,
   "id": "62398f03",
   "metadata": {},
   "outputs": [
    {
     "name": "stdout",
     "output_type": "stream",
     "text": [
      "0.7098765432098766\n"
     ]
    }
   ],
   "source": [
    "from sklearn.metrics import precision_score\n",
    "print(precision_score(y_test.astype(int),y_pred))"
   ]
  },
  {
   "cell_type": "code",
   "execution_count": 278,
   "id": "40d92132",
   "metadata": {},
   "outputs": [
    {
     "name": "stdout",
     "output_type": "stream",
     "text": [
      "0.2926208651399491\n"
     ]
    }
   ],
   "source": [
    "from sklearn.metrics import recall_score\n",
    "print(recall_score(y_test.astype(int),y_pred))"
   ]
  },
  {
   "cell_type": "code",
   "execution_count": 279,
   "id": "b28cd5e0",
   "metadata": {},
   "outputs": [
    {
     "name": "stdout",
     "output_type": "stream",
     "text": [
      "0.41441441441441446\n"
     ]
    }
   ],
   "source": [
    "from sklearn.metrics import f1_score\n",
    "print(f1_score(y_test.astype(int),y_pred))"
   ]
  },
  {
   "cell_type": "markdown",
   "id": "915b569a",
   "metadata": {},
   "source": [
    "\n",
    "<br />\n",
    "<br />\n",
    "<br />\n",
    "<br />\n",
    "\n",
    "# ` Stacking -----------------------------------------------------`\n",
    "--------\n",
    "\n",
    "### Ensembling:\n",
    "    1. Bagging/Bootstraping\n",
    "    2. Boosting\n",
    "    3. Stacking => Stacking Classifier\n",
    "[Click Here](https://scikit-learn.org/stable/modules/generated/sklearn.ensemble.StackingClassifier.html)\n",
    "\n",
    "#### - [We can have multiple stages in statcking](https://blogs.sas.com/content/subconsciousmusings/2017/05/18/stacked-ensemble-models-win-data-science-competitions/)\n",
    "#### - [For just two layers you can use statcking classifier](https://scikit-learn.org/stable/modules/generated/sklearn.ensemble.StackingClassifier.html)"
   ]
  },
  {
   "cell_type": "markdown",
   "id": "235310ab",
   "metadata": {},
   "source": [
    "### `It is just for 2 layers, for more than 3 we have to code it manually ******`"
   ]
  },
  {
   "cell_type": "code",
   "execution_count": 280,
   "id": "e0224638",
   "metadata": {},
   "outputs": [],
   "source": [
    "from sklearn.ensemble import StackingClassifier"
   ]
  },
  {
   "cell_type": "code",
   "execution_count": 281,
   "id": "4c2f073e",
   "metadata": {},
   "outputs": [],
   "source": [
    "from sklearn.ensemble import RandomForestClassifier  # base estimator\n",
    "from sklearn.naive_bayes import GaussianNB  # base estimator\n",
    "\n",
    "from sklearn.linear_model import LogisticRegression   # final classifier"
   ]
  },
  {
   "cell_type": "code",
   "execution_count": 282,
   "id": "d41938b1",
   "metadata": {},
   "outputs": [],
   "source": [
    "estimators = [('rf',RandomForestClassifier(n_estimators=10,random_state=42)),('nb',GaussianNB())]\n",
    "clf = StackingClassifier(estimators=estimators,final_estimator=LogisticRegression())"
   ]
  },
  {
   "cell_type": "code",
   "execution_count": 283,
   "id": "1f91a488",
   "metadata": {},
   "outputs": [
    {
     "data": {
      "text/plain": [
       "StackingClassifier(estimators=[('rf',\n",
       "                                RandomForestClassifier(n_estimators=10,\n",
       "                                                       random_state=42)),\n",
       "                               ('nb', GaussianNB())],\n",
       "                   final_estimator=LogisticRegression())"
      ]
     },
     "execution_count": 283,
     "metadata": {},
     "output_type": "execute_result"
    }
   ],
   "source": [
    "clf.fit(X_train,y_train.astype(int))"
   ]
  },
  {
   "cell_type": "code",
   "execution_count": 284,
   "id": "e74785cb",
   "metadata": {},
   "outputs": [],
   "source": [
    "y_pred = clf.predict(X_test)"
   ]
  },
  {
   "cell_type": "code",
   "execution_count": 285,
   "id": "b0e50418",
   "metadata": {},
   "outputs": [
    {
     "name": "stdout",
     "output_type": "stream",
     "text": [
      "0.864\n"
     ]
    }
   ],
   "source": [
    "from sklearn.metrics import accuracy_score\n",
    "print(accuracy_score(y_test.astype(int),y_pred))"
   ]
  },
  {
   "cell_type": "code",
   "execution_count": 286,
   "id": "8d7e845a",
   "metadata": {},
   "outputs": [
    {
     "name": "stdout",
     "output_type": "stream",
     "text": [
      "0.7574468085106383\n"
     ]
    }
   ],
   "source": [
    "from sklearn.metrics import precision_score\n",
    "print(precision_score(y_test.astype(int),y_pred))"
   ]
  },
  {
   "cell_type": "code",
   "execution_count": 287,
   "id": "9b472354",
   "metadata": {},
   "outputs": [
    {
     "name": "stdout",
     "output_type": "stream",
     "text": [
      "0.4529262086513995\n"
     ]
    }
   ],
   "source": [
    "from sklearn.metrics import recall_score\n",
    "print(recall_score(y_test.astype(int),y_pred))"
   ]
  },
  {
   "cell_type": "code",
   "execution_count": 288,
   "id": "dabf6319",
   "metadata": {},
   "outputs": [
    {
     "name": "stdout",
     "output_type": "stream",
     "text": [
      "0.5668789808917198\n"
     ]
    }
   ],
   "source": [
    "from sklearn.metrics import f1_score\n",
    "print(f1_score(y_test.astype(int),y_pred))"
   ]
  },
  {
   "cell_type": "markdown",
   "id": "e0716921",
   "metadata": {},
   "source": [
    "\n",
    "<br />\n",
    "<br />\n",
    "<br />\n",
    "<br />\n",
    "\n",
    "# ` AdaBoost Classifier --------------------------------------------`\n",
    "--------\n",
    "\n",
    "### Ensembling:\n",
    "    1. Bagging/Bootstraping\n",
    "    2. Boosting => AdaBoost\n",
    "    3. Stacking\n",
    "- [Click Here](https://scikit-learn.org/stable/modules/generated/sklearn.ensemble.AdaBoostClassifier.html)\n",
    "- [Analytics Vidhya AdaBoost Blog](https://www.analyticsvidhya.com/blog/2021/03/introduction-to-adaboost-algorithm-with-python-implementation/)"
   ]
  },
  {
   "cell_type": "code",
   "execution_count": 289,
   "id": "08b72284",
   "metadata": {},
   "outputs": [],
   "source": [
    "from sklearn.tree import DecisionTreeClassifier\n",
    "from sklearn.linear_model import LogisticRegression\n",
    "tree = DecisionTreeClassifier(criterion='gini')\n",
    "lr = LogisticRegression()"
   ]
  },
  {
   "cell_type": "code",
   "execution_count": 290,
   "id": "af906b73",
   "metadata": {},
   "outputs": [],
   "source": [
    "from sklearn.ensemble import AdaBoostClassifier"
   ]
  },
  {
   "cell_type": "markdown",
   "id": "aed4c1ab",
   "metadata": {},
   "source": [
    "### Base Learner => Decision tree"
   ]
  },
  {
   "cell_type": "code",
   "execution_count": 291,
   "id": "eed78d8f",
   "metadata": {},
   "outputs": [],
   "source": [
    "model_adaBoost = AdaBoostClassifier(n_estimators=100,random_state=42)  # n_estimators => iterations of ml algo"
   ]
  },
  {
   "cell_type": "code",
   "execution_count": 292,
   "id": "e33b9294",
   "metadata": {},
   "outputs": [
    {
     "data": {
      "text/plain": [
       "AdaBoostClassifier(n_estimators=100, random_state=42)"
      ]
     },
     "execution_count": 292,
     "metadata": {},
     "output_type": "execute_result"
    }
   ],
   "source": [
    "model_adaBoost.fit(X_train,y_train.astype(int))"
   ]
  },
  {
   "cell_type": "code",
   "execution_count": 293,
   "id": "7c857ad9",
   "metadata": {},
   "outputs": [],
   "source": [
    "y_pred = model_adaBoost.predict(X_test)"
   ]
  },
  {
   "cell_type": "code",
   "execution_count": 294,
   "id": "70774bb8",
   "metadata": {},
   "outputs": [
    {
     "name": "stdout",
     "output_type": "stream",
     "text": [
      "0.856\n"
     ]
    }
   ],
   "source": [
    "from sklearn.metrics import accuracy_score\n",
    "print(accuracy_score(y_test.astype(int),y_pred))"
   ]
  },
  {
   "cell_type": "code",
   "execution_count": 295,
   "id": "b2ec181d",
   "metadata": {},
   "outputs": [
    {
     "name": "stdout",
     "output_type": "stream",
     "text": [
      "0.6895306859205776\n"
     ]
    }
   ],
   "source": [
    "from sklearn.metrics import precision_score\n",
    "print(precision_score(y_test.astype(int),y_pred))"
   ]
  },
  {
   "cell_type": "code",
   "execution_count": 296,
   "id": "c8a9cc80",
   "metadata": {},
   "outputs": [
    {
     "name": "stdout",
     "output_type": "stream",
     "text": [
      "0.4860050890585242\n"
     ]
    }
   ],
   "source": [
    "from sklearn.metrics import recall_score\n",
    "print(recall_score(y_test.astype(int),y_pred))"
   ]
  },
  {
   "cell_type": "code",
   "execution_count": 297,
   "id": "a93685ba",
   "metadata": {},
   "outputs": [
    {
     "name": "stdout",
     "output_type": "stream",
     "text": [
      "0.5701492537313433\n"
     ]
    }
   ],
   "source": [
    "from sklearn.metrics import f1_score\n",
    "print(f1_score(y_test.astype(int),y_pred))"
   ]
  },
  {
   "cell_type": "code",
   "execution_count": 298,
   "id": "0e4db9b0",
   "metadata": {},
   "outputs": [
    {
     "data": {
      "text/plain": [
       "array([0.27, 0.01, 0.36, 0.24, 0.05, 0.01, 0.03, 0.03])"
      ]
     },
     "execution_count": 298,
     "metadata": {},
     "output_type": "execute_result"
    }
   ],
   "source": [
    "model_adaBoost.feature_importances_"
   ]
  },
  {
   "cell_type": "code",
   "execution_count": 299,
   "id": "fa41bb41",
   "metadata": {},
   "outputs": [
    {
     "name": "stdout",
     "output_type": "stream",
     "text": [
      "******************************Feature Importance******************************\n"
     ]
    },
    {
     "data": {
      "text/plain": [
       "Text(0.5, 0, 'Support')"
      ]
     },
     "execution_count": 299,
     "metadata": {},
     "output_type": "execute_result"
    },
    {
     "data": {
      "image/png": "[encoded data removed]",
      "text/plain": [
       "<Figure size 1728x576 with 1 Axes>"
      ]
     },
     "metadata": {
      "needs_background": "light"
     },
     "output_type": "display_data"
    }
   ],
   "source": [
    "imp_feature = model_adaBoost.feature_importances_\n",
    "print('*'*30+'Feature Importance'+'*'*30)\n",
    "plt.figure(figsize=(24,8))\n",
    "pd.Series(imp_feature,index=X_train.columns).sort_values().plot.barh()\n",
    "plt.xlabel('Support')"
   ]
  },
  {
   "cell_type": "markdown",
   "id": "348db116",
   "metadata": {},
   "source": [
    "## `tree is causing problem in features importances, Why nan ask milan sir ???`"
   ]
  },
  {
   "cell_type": "markdown",
   "id": "effa6ea0",
   "metadata": {},
   "source": [
    "### Base Learner => Logistic Regression"
   ]
  },
  {
   "cell_type": "code",
   "execution_count": 300,
   "id": "1d174e29",
   "metadata": {},
   "outputs": [],
   "source": [
    "model_adaBoost = AdaBoostClassifier(base_estimator=lr,n_estimators=100)"
   ]
  },
  {
   "cell_type": "code",
   "execution_count": 301,
   "id": "53e68810",
   "metadata": {},
   "outputs": [
    {
     "data": {
      "text/plain": [
       "AdaBoostClassifier(base_estimator=LogisticRegression(), n_estimators=100)"
      ]
     },
     "execution_count": 301,
     "metadata": {},
     "output_type": "execute_result"
    }
   ],
   "source": [
    "model_adaBoost.fit(X_train,y_train.astype(int))"
   ]
  },
  {
   "cell_type": "code",
   "execution_count": 302,
   "id": "6095fb10",
   "metadata": {},
   "outputs": [],
   "source": [
    "y_pred = model_adaBoost.predict(X_test)"
   ]
  },
  {
   "cell_type": "code",
   "execution_count": 303,
   "id": "1572187f",
   "metadata": {},
   "outputs": [
    {
     "name": "stdout",
     "output_type": "stream",
     "text": [
      "0.8095\n"
     ]
    }
   ],
   "source": [
    "from sklearn.metrics import accuracy_score\n",
    "print(accuracy_score(y_test.astype(int),y_pred))"
   ]
  },
  {
   "cell_type": "code",
   "execution_count": 304,
   "id": "49268063",
   "metadata": {},
   "outputs": [
    {
     "name": "stdout",
     "output_type": "stream",
     "text": [
      "0.5422535211267606\n"
     ]
    }
   ],
   "source": [
    "from sklearn.metrics import precision_score\n",
    "print(precision_score(y_test.astype(int),y_pred))"
   ]
  },
  {
   "cell_type": "code",
   "execution_count": 305,
   "id": "55297f02",
   "metadata": {},
   "outputs": [
    {
     "name": "stdout",
     "output_type": "stream",
     "text": [
      "0.19592875318066158\n"
     ]
    }
   ],
   "source": [
    "from sklearn.metrics import recall_score\n",
    "print(recall_score(y_test.astype(int),y_pred))"
   ]
  },
  {
   "cell_type": "code",
   "execution_count": 306,
   "id": "e1ef3b1e",
   "metadata": {},
   "outputs": [
    {
     "name": "stdout",
     "output_type": "stream",
     "text": [
      "0.2878504672897196\n"
     ]
    }
   ],
   "source": [
    "from sklearn.metrics import f1_score\n",
    "print(f1_score(y_test.astype(int),y_pred))"
   ]
  },
  {
   "cell_type": "markdown",
   "id": "c12bae55",
   "metadata": {},
   "source": [
    "### `Base model can be any ML algorithm *************** `"
   ]
  },
  {
   "cell_type": "markdown",
   "id": "7e3642bb",
   "metadata": {},
   "source": [
    "\n",
    "<br />\n",
    "<br />\n",
    "<br />\n",
    "<br />\n",
    "\n",
    "# ` Responsiblities while reading Algorithm ---------------------`\n",
    "--------\n",
    "\n",
    "##### 1. Advantages of algorithm\n",
    "##### 2. Disadvantages of algorithm\n",
    "##### 3. Working of the model\n",
    "##### 4. Assumptions\n",
    "##### 5. Equations => How internally it works\n",
    "##### 6. Implementation\n",
    "##### 7. On what kind of a data it can work"
   ]
  },
  {
   "cell_type": "markdown",
   "id": "7794857f",
   "metadata": {},
   "source": [
    "\n",
    "<br />\n",
    "<br />\n",
    "<br />\n",
    "<br />\n",
    "\n",
    "# `Gradient Boosting Tree --------------------------------------------`\n",
    "--------\n",
    "\n",
    "### Ensembling:\n",
    "    1. Bagging/Bootstraping\n",
    "    2. Boosting => Gradient Boosting Tree\n",
    "    3. Stacking\n",
    "    \n",
    "#### `Just Decision tree is used sequentially here, not different ML algo as in AdaBoost`\n",
    "\n",
    "#### [Gradient boosting sklearn](https://scikit-learn.org/stable/modules/generated/sklearn.ensemble.GradientBoostingClassifier.html)\n",
    "#### [Gradient Bosting Analytics Vidhya](https://www.analyticsvidhya.com/blog/2021/03/gradient-boosting-machine-for-data-scientists/?utm_source=blog&utm_medium=AdaBoost)"
   ]
  },
  {
   "cell_type": "code",
   "execution_count": 307,
   "id": "23a46ac2",
   "metadata": {},
   "outputs": [],
   "source": [
    "from sklearn.ensemble import GradientBoostingClassifier\n",
    "gbm = GradientBoostingClassifier(n_estimators=100,max_depth=5,learning_rate=0.1 )"
   ]
  },
  {
   "cell_type": "code",
   "execution_count": 308,
   "id": "3bb1f877",
   "metadata": {},
   "outputs": [],
   "source": [
    "gbm.fit(X_train,y_train.astype(int))\n",
    "y_pred = gbm.predict(X_test)"
   ]
  },
  {
   "cell_type": "code",
   "execution_count": 309,
   "id": "798bf1b2",
   "metadata": {},
   "outputs": [
    {
     "name": "stdout",
     "output_type": "stream",
     "text": [
      "0.8655\n"
     ]
    }
   ],
   "source": [
    "from sklearn.metrics import accuracy_score\n",
    "print(accuracy_score(y_test.astype(int),y_pred))"
   ]
  },
  {
   "cell_type": "code",
   "execution_count": 310,
   "id": "8aedc963",
   "metadata": {},
   "outputs": [
    {
     "name": "stdout",
     "output_type": "stream",
     "text": [
      "0.7348484848484849\n"
     ]
    }
   ],
   "source": [
    "from sklearn.metrics import precision_score\n",
    "print(precision_score(y_test.astype(int),y_pred))"
   ]
  },
  {
   "cell_type": "code",
   "execution_count": 311,
   "id": "54d069cd",
   "metadata": {},
   "outputs": [
    {
     "name": "stdout",
     "output_type": "stream",
     "text": [
      "0.49363867684478374\n"
     ]
    }
   ],
   "source": [
    "from sklearn.metrics import recall_score\n",
    "print(recall_score(y_test.astype(int),y_pred))"
   ]
  },
  {
   "cell_type": "code",
   "execution_count": 312,
   "id": "dbf99a80",
   "metadata": {},
   "outputs": [
    {
     "name": "stdout",
     "output_type": "stream",
     "text": [
      "0.5905631659056317\n"
     ]
    }
   ],
   "source": [
    "from sklearn.metrics import f1_score\n",
    "print(f1_score(y_test.astype(int),y_pred))"
   ]
  },
  {
   "cell_type": "markdown",
   "id": "a212d4e5",
   "metadata": {},
   "source": [
    "\n",
    "<br />\n",
    "<br />\n",
    "<br />\n",
    "<br />\n",
    "\n",
    "# `XGBoost --------------------------------------------`\n",
    "--------\n",
    "\n",
    "### Ensembling:\n",
    "    1. Bagging/Bootstraping\n",
    "    2. Boosting => XGBoost\n",
    "    3. Stacking\n",
    "    \n",
    "#### `Decision tree with 3 improvisation in GBT`:\n",
    "1. Prunning ( Pre-prunning )\n",
    "2. Parallelism\n",
    "3. Regularization to reduce overfitting\n",
    "\n",
    "### [4 Boosting Algorithms You Should Know – GBM, XGBoost, LightGBM & CatBoost *****](https://www.analyticsvidhya.com/blog/2020/02/4-boosting-algorithms-machine-learning/)\n",
    "### [XGBoost Base Paper](https://arxiv.org/pdf/1603.02754.pdf)\n",
    "#### [XGBoost Analytics Vidhya](https://www.analyticsvidhya.com/blog/2018/09/an-end-to-end-guide-to-understand-the-math-behind-xgboost/)"
   ]
  },
  {
   "cell_type": "code",
   "execution_count": 313,
   "id": "2b837ca1",
   "metadata": {},
   "outputs": [],
   "source": [
    "# !pip install xgboost"
   ]
  },
  {
   "cell_type": "code",
   "execution_count": 314,
   "id": "bf5b3f57",
   "metadata": {},
   "outputs": [],
   "source": [
    "from xgboost.sklearn import XGBClassifier\n",
    "xgb = GradientBoostingClassifier(n_estimators=100)\n",
    "xgb.fit(X_train,y_train.astype(int))\n",
    "y_pred = xgb.predict(X_test)"
   ]
  },
  {
   "cell_type": "code",
   "execution_count": 315,
   "id": "92401788",
   "metadata": {},
   "outputs": [
    {
     "name": "stdout",
     "output_type": "stream",
     "text": [
      "0.8685\n"
     ]
    }
   ],
   "source": [
    "from sklearn.metrics import accuracy_score\n",
    "print(accuracy_score(y_test.astype(int),y_pred))"
   ]
  },
  {
   "cell_type": "code",
   "execution_count": 316,
   "id": "493cccaf",
   "metadata": {},
   "outputs": [
    {
     "name": "stdout",
     "output_type": "stream",
     "text": [
      "0.7620967741935484\n"
     ]
    }
   ],
   "source": [
    "from sklearn.metrics import precision_score\n",
    "print(precision_score(y_test.astype(int),y_pred))"
   ]
  },
  {
   "cell_type": "code",
   "execution_count": 317,
   "id": "70fd71b0",
   "metadata": {},
   "outputs": [
    {
     "name": "stdout",
     "output_type": "stream",
     "text": [
      "0.48091603053435117\n"
     ]
    }
   ],
   "source": [
    "from sklearn.metrics import recall_score\n",
    "print(recall_score(y_test.astype(int),y_pred))"
   ]
  },
  {
   "cell_type": "code",
   "execution_count": 318,
   "id": "5b18cf1b",
   "metadata": {},
   "outputs": [
    {
     "name": "stdout",
     "output_type": "stream",
     "text": [
      "0.5897035881435257\n"
     ]
    }
   ],
   "source": [
    "from sklearn.metrics import f1_score\n",
    "print(f1_score(y_test.astype(int),y_pred))"
   ]
  },
  {
   "cell_type": "markdown",
   "id": "85b9a6f1",
   "metadata": {},
   "source": [
    "#### Documentation"
   ]
  },
  {
   "cell_type": "code",
   "execution_count": 319,
   "id": "c6ad15c2",
   "metadata": {},
   "outputs": [],
   "source": [
    "# XGBClassifier??"
   ]
  },
  {
   "cell_type": "markdown",
   "id": "27e5b081",
   "metadata": {},
   "source": [
    "\n",
    "<br />\n",
    "<br />\n",
    "<br />\n",
    "<br />\n",
    "\n",
    "# `SVM --------------------------------------------`\n",
    "--------\n",
    "- `Here we draw a hyperplane which has maximum margin to saperate 2 classes`\n",
    "- `Types of Kernel in SVM:`\n",
    "    1. Linear\n",
    "    2. Polynomial\n",
    "    3. RBF\n",
    "    4. Sigmoid"
   ]
  },
  {
   "cell_type": "code",
   "execution_count": 320,
   "id": "094a46da",
   "metadata": {},
   "outputs": [],
   "source": [
    "from sklearn.svm import SVC\n",
    "\n",
    "model = SVC(C=0.5,kernel='rbf')\n",
    "model.fit(X_train,y_train.astype(int))\n",
    "y_pred = model.predict(X_test)"
   ]
  },
  {
   "cell_type": "code",
   "execution_count": 321,
   "id": "7dc63635",
   "metadata": {},
   "outputs": [
    {
     "name": "stdout",
     "output_type": "stream",
     "text": [
      "[[1576   31]\n",
      " [ 252  141]]\n"
     ]
    }
   ],
   "source": [
    "from sklearn.metrics import confusion_matrix\n",
    "print(confusion_matrix(y_test.astype(int),y_pred))"
   ]
  },
  {
   "cell_type": "code",
   "execution_count": 322,
   "id": "f31a2935",
   "metadata": {},
   "outputs": [
    {
     "name": "stdout",
     "output_type": "stream",
     "text": [
      "0.8585\n"
     ]
    }
   ],
   "source": [
    "from sklearn.metrics import accuracy_score\n",
    "print(accuracy_score(y_test.astype(int),y_pred))"
   ]
  },
  {
   "cell_type": "code",
   "execution_count": 323,
   "id": "d04390b8",
   "metadata": {},
   "outputs": [
    {
     "name": "stdout",
     "output_type": "stream",
     "text": [
      "0.8197674418604651\n"
     ]
    }
   ],
   "source": [
    "from sklearn.metrics import precision_score\n",
    "print(precision_score(y_test.astype(int),y_pred))"
   ]
  },
  {
   "cell_type": "code",
   "execution_count": 324,
   "id": "b321f2d7",
   "metadata": {},
   "outputs": [
    {
     "name": "stdout",
     "output_type": "stream",
     "text": [
      "0.35877862595419846\n"
     ]
    }
   ],
   "source": [
    "from sklearn.metrics import recall_score\n",
    "print(recall_score(y_test.astype(int),y_pred))"
   ]
  },
  {
   "cell_type": "code",
   "execution_count": 325,
   "id": "ac429719",
   "metadata": {},
   "outputs": [
    {
     "name": "stdout",
     "output_type": "stream",
     "text": [
      "0.4991150442477876\n"
     ]
    }
   ],
   "source": [
    "from sklearn.metrics import f1_score\n",
    "print(f1_score(y_test.astype(int),y_pred))"
   ]
  },
  {
   "cell_type": "markdown",
   "id": "977cf5ad",
   "metadata": {},
   "source": [
    "### `Grid search to find optimum Hyperparameters`"
   ]
  },
  {
   "cell_type": "code",
   "execution_count": 327,
   "id": "2fbbfd08",
   "metadata": {},
   "outputs": [],
   "source": [
    "from sklearn.model_selection import KFold, cross_val_score\n",
    "folds = KFold(n_splits=10, shuffle=True)"
   ]
  },
  {
   "cell_type": "markdown",
   "id": "8df87491",
   "metadata": {},
   "source": [
    "#### Cross validation"
   ]
  },
  {
   "cell_type": "code",
   "execution_count": 328,
   "id": "76215189",
   "metadata": {},
   "outputs": [],
   "source": [
    "svm = SVC()\n",
    "accuracy = cross_val_score(svm,X_train,y_train.astype(int),cv=folds)"
   ]
  },
  {
   "cell_type": "markdown",
   "id": "59e66f3d",
   "metadata": {},
   "source": [
    "### Why SVM is slow:\n",
    "#### 1. choosing a support vector takes lot of time\n",
    "#### 2. It tries to convert data into higher dimension"
   ]
  },
  {
   "cell_type": "code",
   "execution_count": 330,
   "id": "085b0f48",
   "metadata": {},
   "outputs": [
    {
     "data": {
      "text/plain": [
       "array([0.85375, 0.87625, 0.85875, 0.855  , 0.8425 , 0.86625, 0.87625,\n",
       "       0.85125, 0.83875, 0.85875])"
      ]
     },
     "execution_count": 330,
     "metadata": {},
     "output_type": "execute_result"
    }
   ],
   "source": [
    "accuracy"
   ]
  },
  {
   "cell_type": "markdown",
   "id": "260adbf0",
   "metadata": {},
   "source": [
    "### Grid search"
   ]
  },
  {
   "cell_type": "code",
   "execution_count": 331,
   "id": "d212e53e",
   "metadata": {},
   "outputs": [],
   "source": [
    "hyper_params = [{'gamma':[1e-2,1e-1,1e-3,1e-4],\n",
    "                 'C':[1,10,100,1000]\n",
    "                }\n",
    "    \n",
    "]"
   ]
  },
  {
   "cell_type": "code",
   "execution_count": 332,
   "id": "da1e8234",
   "metadata": {},
   "outputs": [],
   "source": [
    "model_cv = GridSearchCV(estimator=svm,\n",
    "                       param_grid=hyper_params,\n",
    "                       scoring='accuracy',\n",
    "                       cv=folds,\n",
    "                       n_jobs=-1,\n",
    "                       return_train_score=True)"
   ]
  },
  {
   "cell_type": "code",
   "execution_count": 333,
   "id": "f85ef12f",
   "metadata": {},
   "outputs": [],
   "source": [
    "model_cv.fit(X_train,y_train.astype(int))\n",
    "y_pred = model_cv.predict(X_test)"
   ]
  },
  {
   "cell_type": "code",
   "execution_count": 335,
   "id": "1e6836c4",
   "metadata": {},
   "outputs": [
    {
     "name": "stdout",
     "output_type": "stream",
     "text": [
      "[[1546   61]\n",
      " [ 216  177]]\n"
     ]
    }
   ],
   "source": [
    "from sklearn.metrics import confusion_matrix\n",
    "print(confusion_matrix(y_test.astype(int),y_pred))"
   ]
  },
  {
   "cell_type": "code",
   "execution_count": 336,
   "id": "c2ca4411",
   "metadata": {},
   "outputs": [
    {
     "name": "stdout",
     "output_type": "stream",
     "text": [
      "0.8615\n"
     ]
    }
   ],
   "source": [
    "from sklearn.metrics import accuracy_score\n",
    "print(accuracy_score(y_test.astype(int),y_pred))"
   ]
  },
  {
   "cell_type": "code",
   "execution_count": 337,
   "id": "0e46239f",
   "metadata": {},
   "outputs": [
    {
     "name": "stdout",
     "output_type": "stream",
     "text": [
      "0.7436974789915967\n"
     ]
    }
   ],
   "source": [
    "from sklearn.metrics import precision_score\n",
    "print(precision_score(y_test.astype(int),y_pred))"
   ]
  },
  {
   "cell_type": "code",
   "execution_count": 339,
   "id": "fa24f4ca",
   "metadata": {},
   "outputs": [
    {
     "name": "stdout",
     "output_type": "stream",
     "text": [
      "0.45038167938931295\n"
     ]
    }
   ],
   "source": [
    "from sklearn.metrics import recall_score\n",
    "print(recall_score(y_test.astype(int),y_pred))"
   ]
  },
  {
   "cell_type": "code",
   "execution_count": 340,
   "id": "3a6cb511",
   "metadata": {},
   "outputs": [
    {
     "name": "stdout",
     "output_type": "stream",
     "text": [
      "0.5610142630744849\n"
     ]
    }
   ],
   "source": [
    "from sklearn.metrics import f1_score\n",
    "print(f1_score(y_test.astype(int),y_pred))"
   ]
  },
  {
   "cell_type": "code",
   "execution_count": 341,
   "id": "0568c04d",
   "metadata": {},
   "outputs": [],
   "source": [
    "cv_results = pd.DataFrame(model_cv.cv_results_)"
   ]
  },
  {
   "cell_type": "code",
   "execution_count": 342,
   "id": "a3bda16d",
   "metadata": {},
   "outputs": [
    {
     "data": {
      "text/html": [
       "<div>\n",
       "<style scoped>\n",
       "    .dataframe tbody tr th:only-of-type {\n",
       "        vertical-align: middle;\n",
       "    }\n",
       "\n",
       "    .dataframe tbody tr th {\n",
       "        vertical-align: top;\n",
       "    }\n",
       "\n",
       "    .dataframe thead th {\n",
       "        text-align: right;\n",
       "    }\n",
       "</style>\n",
       "<table border=\"1\" class=\"dataframe\">\n",
       "  <thead>\n",
       "    <tr style=\"text-align: right;\">\n",
       "      <th></th>\n",
       "      <th>mean_fit_time</th>\n",
       "      <th>std_fit_time</th>\n",
       "      <th>mean_score_time</th>\n",
       "      <th>std_score_time</th>\n",
       "      <th>param_C</th>\n",
       "      <th>param_gamma</th>\n",
       "      <th>params</th>\n",
       "      <th>split0_test_score</th>\n",
       "      <th>split1_test_score</th>\n",
       "      <th>split2_test_score</th>\n",
       "      <th>...</th>\n",
       "      <th>split2_train_score</th>\n",
       "      <th>split3_train_score</th>\n",
       "      <th>split4_train_score</th>\n",
       "      <th>split5_train_score</th>\n",
       "      <th>split6_train_score</th>\n",
       "      <th>split7_train_score</th>\n",
       "      <th>split8_train_score</th>\n",
       "      <th>split9_train_score</th>\n",
       "      <th>mean_train_score</th>\n",
       "      <th>std_train_score</th>\n",
       "    </tr>\n",
       "  </thead>\n",
       "  <tbody>\n",
       "    <tr>\n",
       "      <th>0</th>\n",
       "      <td>4.467481</td>\n",
       "      <td>0.324978</td>\n",
       "      <td>0.943361</td>\n",
       "      <td>0.081324</td>\n",
       "      <td>1</td>\n",
       "      <td>0.01</td>\n",
       "      <td>{'C': 1, 'gamma': 0.01}</td>\n",
       "      <td>0.81500</td>\n",
       "      <td>0.80000</td>\n",
       "      <td>0.79125</td>\n",
       "      <td>...</td>\n",
       "      <td>0.794861</td>\n",
       "      <td>0.794722</td>\n",
       "      <td>0.793889</td>\n",
       "      <td>0.795972</td>\n",
       "      <td>0.795417</td>\n",
       "      <td>0.794722</td>\n",
       "      <td>0.793611</td>\n",
       "      <td>0.795694</td>\n",
       "      <td>0.794500</td>\n",
       "      <td>0.001067</td>\n",
       "    </tr>\n",
       "    <tr>\n",
       "      <th>1</th>\n",
       "      <td>3.585894</td>\n",
       "      <td>0.239316</td>\n",
       "      <td>0.790621</td>\n",
       "      <td>0.050254</td>\n",
       "      <td>1</td>\n",
       "      <td>0.1</td>\n",
       "      <td>{'C': 1, 'gamma': 0.1}</td>\n",
       "      <td>0.87000</td>\n",
       "      <td>0.85750</td>\n",
       "      <td>0.85750</td>\n",
       "      <td>...</td>\n",
       "      <td>0.857361</td>\n",
       "      <td>0.857222</td>\n",
       "      <td>0.858333</td>\n",
       "      <td>0.859583</td>\n",
       "      <td>0.859306</td>\n",
       "      <td>0.857222</td>\n",
       "      <td>0.858194</td>\n",
       "      <td>0.857778</td>\n",
       "      <td>0.857958</td>\n",
       "      <td>0.000843</td>\n",
       "    </tr>\n",
       "    <tr>\n",
       "      <th>2</th>\n",
       "      <td>4.178320</td>\n",
       "      <td>0.151886</td>\n",
       "      <td>0.889023</td>\n",
       "      <td>0.057501</td>\n",
       "      <td>1</td>\n",
       "      <td>0.001</td>\n",
       "      <td>{'C': 1, 'gamma': 0.001}</td>\n",
       "      <td>0.81500</td>\n",
       "      <td>0.80000</td>\n",
       "      <td>0.79125</td>\n",
       "      <td>...</td>\n",
       "      <td>0.794861</td>\n",
       "      <td>0.794722</td>\n",
       "      <td>0.793889</td>\n",
       "      <td>0.795972</td>\n",
       "      <td>0.795417</td>\n",
       "      <td>0.794722</td>\n",
       "      <td>0.793611</td>\n",
       "      <td>0.795694</td>\n",
       "      <td>0.794500</td>\n",
       "      <td>0.001067</td>\n",
       "    </tr>\n",
       "    <tr>\n",
       "      <th>3</th>\n",
       "      <td>3.171118</td>\n",
       "      <td>0.174513</td>\n",
       "      <td>0.848487</td>\n",
       "      <td>0.038254</td>\n",
       "      <td>1</td>\n",
       "      <td>0.0001</td>\n",
       "      <td>{'C': 1, 'gamma': 0.0001}</td>\n",
       "      <td>0.81500</td>\n",
       "      <td>0.80000</td>\n",
       "      <td>0.79125</td>\n",
       "      <td>...</td>\n",
       "      <td>0.794861</td>\n",
       "      <td>0.794722</td>\n",
       "      <td>0.793889</td>\n",
       "      <td>0.795972</td>\n",
       "      <td>0.795417</td>\n",
       "      <td>0.794722</td>\n",
       "      <td>0.793611</td>\n",
       "      <td>0.795694</td>\n",
       "      <td>0.794500</td>\n",
       "      <td>0.001067</td>\n",
       "    </tr>\n",
       "    <tr>\n",
       "      <th>4</th>\n",
       "      <td>4.146693</td>\n",
       "      <td>0.444167</td>\n",
       "      <td>0.844159</td>\n",
       "      <td>0.051372</td>\n",
       "      <td>10</td>\n",
       "      <td>0.01</td>\n",
       "      <td>{'C': 10, 'gamma': 0.01}</td>\n",
       "      <td>0.85250</td>\n",
       "      <td>0.84375</td>\n",
       "      <td>0.84125</td>\n",
       "      <td>...</td>\n",
       "      <td>0.841111</td>\n",
       "      <td>0.841806</td>\n",
       "      <td>0.842500</td>\n",
       "      <td>0.843333</td>\n",
       "      <td>0.843472</td>\n",
       "      <td>0.842083</td>\n",
       "      <td>0.841389</td>\n",
       "      <td>0.839861</td>\n",
       "      <td>0.841889</td>\n",
       "      <td>0.001094</td>\n",
       "    </tr>\n",
       "    <tr>\n",
       "      <th>5</th>\n",
       "      <td>4.045637</td>\n",
       "      <td>0.103631</td>\n",
       "      <td>0.638774</td>\n",
       "      <td>0.014798</td>\n",
       "      <td>10</td>\n",
       "      <td>0.1</td>\n",
       "      <td>{'C': 10, 'gamma': 0.1}</td>\n",
       "      <td>0.87375</td>\n",
       "      <td>0.85750</td>\n",
       "      <td>0.86250</td>\n",
       "      <td>...</td>\n",
       "      <td>0.862917</td>\n",
       "      <td>0.864722</td>\n",
       "      <td>0.862778</td>\n",
       "      <td>0.864861</td>\n",
       "      <td>0.864861</td>\n",
       "      <td>0.863889</td>\n",
       "      <td>0.863056</td>\n",
       "      <td>0.862639</td>\n",
       "      <td>0.863667</td>\n",
       "      <td>0.000850</td>\n",
       "    </tr>\n",
       "    <tr>\n",
       "      <th>6</th>\n",
       "      <td>5.433189</td>\n",
       "      <td>1.313545</td>\n",
       "      <td>1.000580</td>\n",
       "      <td>0.142044</td>\n",
       "      <td>10</td>\n",
       "      <td>0.001</td>\n",
       "      <td>{'C': 10, 'gamma': 0.001}</td>\n",
       "      <td>0.81500</td>\n",
       "      <td>0.80000</td>\n",
       "      <td>0.79125</td>\n",
       "      <td>...</td>\n",
       "      <td>0.794861</td>\n",
       "      <td>0.794722</td>\n",
       "      <td>0.793889</td>\n",
       "      <td>0.795972</td>\n",
       "      <td>0.795417</td>\n",
       "      <td>0.794722</td>\n",
       "      <td>0.793611</td>\n",
       "      <td>0.795694</td>\n",
       "      <td>0.794500</td>\n",
       "      <td>0.001067</td>\n",
       "    </tr>\n",
       "    <tr>\n",
       "      <th>7</th>\n",
       "      <td>3.931336</td>\n",
       "      <td>0.144381</td>\n",
       "      <td>0.892938</td>\n",
       "      <td>0.057505</td>\n",
       "      <td>10</td>\n",
       "      <td>0.0001</td>\n",
       "      <td>{'C': 10, 'gamma': 0.0001}</td>\n",
       "      <td>0.81500</td>\n",
       "      <td>0.80000</td>\n",
       "      <td>0.79125</td>\n",
       "      <td>...</td>\n",
       "      <td>0.794861</td>\n",
       "      <td>0.794722</td>\n",
       "      <td>0.793889</td>\n",
       "      <td>0.795972</td>\n",
       "      <td>0.795417</td>\n",
       "      <td>0.794722</td>\n",
       "      <td>0.793611</td>\n",
       "      <td>0.795694</td>\n",
       "      <td>0.794500</td>\n",
       "      <td>0.001067</td>\n",
       "    </tr>\n",
       "    <tr>\n",
       "      <th>8</th>\n",
       "      <td>4.980426</td>\n",
       "      <td>0.475009</td>\n",
       "      <td>0.717784</td>\n",
       "      <td>0.022275</td>\n",
       "      <td>100</td>\n",
       "      <td>0.01</td>\n",
       "      <td>{'C': 100, 'gamma': 0.01}</td>\n",
       "      <td>0.87000</td>\n",
       "      <td>0.86000</td>\n",
       "      <td>0.86250</td>\n",
       "      <td>...</td>\n",
       "      <td>0.857361</td>\n",
       "      <td>0.858333</td>\n",
       "      <td>0.857639</td>\n",
       "      <td>0.859306</td>\n",
       "      <td>0.860000</td>\n",
       "      <td>0.857778</td>\n",
       "      <td>0.858889</td>\n",
       "      <td>0.857778</td>\n",
       "      <td>0.858319</td>\n",
       "      <td>0.000789</td>\n",
       "    </tr>\n",
       "    <tr>\n",
       "      <th>9</th>\n",
       "      <td>10.187028</td>\n",
       "      <td>0.785162</td>\n",
       "      <td>0.664889</td>\n",
       "      <td>0.061044</td>\n",
       "      <td>100</td>\n",
       "      <td>0.1</td>\n",
       "      <td>{'C': 100, 'gamma': 0.1}</td>\n",
       "      <td>0.87375</td>\n",
       "      <td>0.85875</td>\n",
       "      <td>0.86250</td>\n",
       "      <td>...</td>\n",
       "      <td>0.873333</td>\n",
       "      <td>0.873750</td>\n",
       "      <td>0.873333</td>\n",
       "      <td>0.874444</td>\n",
       "      <td>0.875278</td>\n",
       "      <td>0.873750</td>\n",
       "      <td>0.876667</td>\n",
       "      <td>0.873611</td>\n",
       "      <td>0.874264</td>\n",
       "      <td>0.001109</td>\n",
       "    </tr>\n",
       "    <tr>\n",
       "      <th>10</th>\n",
       "      <td>4.838934</td>\n",
       "      <td>0.466216</td>\n",
       "      <td>0.894391</td>\n",
       "      <td>0.070853</td>\n",
       "      <td>100</td>\n",
       "      <td>0.001</td>\n",
       "      <td>{'C': 100, 'gamma': 0.001}</td>\n",
       "      <td>0.81500</td>\n",
       "      <td>0.80125</td>\n",
       "      <td>0.79125</td>\n",
       "      <td>...</td>\n",
       "      <td>0.794861</td>\n",
       "      <td>0.794861</td>\n",
       "      <td>0.794167</td>\n",
       "      <td>0.796111</td>\n",
       "      <td>0.795556</td>\n",
       "      <td>0.795139</td>\n",
       "      <td>0.793750</td>\n",
       "      <td>0.795833</td>\n",
       "      <td>0.794667</td>\n",
       "      <td>0.001045</td>\n",
       "    </tr>\n",
       "    <tr>\n",
       "      <th>11</th>\n",
       "      <td>5.101988</td>\n",
       "      <td>0.417765</td>\n",
       "      <td>1.008884</td>\n",
       "      <td>0.164264</td>\n",
       "      <td>100</td>\n",
       "      <td>0.0001</td>\n",
       "      <td>{'C': 100, 'gamma': 0.0001}</td>\n",
       "      <td>0.81500</td>\n",
       "      <td>0.80000</td>\n",
       "      <td>0.79125</td>\n",
       "      <td>...</td>\n",
       "      <td>0.794861</td>\n",
       "      <td>0.794722</td>\n",
       "      <td>0.793889</td>\n",
       "      <td>0.795972</td>\n",
       "      <td>0.795417</td>\n",
       "      <td>0.794722</td>\n",
       "      <td>0.793611</td>\n",
       "      <td>0.795694</td>\n",
       "      <td>0.794500</td>\n",
       "      <td>0.001067</td>\n",
       "    </tr>\n",
       "    <tr>\n",
       "      <th>12</th>\n",
       "      <td>11.813801</td>\n",
       "      <td>0.699322</td>\n",
       "      <td>0.682936</td>\n",
       "      <td>0.047353</td>\n",
       "      <td>1000</td>\n",
       "      <td>0.01</td>\n",
       "      <td>{'C': 1000, 'gamma': 0.01}</td>\n",
       "      <td>0.86875</td>\n",
       "      <td>0.85875</td>\n",
       "      <td>0.86625</td>\n",
       "      <td>...</td>\n",
       "      <td>0.857917</td>\n",
       "      <td>0.859167</td>\n",
       "      <td>0.858611</td>\n",
       "      <td>0.860000</td>\n",
       "      <td>0.861111</td>\n",
       "      <td>0.858611</td>\n",
       "      <td>0.859583</td>\n",
       "      <td>0.859306</td>\n",
       "      <td>0.859194</td>\n",
       "      <td>0.000847</td>\n",
       "    </tr>\n",
       "    <tr>\n",
       "      <th>13</th>\n",
       "      <td>58.588865</td>\n",
       "      <td>3.241707</td>\n",
       "      <td>0.665007</td>\n",
       "      <td>0.041641</td>\n",
       "      <td>1000</td>\n",
       "      <td>0.1</td>\n",
       "      <td>{'C': 1000, 'gamma': 0.1}</td>\n",
       "      <td>0.87000</td>\n",
       "      <td>0.86250</td>\n",
       "      <td>0.86375</td>\n",
       "      <td>...</td>\n",
       "      <td>0.884028</td>\n",
       "      <td>0.882778</td>\n",
       "      <td>0.882639</td>\n",
       "      <td>0.882778</td>\n",
       "      <td>0.885278</td>\n",
       "      <td>0.882778</td>\n",
       "      <td>0.884583</td>\n",
       "      <td>0.881250</td>\n",
       "      <td>0.882986</td>\n",
       "      <td>0.001257</td>\n",
       "    </tr>\n",
       "    <tr>\n",
       "      <th>14</th>\n",
       "      <td>5.867313</td>\n",
       "      <td>0.423121</td>\n",
       "      <td>0.839787</td>\n",
       "      <td>0.087952</td>\n",
       "      <td>1000</td>\n",
       "      <td>0.001</td>\n",
       "      <td>{'C': 1000, 'gamma': 0.001}</td>\n",
       "      <td>0.85375</td>\n",
       "      <td>0.84250</td>\n",
       "      <td>0.84250</td>\n",
       "      <td>...</td>\n",
       "      <td>0.842083</td>\n",
       "      <td>0.842083</td>\n",
       "      <td>0.845694</td>\n",
       "      <td>0.843750</td>\n",
       "      <td>0.844861</td>\n",
       "      <td>0.842917</td>\n",
       "      <td>0.842083</td>\n",
       "      <td>0.842361</td>\n",
       "      <td>0.843125</td>\n",
       "      <td>0.001213</td>\n",
       "    </tr>\n",
       "    <tr>\n",
       "      <th>15</th>\n",
       "      <td>7.682668</td>\n",
       "      <td>0.388463</td>\n",
       "      <td>0.851945</td>\n",
       "      <td>0.087510</td>\n",
       "      <td>1000</td>\n",
       "      <td>0.0001</td>\n",
       "      <td>{'C': 1000, 'gamma': 0.0001}</td>\n",
       "      <td>0.81500</td>\n",
       "      <td>0.80000</td>\n",
       "      <td>0.79125</td>\n",
       "      <td>...</td>\n",
       "      <td>0.794861</td>\n",
       "      <td>0.794722</td>\n",
       "      <td>0.793889</td>\n",
       "      <td>0.795972</td>\n",
       "      <td>0.795417</td>\n",
       "      <td>0.794722</td>\n",
       "      <td>0.793611</td>\n",
       "      <td>0.795694</td>\n",
       "      <td>0.794500</td>\n",
       "      <td>0.001067</td>\n",
       "    </tr>\n",
       "  </tbody>\n",
       "</table>\n",
       "<p>16 rows × 32 columns</p>\n",
       "</div>"
      ],
      "text/plain": [
       "    mean_fit_time  std_fit_time  mean_score_time  std_score_time param_C  \\\n",
       "0        4.467481      0.324978         0.943361        0.081324       1   \n",
       "1        3.585894      0.239316         0.790621        0.050254       1   \n",
       "2        4.178320      0.151886         0.889023        0.057501       1   \n",
       "3        3.171118      0.174513         0.848487        0.038254       1   \n",
       "4        4.146693      0.444167         0.844159        0.051372      10   \n",
       "5        4.045637      0.103631         0.638774        0.014798      10   \n",
       "6        5.433189      1.313545         1.000580        0.142044      10   \n",
       "7        3.931336      0.144381         0.892938        0.057505      10   \n",
       "8        4.980426      0.475009         0.717784        0.022275     100   \n",
       "9       10.187028      0.785162         0.664889        0.061044     100   \n",
       "10       4.838934      0.466216         0.894391        0.070853     100   \n",
       "11       5.101988      0.417765         1.008884        0.164264     100   \n",
       "12      11.813801      0.699322         0.682936        0.047353    1000   \n",
       "13      58.588865      3.241707         0.665007        0.041641    1000   \n",
       "14       5.867313      0.423121         0.839787        0.087952    1000   \n",
       "15       7.682668      0.388463         0.851945        0.087510    1000   \n",
       "\n",
       "   param_gamma                        params  split0_test_score  \\\n",
       "0         0.01       {'C': 1, 'gamma': 0.01}            0.81500   \n",
       "1          0.1        {'C': 1, 'gamma': 0.1}            0.87000   \n",
       "2        0.001      {'C': 1, 'gamma': 0.001}            0.81500   \n",
       "3       0.0001     {'C': 1, 'gamma': 0.0001}            0.81500   \n",
       "4         0.01      {'C': 10, 'gamma': 0.01}            0.85250   \n",
       "5          0.1       {'C': 10, 'gamma': 0.1}            0.87375   \n",
       "6        0.001     {'C': 10, 'gamma': 0.001}            0.81500   \n",
       "7       0.0001    {'C': 10, 'gamma': 0.0001}            0.81500   \n",
       "8         0.01     {'C': 100, 'gamma': 0.01}            0.87000   \n",
       "9          0.1      {'C': 100, 'gamma': 0.1}            0.87375   \n",
       "10       0.001    {'C': 100, 'gamma': 0.001}            0.81500   \n",
       "11      0.0001   {'C': 100, 'gamma': 0.0001}            0.81500   \n",
       "12        0.01    {'C': 1000, 'gamma': 0.01}            0.86875   \n",
       "13         0.1     {'C': 1000, 'gamma': 0.1}            0.87000   \n",
       "14       0.001   {'C': 1000, 'gamma': 0.001}            0.85375   \n",
       "15      0.0001  {'C': 1000, 'gamma': 0.0001}            0.81500   \n",
       "\n",
       "    split1_test_score  split2_test_score  ...  split2_train_score  \\\n",
       "0             0.80000            0.79125  ...            0.794861   \n",
       "1             0.85750            0.85750  ...            0.857361   \n",
       "2             0.80000            0.79125  ...            0.794861   \n",
       "3             0.80000            0.79125  ...            0.794861   \n",
       "4             0.84375            0.84125  ...            0.841111   \n",
       "5             0.85750            0.86250  ...            0.862917   \n",
       "6             0.80000            0.79125  ...            0.794861   \n",
       "7             0.80000            0.79125  ...            0.794861   \n",
       "8             0.86000            0.86250  ...            0.857361   \n",
       "9             0.85875            0.86250  ...            0.873333   \n",
       "10            0.80125            0.79125  ...            0.794861   \n",
       "11            0.80000            0.79125  ...            0.794861   \n",
       "12            0.85875            0.86625  ...            0.857917   \n",
       "13            0.86250            0.86375  ...            0.884028   \n",
       "14            0.84250            0.84250  ...            0.842083   \n",
       "15            0.80000            0.79125  ...            0.794861   \n",
       "\n",
       "    split3_train_score  split4_train_score  split5_train_score  \\\n",
       "0             0.794722            0.793889            0.795972   \n",
       "1             0.857222            0.858333            0.859583   \n",
       "2             0.794722            0.793889            0.795972   \n",
       "3             0.794722            0.793889            0.795972   \n",
       "4             0.841806            0.842500            0.843333   \n",
       "5             0.864722            0.862778            0.864861   \n",
       "6             0.794722            0.793889            0.795972   \n",
       "7             0.794722            0.793889            0.795972   \n",
       "8             0.858333            0.857639            0.859306   \n",
       "9             0.873750            0.873333            0.874444   \n",
       "10            0.794861            0.794167            0.796111   \n",
       "11            0.794722            0.793889            0.795972   \n",
       "12            0.859167            0.858611            0.860000   \n",
       "13            0.882778            0.882639            0.882778   \n",
       "14            0.842083            0.845694            0.843750   \n",
       "15            0.794722            0.793889            0.795972   \n",
       "\n",
       "    split6_train_score  split7_train_score  split8_train_score  \\\n",
       "0             0.795417            0.794722            0.793611   \n",
       "1             0.859306            0.857222            0.858194   \n",
       "2             0.795417            0.794722            0.793611   \n",
       "3             0.795417            0.794722            0.793611   \n",
       "4             0.843472            0.842083            0.841389   \n",
       "5             0.864861            0.863889            0.863056   \n",
       "6             0.795417            0.794722            0.793611   \n",
       "7             0.795417            0.794722            0.793611   \n",
       "8             0.860000            0.857778            0.858889   \n",
       "9             0.875278            0.873750            0.876667   \n",
       "10            0.795556            0.795139            0.793750   \n",
       "11            0.795417            0.794722            0.793611   \n",
       "12            0.861111            0.858611            0.859583   \n",
       "13            0.885278            0.882778            0.884583   \n",
       "14            0.844861            0.842917            0.842083   \n",
       "15            0.795417            0.794722            0.793611   \n",
       "\n",
       "    split9_train_score  mean_train_score  std_train_score  \n",
       "0             0.795694          0.794500         0.001067  \n",
       "1             0.857778          0.857958         0.000843  \n",
       "2             0.795694          0.794500         0.001067  \n",
       "3             0.795694          0.794500         0.001067  \n",
       "4             0.839861          0.841889         0.001094  \n",
       "5             0.862639          0.863667         0.000850  \n",
       "6             0.795694          0.794500         0.001067  \n",
       "7             0.795694          0.794500         0.001067  \n",
       "8             0.857778          0.858319         0.000789  \n",
       "9             0.873611          0.874264         0.001109  \n",
       "10            0.795833          0.794667         0.001045  \n",
       "11            0.795694          0.794500         0.001067  \n",
       "12            0.859306          0.859194         0.000847  \n",
       "13            0.881250          0.882986         0.001257  \n",
       "14            0.842361          0.843125         0.001213  \n",
       "15            0.795694          0.794500         0.001067  \n",
       "\n",
       "[16 rows x 32 columns]"
      ]
     },
     "execution_count": 342,
     "metadata": {},
     "output_type": "execute_result"
    }
   ],
   "source": [
    "cv_results"
   ]
  },
  {
   "cell_type": "code",
   "execution_count": 343,
   "id": "13276b30",
   "metadata": {},
   "outputs": [
    {
     "data": {
      "image/png": "[encoded data removed]",
      "text/plain": [
       "<Figure size 1152x432 with 1 Axes>"
      ]
     },
     "metadata": {
      "needs_background": "light"
     },
     "output_type": "display_data"
    }
   ],
   "source": [
    "# converting C to numeric type for plotting on x-axis\n",
    "cv_results['param_C'] = cv_results['param_C'].astype('int')\n",
    "\n",
    "# # plotting\n",
    "plt.figure(figsize=(16,6))\n",
    "gamma_01 = cv_results[cv_results['param_gamma']==0.01]\n",
    "\n",
    "plt.plot(gamma_01[\"param_C\"], gamma_01[\"mean_test_score\"])\n",
    "plt.plot(gamma_01[\"param_C\"], gamma_01[\"mean_train_score\"])\n",
    "plt.xlabel('C')\n",
    "plt.ylabel('Accuracy')\n",
    "plt.title(\"Gamma=0.01\")\n",
    "plt.ylim([0.80, 1])\n",
    "plt.legend(['test accuracy', 'train accuracy'], loc='upper left')\n",
    "plt.xscale('log')"
   ]
  },
  {
   "cell_type": "markdown",
   "id": "24ddf1ed",
   "metadata": {},
   "source": [
    "### Applying Grid Search to find the best model and the best parameters"
   ]
  },
  {
   "cell_type": "code",
   "execution_count": null,
   "id": "7d4dd7a3",
   "metadata": {},
   "outputs": [],
   "source": [
    "# from sklearn.model_selection import GridSearchCV\n",
    "\n",
    "# classifier = SVC()\n",
    "# parameters = [{'C': [1, 10, 100, 1000], 'kernel': ['linear']},\n",
    "#               {'C': [1, 10, 100, 1000], 'kernel': ['rbf'], 'gamma': [0.1, 0.2, 0.3, 0.4, 0.5, 0.6, 0.7, 0.8, 0.9]}]\n",
    "# grid_search = GridSearchCV(estimator = classifier,\n",
    "#                            param_grid = parameters,\n",
    "#                            scoring = 'accuracy',\n",
    "#                            cv = 10,\n",
    "#                            n_jobs = -1)\n",
    "# grid_search = grid_search.fit(X_train, y_train)\n",
    "# best_accuracy = grid_search.best_score_\n",
    "# print(\"Best accuracy is :/n\",best_accuracy)\n",
    "# best_parameters = grid_search.best_params_\n",
    "# print(\"Best parameters are  :/n\",best_parameters)"
   ]
  },
  {
   "cell_type": "markdown",
   "id": "7b704196",
   "metadata": {},
   "source": [
    "\n",
    "<br />\n",
    "<br />\n",
    "<br />\n",
    "<br />\n",
    "\n",
    "## `model deployment framework -------------` "
   ]
  },
  {
   "cell_type": "markdown",
   "id": "d0b1a2f1",
   "metadata": {},
   "source": [
    "### https://mlflow.org/\n",
    "### https://www.seldon.io/tech/products/core/ \n",
    "### https://medium.com/@xiaowei_6531/putting-sci-kit-learn-models-into-production-with-pmml-1d17b5fc8123"
   ]
  },
  {
   "cell_type": "markdown",
   "id": "4a1583f9",
   "metadata": {},
   "source": [
    "\n",
    "<br />\n",
    "<br />\n",
    "<br />\n",
    "<br />\n",
    "\n",
    "# `Basic Pipeline --------------------------------------------`"
   ]
  },
  {
   "cell_type": "markdown",
   "id": "917c0638",
   "metadata": {},
   "source": [
    "1. Import Dataset\n",
    "2. Data Preprocessing\n",
    "3. EDA\n",
    "4. Feature Selection\n",
    "5. Train Test Split\n",
    "6. Feature Transformation\n",
    "7. List of ML models we will choose\n",
    "8. Select the best model by grid search\n",
    "9. Evaluate, iif good stop, If Bad Accuracy Repeat and check"
   ]
  },
  {
   "cell_type": "markdown",
   "id": "62b3528f",
   "metadata": {},
   "source": [
    "# `End -------------------------`"
   ]
  }
 ],
 "metadata": {
  "kernelspec": {
   "display_name": "Python 3 (ipykernel)",
   "language": "python",
   "name": "python3"
  },
  "language_info": {
   "codemirror_mode": {
    "name": "ipython",
    "version": 3
   },
   "file_extension": ".py",
   "mimetype": "text/x-python",
   "name": "python",
   "nbconvert_exporter": "python",
   "pygments_lexer": "ipython3",
   "version": "3.9.7"
  }
 },
 "nbformat": 4,
 "nbformat_minor": 5
}
