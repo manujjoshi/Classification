{
 "cells": [
  {
   "cell_type": "markdown",
   "id": "3a4a18dc",
   "metadata": {},
   "source": [
    "# `Naive Bayes ------------------------------------`\n",
    "### [For Reference, Click Here saedsayad](https://www.saedsayad.com/naive_bayesian.htm)\n",
    "![](nb_3.png)\n",
    "- **Naive Bayes acts upon likelihood table**\n",
    "- **Assumption ob NB, no multicollinearity in columns, if there is remove by chi-square test**\n",
    "\n",
    "#### `Problems`\n",
    "\n",
    "1.  **It faces zero-frequecy problem sometimes**\n",
    "- **to prevent it we add one to count for every attributes where it's zero**\n",
    "\n",
    "2. **When data is nnumerical segregate the data into groups based on categorical data**\n",
    "- **Find probability using z-table**\n",
    "![](https://www.saedsayad.com/images/Bayes_NormDist.png)\n",
    "![](https://www.saedsayad.com/images/Bayes_NormDist_1.png)"
   ]
  },
  {
   "cell_type": "code",
   "execution_count": 1,
   "id": "51a6630f",
   "metadata": {},
   "outputs": [],
   "source": [
    "import numpy as np\n",
    "import pandas as pd"
   ]
  },
  {
   "cell_type": "markdown",
   "id": "6b994783",
   "metadata": {},
   "source": [
    "### `Create dataframe`"
   ]
  },
  {
   "cell_type": "code",
   "execution_count": 2,
   "id": "60ab6b67",
   "metadata": {},
   "outputs": [],
   "source": [
    "data = [['Rainy','Hot','High','False','No'],\n",
    "        ['Rainy','Hot','High','True','No'],\n",
    "        ['Overcast','Hot','High','False','Yes'],\n",
    "        ['Sunny','Mild','High','False','Yes'],\n",
    "        ['Sunny','Cool','Normal','False','Yes'],\n",
    "        ['Sunny','Cool','Normal','True','No'],\n",
    "        ['Overcast','Cool','Normal','True','Yes'],\n",
    "        ['Rainy','Mild','High','False','No'],\n",
    "        ['Rainy','Cool','Normal','False','Yes'],\n",
    "        ['Sunny','Mild','Normal','False','Yes'],\n",
    "        ['Rainy','Mild','Normal','True','Yes'],\n",
    "        ['Overcast','Mild','High','True','Yes'],\n",
    "        ['Overcast','Hot','Normal','False','Yes'],\n",
    "        ['Sunny','Mild','High','True','No']]"
   ]
  },
  {
   "cell_type": "code",
   "execution_count": 3,
   "id": "836ffe44",
   "metadata": {},
   "outputs": [
    {
     "data": {
      "text/html": [
       "<div>\n",
       "<style scoped>\n",
       "    .dataframe tbody tr th:only-of-type {\n",
       "        vertical-align: middle;\n",
       "    }\n",
       "\n",
       "    .dataframe tbody tr th {\n",
       "        vertical-align: top;\n",
       "    }\n",
       "\n",
       "    .dataframe thead th {\n",
       "        text-align: right;\n",
       "    }\n",
       "</style>\n",
       "<table border=\"1\" class=\"dataframe\">\n",
       "  <thead>\n",
       "    <tr style=\"text-align: right;\">\n",
       "      <th></th>\n",
       "      <th>Outlook</th>\n",
       "      <th>Temp</th>\n",
       "      <th>Humidity</th>\n",
       "      <th>Windy</th>\n",
       "      <th>Play Golf</th>\n",
       "    </tr>\n",
       "  </thead>\n",
       "  <tbody>\n",
       "    <tr>\n",
       "      <th>0</th>\n",
       "      <td>Rainy</td>\n",
       "      <td>Hot</td>\n",
       "      <td>High</td>\n",
       "      <td>False</td>\n",
       "      <td>No</td>\n",
       "    </tr>\n",
       "    <tr>\n",
       "      <th>1</th>\n",
       "      <td>Rainy</td>\n",
       "      <td>Hot</td>\n",
       "      <td>High</td>\n",
       "      <td>True</td>\n",
       "      <td>No</td>\n",
       "    </tr>\n",
       "    <tr>\n",
       "      <th>2</th>\n",
       "      <td>Overcast</td>\n",
       "      <td>Hot</td>\n",
       "      <td>High</td>\n",
       "      <td>False</td>\n",
       "      <td>Yes</td>\n",
       "    </tr>\n",
       "    <tr>\n",
       "      <th>3</th>\n",
       "      <td>Sunny</td>\n",
       "      <td>Mild</td>\n",
       "      <td>High</td>\n",
       "      <td>False</td>\n",
       "      <td>Yes</td>\n",
       "    </tr>\n",
       "    <tr>\n",
       "      <th>4</th>\n",
       "      <td>Sunny</td>\n",
       "      <td>Cool</td>\n",
       "      <td>Normal</td>\n",
       "      <td>False</td>\n",
       "      <td>Yes</td>\n",
       "    </tr>\n",
       "    <tr>\n",
       "      <th>5</th>\n",
       "      <td>Sunny</td>\n",
       "      <td>Cool</td>\n",
       "      <td>Normal</td>\n",
       "      <td>True</td>\n",
       "      <td>No</td>\n",
       "    </tr>\n",
       "    <tr>\n",
       "      <th>6</th>\n",
       "      <td>Overcast</td>\n",
       "      <td>Cool</td>\n",
       "      <td>Normal</td>\n",
       "      <td>True</td>\n",
       "      <td>Yes</td>\n",
       "    </tr>\n",
       "    <tr>\n",
       "      <th>7</th>\n",
       "      <td>Rainy</td>\n",
       "      <td>Mild</td>\n",
       "      <td>High</td>\n",
       "      <td>False</td>\n",
       "      <td>No</td>\n",
       "    </tr>\n",
       "    <tr>\n",
       "      <th>8</th>\n",
       "      <td>Rainy</td>\n",
       "      <td>Cool</td>\n",
       "      <td>Normal</td>\n",
       "      <td>False</td>\n",
       "      <td>Yes</td>\n",
       "    </tr>\n",
       "    <tr>\n",
       "      <th>9</th>\n",
       "      <td>Sunny</td>\n",
       "      <td>Mild</td>\n",
       "      <td>Normal</td>\n",
       "      <td>False</td>\n",
       "      <td>Yes</td>\n",
       "    </tr>\n",
       "    <tr>\n",
       "      <th>10</th>\n",
       "      <td>Rainy</td>\n",
       "      <td>Mild</td>\n",
       "      <td>Normal</td>\n",
       "      <td>True</td>\n",
       "      <td>Yes</td>\n",
       "    </tr>\n",
       "    <tr>\n",
       "      <th>11</th>\n",
       "      <td>Overcast</td>\n",
       "      <td>Mild</td>\n",
       "      <td>High</td>\n",
       "      <td>True</td>\n",
       "      <td>Yes</td>\n",
       "    </tr>\n",
       "    <tr>\n",
       "      <th>12</th>\n",
       "      <td>Overcast</td>\n",
       "      <td>Hot</td>\n",
       "      <td>Normal</td>\n",
       "      <td>False</td>\n",
       "      <td>Yes</td>\n",
       "    </tr>\n",
       "    <tr>\n",
       "      <th>13</th>\n",
       "      <td>Sunny</td>\n",
       "      <td>Mild</td>\n",
       "      <td>High</td>\n",
       "      <td>True</td>\n",
       "      <td>No</td>\n",
       "    </tr>\n",
       "  </tbody>\n",
       "</table>\n",
       "</div>"
      ],
      "text/plain": [
       "     Outlook  Temp Humidity  Windy Play Golf\n",
       "0      Rainy   Hot     High  False        No\n",
       "1      Rainy   Hot     High   True        No\n",
       "2   Overcast   Hot     High  False       Yes\n",
       "3      Sunny  Mild     High  False       Yes\n",
       "4      Sunny  Cool   Normal  False       Yes\n",
       "5      Sunny  Cool   Normal   True        No\n",
       "6   Overcast  Cool   Normal   True       Yes\n",
       "7      Rainy  Mild     High  False        No\n",
       "8      Rainy  Cool   Normal  False       Yes\n",
       "9      Sunny  Mild   Normal  False       Yes\n",
       "10     Rainy  Mild   Normal   True       Yes\n",
       "11  Overcast  Mild     High   True       Yes\n",
       "12  Overcast   Hot   Normal  False       Yes\n",
       "13     Sunny  Mild     High   True        No"
      ]
     },
     "execution_count": 3,
     "metadata": {},
     "output_type": "execute_result"
    }
   ],
   "source": [
    "data = pd.DataFrame(data,columns=['Outlook','Temp','Humidity','Windy','Play Golf'])\n",
    "data"
   ]
  },
  {
   "cell_type": "markdown",
   "id": "b86cab3e",
   "metadata": {},
   "source": [
    "### `Function for likelihood`"
   ]
  },
  {
   "cell_type": "code",
   "execution_count": 79,
   "id": "d87bd780",
   "metadata": {},
   "outputs": [],
   "source": [
    "def likelihood(df):\n",
    "    return df / df.sum()"
   ]
  },
  {
   "cell_type": "markdown",
   "id": "ad297f3d",
   "metadata": {},
   "source": [
    "![](nb_1.png)"
   ]
  },
  {
   "cell_type": "markdown",
   "id": "5df92ede",
   "metadata": {},
   "source": [
    "### `Outlook vs Play golf ------------------------------------------`"
   ]
  },
  {
   "cell_type": "code",
   "execution_count": 80,
   "id": "a4a5a09f",
   "metadata": {},
   "outputs": [
    {
     "data": {
      "text/html": [
       "<div>\n",
       "<style scoped>\n",
       "    .dataframe tbody tr th:only-of-type {\n",
       "        vertical-align: middle;\n",
       "    }\n",
       "\n",
       "    .dataframe tbody tr th {\n",
       "        vertical-align: top;\n",
       "    }\n",
       "\n",
       "    .dataframe thead th {\n",
       "        text-align: right;\n",
       "    }\n",
       "</style>\n",
       "<table border=\"1\" class=\"dataframe\">\n",
       "  <thead>\n",
       "    <tr style=\"text-align: right;\">\n",
       "      <th>Play Golf</th>\n",
       "      <th>No</th>\n",
       "      <th>Yes</th>\n",
       "    </tr>\n",
       "    <tr>\n",
       "      <th>Outlook</th>\n",
       "      <th></th>\n",
       "      <th></th>\n",
       "    </tr>\n",
       "  </thead>\n",
       "  <tbody>\n",
       "    <tr>\n",
       "      <th>Overcast</th>\n",
       "      <td>0</td>\n",
       "      <td>4</td>\n",
       "    </tr>\n",
       "    <tr>\n",
       "      <th>Rainy</th>\n",
       "      <td>3</td>\n",
       "      <td>2</td>\n",
       "    </tr>\n",
       "    <tr>\n",
       "      <th>Sunny</th>\n",
       "      <td>2</td>\n",
       "      <td>3</td>\n",
       "    </tr>\n",
       "  </tbody>\n",
       "</table>\n",
       "</div>"
      ],
      "text/plain": [
       "Play Golf  No  Yes\n",
       "Outlook           \n",
       "Overcast    0    4\n",
       "Rainy       3    2\n",
       "Sunny       2    3"
      ]
     },
     "execution_count": 80,
     "metadata": {},
     "output_type": "execute_result"
    }
   ],
   "source": [
    "freq_outvsplay = pd.crosstab(data['Outlook'],data['Play Golf'])\n",
    "freq_outvsplay"
   ]
  },
  {
   "cell_type": "code",
   "execution_count": 81,
   "id": "cafea390",
   "metadata": {},
   "outputs": [
    {
     "data": {
      "text/html": [
       "<div>\n",
       "<style scoped>\n",
       "    .dataframe tbody tr th:only-of-type {\n",
       "        vertical-align: middle;\n",
       "    }\n",
       "\n",
       "    .dataframe tbody tr th {\n",
       "        vertical-align: top;\n",
       "    }\n",
       "\n",
       "    .dataframe thead th {\n",
       "        text-align: right;\n",
       "    }\n",
       "</style>\n",
       "<table border=\"1\" class=\"dataframe\">\n",
       "  <thead>\n",
       "    <tr style=\"text-align: right;\">\n",
       "      <th>Play Golf</th>\n",
       "      <th>No</th>\n",
       "      <th>Yes</th>\n",
       "    </tr>\n",
       "    <tr>\n",
       "      <th>Outlook</th>\n",
       "      <th></th>\n",
       "      <th></th>\n",
       "    </tr>\n",
       "  </thead>\n",
       "  <tbody>\n",
       "    <tr>\n",
       "      <th>Overcast</th>\n",
       "      <td>0.0</td>\n",
       "      <td>0.444444</td>\n",
       "    </tr>\n",
       "    <tr>\n",
       "      <th>Rainy</th>\n",
       "      <td>0.6</td>\n",
       "      <td>0.222222</td>\n",
       "    </tr>\n",
       "    <tr>\n",
       "      <th>Sunny</th>\n",
       "      <td>0.4</td>\n",
       "      <td>0.333333</td>\n",
       "    </tr>\n",
       "  </tbody>\n",
       "</table>\n",
       "</div>"
      ],
      "text/plain": [
       "Play Golf   No       Yes\n",
       "Outlook                 \n",
       "Overcast   0.0  0.444444\n",
       "Rainy      0.6  0.222222\n",
       "Sunny      0.4  0.333333"
      ]
     },
     "execution_count": 81,
     "metadata": {},
     "output_type": "execute_result"
    }
   ],
   "source": [
    "like_outvsplay = likelihood(freq_outvsplay)\n",
    "like_outvsplay"
   ]
  },
  {
   "cell_type": "markdown",
   "id": "9f626b15",
   "metadata": {},
   "source": [
    "### `Temp vs Play golf ------------------------------------------`"
   ]
  },
  {
   "cell_type": "code",
   "execution_count": 82,
   "id": "0e8a4576",
   "metadata": {},
   "outputs": [
    {
     "data": {
      "text/html": [
       "<div>\n",
       "<style scoped>\n",
       "    .dataframe tbody tr th:only-of-type {\n",
       "        vertical-align: middle;\n",
       "    }\n",
       "\n",
       "    .dataframe tbody tr th {\n",
       "        vertical-align: top;\n",
       "    }\n",
       "\n",
       "    .dataframe thead th {\n",
       "        text-align: right;\n",
       "    }\n",
       "</style>\n",
       "<table border=\"1\" class=\"dataframe\">\n",
       "  <thead>\n",
       "    <tr style=\"text-align: right;\">\n",
       "      <th>Play Golf</th>\n",
       "      <th>No</th>\n",
       "      <th>Yes</th>\n",
       "    </tr>\n",
       "    <tr>\n",
       "      <th>Temp</th>\n",
       "      <th></th>\n",
       "      <th></th>\n",
       "    </tr>\n",
       "  </thead>\n",
       "  <tbody>\n",
       "    <tr>\n",
       "      <th>Cool</th>\n",
       "      <td>1</td>\n",
       "      <td>3</td>\n",
       "    </tr>\n",
       "    <tr>\n",
       "      <th>Hot</th>\n",
       "      <td>2</td>\n",
       "      <td>2</td>\n",
       "    </tr>\n",
       "    <tr>\n",
       "      <th>Mild</th>\n",
       "      <td>2</td>\n",
       "      <td>4</td>\n",
       "    </tr>\n",
       "  </tbody>\n",
       "</table>\n",
       "</div>"
      ],
      "text/plain": [
       "Play Golf  No  Yes\n",
       "Temp              \n",
       "Cool        1    3\n",
       "Hot         2    2\n",
       "Mild        2    4"
      ]
     },
     "execution_count": 82,
     "metadata": {},
     "output_type": "execute_result"
    }
   ],
   "source": [
    "freq_tempvsplay = pd.crosstab(data['Temp'],data['Play Golf'])\n",
    "freq_tempvsplay"
   ]
  },
  {
   "cell_type": "code",
   "execution_count": 83,
   "id": "8a95ec6b",
   "metadata": {},
   "outputs": [
    {
     "data": {
      "text/html": [
       "<div>\n",
       "<style scoped>\n",
       "    .dataframe tbody tr th:only-of-type {\n",
       "        vertical-align: middle;\n",
       "    }\n",
       "\n",
       "    .dataframe tbody tr th {\n",
       "        vertical-align: top;\n",
       "    }\n",
       "\n",
       "    .dataframe thead th {\n",
       "        text-align: right;\n",
       "    }\n",
       "</style>\n",
       "<table border=\"1\" class=\"dataframe\">\n",
       "  <thead>\n",
       "    <tr style=\"text-align: right;\">\n",
       "      <th>Play Golf</th>\n",
       "      <th>No</th>\n",
       "      <th>Yes</th>\n",
       "    </tr>\n",
       "    <tr>\n",
       "      <th>Temp</th>\n",
       "      <th></th>\n",
       "      <th></th>\n",
       "    </tr>\n",
       "  </thead>\n",
       "  <tbody>\n",
       "    <tr>\n",
       "      <th>Cool</th>\n",
       "      <td>0.2</td>\n",
       "      <td>0.333333</td>\n",
       "    </tr>\n",
       "    <tr>\n",
       "      <th>Hot</th>\n",
       "      <td>0.4</td>\n",
       "      <td>0.222222</td>\n",
       "    </tr>\n",
       "    <tr>\n",
       "      <th>Mild</th>\n",
       "      <td>0.4</td>\n",
       "      <td>0.444444</td>\n",
       "    </tr>\n",
       "  </tbody>\n",
       "</table>\n",
       "</div>"
      ],
      "text/plain": [
       "Play Golf   No       Yes\n",
       "Temp                    \n",
       "Cool       0.2  0.333333\n",
       "Hot        0.4  0.222222\n",
       "Mild       0.4  0.444444"
      ]
     },
     "execution_count": 83,
     "metadata": {},
     "output_type": "execute_result"
    }
   ],
   "source": [
    "like_tempvsplay = likelihood(freq_tempvsplay)\n",
    "like_tempvsplay"
   ]
  },
  {
   "cell_type": "markdown",
   "id": "872ff5d2",
   "metadata": {},
   "source": [
    "### `Humidity vs Play golf ------------------------------------------`"
   ]
  },
  {
   "cell_type": "code",
   "execution_count": 84,
   "id": "9135338f",
   "metadata": {},
   "outputs": [
    {
     "data": {
      "text/html": [
       "<div>\n",
       "<style scoped>\n",
       "    .dataframe tbody tr th:only-of-type {\n",
       "        vertical-align: middle;\n",
       "    }\n",
       "\n",
       "    .dataframe tbody tr th {\n",
       "        vertical-align: top;\n",
       "    }\n",
       "\n",
       "    .dataframe thead th {\n",
       "        text-align: right;\n",
       "    }\n",
       "</style>\n",
       "<table border=\"1\" class=\"dataframe\">\n",
       "  <thead>\n",
       "    <tr style=\"text-align: right;\">\n",
       "      <th>Play Golf</th>\n",
       "      <th>No</th>\n",
       "      <th>Yes</th>\n",
       "    </tr>\n",
       "    <tr>\n",
       "      <th>Humidity</th>\n",
       "      <th></th>\n",
       "      <th></th>\n",
       "    </tr>\n",
       "  </thead>\n",
       "  <tbody>\n",
       "    <tr>\n",
       "      <th>High</th>\n",
       "      <td>4</td>\n",
       "      <td>3</td>\n",
       "    </tr>\n",
       "    <tr>\n",
       "      <th>Normal</th>\n",
       "      <td>1</td>\n",
       "      <td>6</td>\n",
       "    </tr>\n",
       "  </tbody>\n",
       "</table>\n",
       "</div>"
      ],
      "text/plain": [
       "Play Golf  No  Yes\n",
       "Humidity          \n",
       "High        4    3\n",
       "Normal      1    6"
      ]
     },
     "execution_count": 84,
     "metadata": {},
     "output_type": "execute_result"
    }
   ],
   "source": [
    "freq_humidvsplay = pd.crosstab(data['Humidity'],data['Play Golf'])\n",
    "freq_humidvsplay"
   ]
  },
  {
   "cell_type": "code",
   "execution_count": 85,
   "id": "d1bf3e9e",
   "metadata": {},
   "outputs": [
    {
     "data": {
      "text/html": [
       "<div>\n",
       "<style scoped>\n",
       "    .dataframe tbody tr th:only-of-type {\n",
       "        vertical-align: middle;\n",
       "    }\n",
       "\n",
       "    .dataframe tbody tr th {\n",
       "        vertical-align: top;\n",
       "    }\n",
       "\n",
       "    .dataframe thead th {\n",
       "        text-align: right;\n",
       "    }\n",
       "</style>\n",
       "<table border=\"1\" class=\"dataframe\">\n",
       "  <thead>\n",
       "    <tr style=\"text-align: right;\">\n",
       "      <th>Play Golf</th>\n",
       "      <th>No</th>\n",
       "      <th>Yes</th>\n",
       "    </tr>\n",
       "    <tr>\n",
       "      <th>Humidity</th>\n",
       "      <th></th>\n",
       "      <th></th>\n",
       "    </tr>\n",
       "  </thead>\n",
       "  <tbody>\n",
       "    <tr>\n",
       "      <th>High</th>\n",
       "      <td>0.8</td>\n",
       "      <td>0.333333</td>\n",
       "    </tr>\n",
       "    <tr>\n",
       "      <th>Normal</th>\n",
       "      <td>0.2</td>\n",
       "      <td>0.666667</td>\n",
       "    </tr>\n",
       "  </tbody>\n",
       "</table>\n",
       "</div>"
      ],
      "text/plain": [
       "Play Golf   No       Yes\n",
       "Humidity                \n",
       "High       0.8  0.333333\n",
       "Normal     0.2  0.666667"
      ]
     },
     "execution_count": 85,
     "metadata": {},
     "output_type": "execute_result"
    }
   ],
   "source": [
    "like_humidvsplay = likelihood(freq_humidvsplay)\n",
    "like_humidvsplay"
   ]
  },
  {
   "cell_type": "markdown",
   "id": "f12a0583",
   "metadata": {},
   "source": [
    "### `Windy vs Play golf ------------------------------------------`"
   ]
  },
  {
   "cell_type": "code",
   "execution_count": 86,
   "id": "218920ff",
   "metadata": {},
   "outputs": [
    {
     "data": {
      "text/html": [
       "<div>\n",
       "<style scoped>\n",
       "    .dataframe tbody tr th:only-of-type {\n",
       "        vertical-align: middle;\n",
       "    }\n",
       "\n",
       "    .dataframe tbody tr th {\n",
       "        vertical-align: top;\n",
       "    }\n",
       "\n",
       "    .dataframe thead th {\n",
       "        text-align: right;\n",
       "    }\n",
       "</style>\n",
       "<table border=\"1\" class=\"dataframe\">\n",
       "  <thead>\n",
       "    <tr style=\"text-align: right;\">\n",
       "      <th>Play Golf</th>\n",
       "      <th>No</th>\n",
       "      <th>Yes</th>\n",
       "    </tr>\n",
       "    <tr>\n",
       "      <th>Windy</th>\n",
       "      <th></th>\n",
       "      <th></th>\n",
       "    </tr>\n",
       "  </thead>\n",
       "  <tbody>\n",
       "    <tr>\n",
       "      <th>False</th>\n",
       "      <td>2</td>\n",
       "      <td>6</td>\n",
       "    </tr>\n",
       "    <tr>\n",
       "      <th>True</th>\n",
       "      <td>3</td>\n",
       "      <td>3</td>\n",
       "    </tr>\n",
       "  </tbody>\n",
       "</table>\n",
       "</div>"
      ],
      "text/plain": [
       "Play Golf  No  Yes\n",
       "Windy             \n",
       "False       2    6\n",
       "True        3    3"
      ]
     },
     "execution_count": 86,
     "metadata": {},
     "output_type": "execute_result"
    }
   ],
   "source": [
    "freq_windvsplay = pd.crosstab(data['Windy'],data['Play Golf'])\n",
    "freq_windvsplay"
   ]
  },
  {
   "cell_type": "code",
   "execution_count": 87,
   "id": "65062613",
   "metadata": {},
   "outputs": [
    {
     "data": {
      "text/html": [
       "<div>\n",
       "<style scoped>\n",
       "    .dataframe tbody tr th:only-of-type {\n",
       "        vertical-align: middle;\n",
       "    }\n",
       "\n",
       "    .dataframe tbody tr th {\n",
       "        vertical-align: top;\n",
       "    }\n",
       "\n",
       "    .dataframe thead th {\n",
       "        text-align: right;\n",
       "    }\n",
       "</style>\n",
       "<table border=\"1\" class=\"dataframe\">\n",
       "  <thead>\n",
       "    <tr style=\"text-align: right;\">\n",
       "      <th>Play Golf</th>\n",
       "      <th>No</th>\n",
       "      <th>Yes</th>\n",
       "    </tr>\n",
       "    <tr>\n",
       "      <th>Windy</th>\n",
       "      <th></th>\n",
       "      <th></th>\n",
       "    </tr>\n",
       "  </thead>\n",
       "  <tbody>\n",
       "    <tr>\n",
       "      <th>False</th>\n",
       "      <td>0.4</td>\n",
       "      <td>0.666667</td>\n",
       "    </tr>\n",
       "    <tr>\n",
       "      <th>True</th>\n",
       "      <td>0.6</td>\n",
       "      <td>0.333333</td>\n",
       "    </tr>\n",
       "  </tbody>\n",
       "</table>\n",
       "</div>"
      ],
      "text/plain": [
       "Play Golf   No       Yes\n",
       "Windy                   \n",
       "False      0.4  0.666667\n",
       "True       0.6  0.333333"
      ]
     },
     "execution_count": 87,
     "metadata": {},
     "output_type": "execute_result"
    }
   ],
   "source": [
    "like_windvsplay = likelihood(freq_windvsplay)\n",
    "like_windvsplay"
   ]
  },
  {
   "cell_type": "markdown",
   "id": "29a84712",
   "metadata": {},
   "source": [
    "![](nb_2.png)"
   ]
  },
  {
   "cell_type": "markdown",
   "id": "e024e414",
   "metadata": {},
   "source": [
    "![](nb_4.png)"
   ]
  },
  {
   "cell_type": "markdown",
   "id": "5f4b9967",
   "metadata": {},
   "source": [
    "### `Proof through code`\n",
    "![](nb_5.png)"
   ]
  },
  {
   "cell_type": "markdown",
   "id": "b87e29e9",
   "metadata": {},
   "source": [
    "### P(Yes|X) = P(Rainy|Yes) * P(Cool|Yes) * P(High|Yes) * P(True|Yes) * P(Yes)"
   ]
  },
  {
   "cell_type": "code",
   "execution_count": 88,
   "id": "5c5c672c",
   "metadata": {},
   "outputs": [
    {
     "data": {
      "text/plain": [
       "0.2222222222222222"
      ]
     },
     "execution_count": 88,
     "metadata": {},
     "output_type": "execute_result"
    }
   ],
   "source": [
    "rainyes = like_outvsplay.loc['Rainy','Yes']\n",
    "rainyes"
   ]
  },
  {
   "cell_type": "code",
   "execution_count": 89,
   "id": "3b548c1d",
   "metadata": {},
   "outputs": [
    {
     "data": {
      "text/plain": [
       "0.3333333333333333"
      ]
     },
     "execution_count": 89,
     "metadata": {},
     "output_type": "execute_result"
    }
   ],
   "source": [
    "coolyes = like_tempvsplay.loc['Cool','Yes']\n",
    "coolyes"
   ]
  },
  {
   "cell_type": "code",
   "execution_count": 90,
   "id": "b03b6582",
   "metadata": {},
   "outputs": [
    {
     "data": {
      "text/plain": [
       "0.3333333333333333"
      ]
     },
     "execution_count": 90,
     "metadata": {},
     "output_type": "execute_result"
    }
   ],
   "source": [
    "highyes = like_humidvsplay.loc['High','Yes']\n",
    "highyes"
   ]
  },
  {
   "cell_type": "code",
   "execution_count": 91,
   "id": "1b1a7878",
   "metadata": {},
   "outputs": [
    {
     "data": {
      "text/plain": [
       "0.3333333333333333"
      ]
     },
     "execution_count": 91,
     "metadata": {},
     "output_type": "execute_result"
    }
   ],
   "source": [
    "trueyes = like_windvsplay.loc['True','Yes']\n",
    "trueyes"
   ]
  },
  {
   "cell_type": "code",
   "execution_count": 92,
   "id": "dbff9524",
   "metadata": {},
   "outputs": [
    {
     "data": {
      "text/plain": [
       "0.6428571428571429"
      ]
     },
     "execution_count": 92,
     "metadata": {},
     "output_type": "execute_result"
    }
   ],
   "source": [
    "yes = 9/14\n",
    "yes"
   ]
  },
  {
   "cell_type": "code",
   "execution_count": 93,
   "id": "ab8d15cc",
   "metadata": {},
   "outputs": [
    {
     "data": {
      "text/plain": [
       "0.005291005291005291"
      ]
     },
     "execution_count": 93,
     "metadata": {},
     "output_type": "execute_result"
    }
   ],
   "source": [
    "Prob_yes = rainyes*coolyes*highyes*trueyes*yes\n",
    "Prob_yes"
   ]
  },
  {
   "cell_type": "markdown",
   "id": "4950fdab",
   "metadata": {},
   "source": [
    "### P(No|X) = P(Rainy|No) * P(Cool|No) * P(High|No) * P(True|No) * P(No)"
   ]
  },
  {
   "cell_type": "code",
   "execution_count": 94,
   "id": "cd217c7a",
   "metadata": {},
   "outputs": [
    {
     "data": {
      "text/plain": [
       "0.6"
      ]
     },
     "execution_count": 94,
     "metadata": {},
     "output_type": "execute_result"
    }
   ],
   "source": [
    "rainno = like_outvsplay.loc['Rainy','No']\n",
    "rainno"
   ]
  },
  {
   "cell_type": "code",
   "execution_count": 95,
   "id": "e0945c7c",
   "metadata": {},
   "outputs": [
    {
     "data": {
      "text/plain": [
       "0.2"
      ]
     },
     "execution_count": 95,
     "metadata": {},
     "output_type": "execute_result"
    }
   ],
   "source": [
    "coolno = like_tempvsplay.loc['Cool','No']\n",
    "coolno"
   ]
  },
  {
   "cell_type": "code",
   "execution_count": 96,
   "id": "62ddaabf",
   "metadata": {},
   "outputs": [
    {
     "data": {
      "text/plain": [
       "0.8"
      ]
     },
     "execution_count": 96,
     "metadata": {},
     "output_type": "execute_result"
    }
   ],
   "source": [
    "highno = like_humidvsplay.loc['High','No']\n",
    "highno"
   ]
  },
  {
   "cell_type": "code",
   "execution_count": 97,
   "id": "ec5dd2c3",
   "metadata": {},
   "outputs": [
    {
     "data": {
      "text/plain": [
       "0.6"
      ]
     },
     "execution_count": 97,
     "metadata": {},
     "output_type": "execute_result"
    }
   ],
   "source": [
    "trueno = like_windvsplay.loc['True','No']\n",
    "trueno"
   ]
  },
  {
   "cell_type": "code",
   "execution_count": 98,
   "id": "2445327f",
   "metadata": {},
   "outputs": [
    {
     "data": {
      "text/plain": [
       "0.35714285714285715"
      ]
     },
     "execution_count": 98,
     "metadata": {},
     "output_type": "execute_result"
    }
   ],
   "source": [
    "no = 5/14\n",
    "no"
   ]
  },
  {
   "cell_type": "code",
   "execution_count": 99,
   "id": "ab53312e",
   "metadata": {},
   "outputs": [
    {
     "data": {
      "text/plain": [
       "0.02057142857142857"
      ]
     },
     "execution_count": 99,
     "metadata": {},
     "output_type": "execute_result"
    }
   ],
   "source": [
    "Prob_no = rainno*coolno*highno*trueno*no\n",
    "Prob_no"
   ]
  },
  {
   "cell_type": "markdown",
   "id": "22dde170",
   "metadata": {},
   "source": [
    "### Standardization"
   ]
  },
  {
   "cell_type": "code",
   "execution_count": 100,
   "id": "f5dc3b73",
   "metadata": {},
   "outputs": [
    {
     "data": {
      "text/plain": [
       "0.20458265139116202"
      ]
     },
     "execution_count": 100,
     "metadata": {},
     "output_type": "execute_result"
    }
   ],
   "source": [
    "standard_yes = Prob_yes / (Prob_no + Prob_yes)\n",
    "standardize_yes"
   ]
  },
  {
   "cell_type": "code",
   "execution_count": 102,
   "id": "93651895",
   "metadata": {},
   "outputs": [
    {
     "data": {
      "text/plain": [
       "0.795417348608838"
      ]
     },
     "execution_count": 102,
     "metadata": {},
     "output_type": "execute_result"
    }
   ],
   "source": [
    "standard_no = Prob_no / (Prob_no + Prob_yes)\n",
    "standard_no"
   ]
  },
  {
   "cell_type": "markdown",
   "id": "a8774228",
   "metadata": {},
   "source": [
    "### Outcome:`Game will not be played on this day`"
   ]
  },
  {
   "cell_type": "markdown",
   "id": "304711e2",
   "metadata": {},
   "source": [
    "### `This is just for the reference of working of algo, use sklearn direct function`"
   ]
  },
  {
   "cell_type": "markdown",
   "id": "f3ab41ef",
   "metadata": {},
   "source": [
    "## `End --------------------------------------`"
   ]
  }
 ],
 "metadata": {
  "kernelspec": {
   "display_name": "Python 3 (ipykernel)",
   "language": "python",
   "name": "python3"
  },
  "language_info": {
   "codemirror_mode": {
    "name": "ipython",
    "version": 3
   },
   "file_extension": ".py",
   "mimetype": "text/x-python",
   "name": "python",
   "nbconvert_exporter": "python",
   "pygments_lexer": "ipython3",
   "version": "3.9.7"
  }
 },
 "nbformat": 4,
 "nbformat_minor": 5
}
