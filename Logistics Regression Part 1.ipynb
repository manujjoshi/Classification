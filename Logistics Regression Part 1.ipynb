{
 "cells": [
  {
   "cell_type": "markdown",
   "metadata": {},
   "source": [
    "# `Logistic Regression ---------------------------------------- `"
   ]
  },
  {
   "cell_type": "code",
   "execution_count": 169,
   "metadata": {},
   "outputs": [],
   "source": [
    "import pandas as pd\n",
    "import warnings\n",
    "warnings.filterwarnings('ignore')"
   ]
  },
  {
   "cell_type": "code",
   "execution_count": 170,
   "metadata": {},
   "outputs": [],
   "source": [
    "data  = pd.read_csv(\"Social_Network_Ads.csv\")"
   ]
  },
  {
   "cell_type": "code",
   "execution_count": 171,
   "metadata": {},
   "outputs": [
    {
     "data": {
      "text/html": [
       "<div>\n",
       "<style scoped>\n",
       "    .dataframe tbody tr th:only-of-type {\n",
       "        vertical-align: middle;\n",
       "    }\n",
       "\n",
       "    .dataframe tbody tr th {\n",
       "        vertical-align: top;\n",
       "    }\n",
       "\n",
       "    .dataframe thead th {\n",
       "        text-align: right;\n",
       "    }\n",
       "</style>\n",
       "<table border=\"1\" class=\"dataframe\">\n",
       "  <thead>\n",
       "    <tr style=\"text-align: right;\">\n",
       "      <th></th>\n",
       "      <th>User ID</th>\n",
       "      <th>Gender</th>\n",
       "      <th>Age</th>\n",
       "      <th>EstimatedSalary</th>\n",
       "      <th>Purchased</th>\n",
       "    </tr>\n",
       "  </thead>\n",
       "  <tbody>\n",
       "    <tr>\n",
       "      <th>0</th>\n",
       "      <td>15624510</td>\n",
       "      <td>Male</td>\n",
       "      <td>19</td>\n",
       "      <td>19000</td>\n",
       "      <td>0</td>\n",
       "    </tr>\n",
       "    <tr>\n",
       "      <th>1</th>\n",
       "      <td>15810944</td>\n",
       "      <td>Male</td>\n",
       "      <td>35</td>\n",
       "      <td>20000</td>\n",
       "      <td>0</td>\n",
       "    </tr>\n",
       "    <tr>\n",
       "      <th>2</th>\n",
       "      <td>15668575</td>\n",
       "      <td>Female</td>\n",
       "      <td>26</td>\n",
       "      <td>43000</td>\n",
       "      <td>0</td>\n",
       "    </tr>\n",
       "    <tr>\n",
       "      <th>3</th>\n",
       "      <td>15603246</td>\n",
       "      <td>Female</td>\n",
       "      <td>27</td>\n",
       "      <td>57000</td>\n",
       "      <td>0</td>\n",
       "    </tr>\n",
       "    <tr>\n",
       "      <th>4</th>\n",
       "      <td>15804002</td>\n",
       "      <td>Male</td>\n",
       "      <td>19</td>\n",
       "      <td>76000</td>\n",
       "      <td>0</td>\n",
       "    </tr>\n",
       "    <tr>\n",
       "      <th>...</th>\n",
       "      <td>...</td>\n",
       "      <td>...</td>\n",
       "      <td>...</td>\n",
       "      <td>...</td>\n",
       "      <td>...</td>\n",
       "    </tr>\n",
       "    <tr>\n",
       "      <th>395</th>\n",
       "      <td>15691863</td>\n",
       "      <td>Female</td>\n",
       "      <td>46</td>\n",
       "      <td>41000</td>\n",
       "      <td>1</td>\n",
       "    </tr>\n",
       "    <tr>\n",
       "      <th>396</th>\n",
       "      <td>15706071</td>\n",
       "      <td>Male</td>\n",
       "      <td>51</td>\n",
       "      <td>23000</td>\n",
       "      <td>1</td>\n",
       "    </tr>\n",
       "    <tr>\n",
       "      <th>397</th>\n",
       "      <td>15654296</td>\n",
       "      <td>Female</td>\n",
       "      <td>50</td>\n",
       "      <td>20000</td>\n",
       "      <td>1</td>\n",
       "    </tr>\n",
       "    <tr>\n",
       "      <th>398</th>\n",
       "      <td>15755018</td>\n",
       "      <td>Male</td>\n",
       "      <td>36</td>\n",
       "      <td>33000</td>\n",
       "      <td>0</td>\n",
       "    </tr>\n",
       "    <tr>\n",
       "      <th>399</th>\n",
       "      <td>15594041</td>\n",
       "      <td>Female</td>\n",
       "      <td>49</td>\n",
       "      <td>36000</td>\n",
       "      <td>1</td>\n",
       "    </tr>\n",
       "  </tbody>\n",
       "</table>\n",
       "<p>400 rows × 5 columns</p>\n",
       "</div>"
      ],
      "text/plain": [
       "      User ID  Gender  Age  EstimatedSalary  Purchased\n",
       "0    15624510    Male   19            19000          0\n",
       "1    15810944    Male   35            20000          0\n",
       "2    15668575  Female   26            43000          0\n",
       "3    15603246  Female   27            57000          0\n",
       "4    15804002    Male   19            76000          0\n",
       "..        ...     ...  ...              ...        ...\n",
       "395  15691863  Female   46            41000          1\n",
       "396  15706071    Male   51            23000          1\n",
       "397  15654296  Female   50            20000          1\n",
       "398  15755018    Male   36            33000          0\n",
       "399  15594041  Female   49            36000          1\n",
       "\n",
       "[400 rows x 5 columns]"
      ]
     },
     "execution_count": 171,
     "metadata": {},
     "output_type": "execute_result"
    }
   ],
   "source": [
    "data"
   ]
  },
  {
   "cell_type": "code",
   "execution_count": 172,
   "metadata": {},
   "outputs": [],
   "source": [
    "data.drop([\"User ID\"],axis=1,inplace=True) ## unwanted column"
   ]
  },
  {
   "cell_type": "code",
   "execution_count": 173,
   "metadata": {},
   "outputs": [
    {
     "data": {
      "text/html": [
       "<div>\n",
       "<style scoped>\n",
       "    .dataframe tbody tr th:only-of-type {\n",
       "        vertical-align: middle;\n",
       "    }\n",
       "\n",
       "    .dataframe tbody tr th {\n",
       "        vertical-align: top;\n",
       "    }\n",
       "\n",
       "    .dataframe thead th {\n",
       "        text-align: right;\n",
       "    }\n",
       "</style>\n",
       "<table border=\"1\" class=\"dataframe\">\n",
       "  <thead>\n",
       "    <tr style=\"text-align: right;\">\n",
       "      <th></th>\n",
       "      <th>Gender</th>\n",
       "      <th>Age</th>\n",
       "      <th>EstimatedSalary</th>\n",
       "      <th>Purchased</th>\n",
       "    </tr>\n",
       "  </thead>\n",
       "  <tbody>\n",
       "    <tr>\n",
       "      <th>0</th>\n",
       "      <td>Male</td>\n",
       "      <td>19</td>\n",
       "      <td>19000</td>\n",
       "      <td>0</td>\n",
       "    </tr>\n",
       "    <tr>\n",
       "      <th>1</th>\n",
       "      <td>Male</td>\n",
       "      <td>35</td>\n",
       "      <td>20000</td>\n",
       "      <td>0</td>\n",
       "    </tr>\n",
       "    <tr>\n",
       "      <th>2</th>\n",
       "      <td>Female</td>\n",
       "      <td>26</td>\n",
       "      <td>43000</td>\n",
       "      <td>0</td>\n",
       "    </tr>\n",
       "    <tr>\n",
       "      <th>3</th>\n",
       "      <td>Female</td>\n",
       "      <td>27</td>\n",
       "      <td>57000</td>\n",
       "      <td>0</td>\n",
       "    </tr>\n",
       "    <tr>\n",
       "      <th>4</th>\n",
       "      <td>Male</td>\n",
       "      <td>19</td>\n",
       "      <td>76000</td>\n",
       "      <td>0</td>\n",
       "    </tr>\n",
       "    <tr>\n",
       "      <th>...</th>\n",
       "      <td>...</td>\n",
       "      <td>...</td>\n",
       "      <td>...</td>\n",
       "      <td>...</td>\n",
       "    </tr>\n",
       "    <tr>\n",
       "      <th>395</th>\n",
       "      <td>Female</td>\n",
       "      <td>46</td>\n",
       "      <td>41000</td>\n",
       "      <td>1</td>\n",
       "    </tr>\n",
       "    <tr>\n",
       "      <th>396</th>\n",
       "      <td>Male</td>\n",
       "      <td>51</td>\n",
       "      <td>23000</td>\n",
       "      <td>1</td>\n",
       "    </tr>\n",
       "    <tr>\n",
       "      <th>397</th>\n",
       "      <td>Female</td>\n",
       "      <td>50</td>\n",
       "      <td>20000</td>\n",
       "      <td>1</td>\n",
       "    </tr>\n",
       "    <tr>\n",
       "      <th>398</th>\n",
       "      <td>Male</td>\n",
       "      <td>36</td>\n",
       "      <td>33000</td>\n",
       "      <td>0</td>\n",
       "    </tr>\n",
       "    <tr>\n",
       "      <th>399</th>\n",
       "      <td>Female</td>\n",
       "      <td>49</td>\n",
       "      <td>36000</td>\n",
       "      <td>1</td>\n",
       "    </tr>\n",
       "  </tbody>\n",
       "</table>\n",
       "<p>400 rows × 4 columns</p>\n",
       "</div>"
      ],
      "text/plain": [
       "     Gender  Age  EstimatedSalary  Purchased\n",
       "0      Male   19            19000          0\n",
       "1      Male   35            20000          0\n",
       "2    Female   26            43000          0\n",
       "3    Female   27            57000          0\n",
       "4      Male   19            76000          0\n",
       "..      ...  ...              ...        ...\n",
       "395  Female   46            41000          1\n",
       "396    Male   51            23000          1\n",
       "397  Female   50            20000          1\n",
       "398    Male   36            33000          0\n",
       "399  Female   49            36000          1\n",
       "\n",
       "[400 rows x 4 columns]"
      ]
     },
     "execution_count": 173,
     "metadata": {},
     "output_type": "execute_result"
    }
   ],
   "source": [
    "data"
   ]
  },
  {
   "cell_type": "code",
   "execution_count": 174,
   "metadata": {},
   "outputs": [
    {
     "data": {
      "text/plain": [
       "Gender             object\n",
       "Age                 int64\n",
       "EstimatedSalary     int64\n",
       "Purchased           int64\n",
       "dtype: object"
      ]
     },
     "execution_count": 174,
     "metadata": {},
     "output_type": "execute_result"
    }
   ],
   "source": [
    "data.dtypes"
   ]
  },
  {
   "cell_type": "markdown",
   "metadata": {},
   "source": [
    "### Converting to category"
   ]
  },
  {
   "cell_type": "code",
   "execution_count": 175,
   "metadata": {},
   "outputs": [],
   "source": [
    "conversion_col_cat = [\"Gender\",\"Purchased\"]\n",
    "for col in conversion_col_cat:\n",
    "    data[col] = data[col].astype(\"category\")"
   ]
  },
  {
   "cell_type": "code",
   "execution_count": 176,
   "metadata": {},
   "outputs": [
    {
     "data": {
      "text/plain": [
       "Gender             category\n",
       "Age                   int64\n",
       "EstimatedSalary       int64\n",
       "Purchased          category\n",
       "dtype: object"
      ]
     },
     "execution_count": 176,
     "metadata": {},
     "output_type": "execute_result"
    }
   ],
   "source": [
    "data.dtypes"
   ]
  },
  {
   "cell_type": "code",
   "execution_count": 177,
   "metadata": {},
   "outputs": [],
   "source": [
    "target = \"Purchased\"\n",
    "cont_columns = data.select_dtypes(\"int64\")\n",
    "cat_columns = [i for i in data.select_dtypes(\"category\") if i!= target]"
   ]
  },
  {
   "cell_type": "markdown",
   "metadata": {},
   "source": [
    "## `Bivariant analysis`"
   ]
  },
  {
   "cell_type": "markdown",
   "metadata": {},
   "source": [
    "### Cat vs Num : T-test"
   ]
  },
  {
   "cell_type": "code",
   "execution_count": 178,
   "metadata": {},
   "outputs": [
    {
     "name": "stdout",
     "output_type": "stream",
     "text": [
      "Age => t-test result => Ttest_indResult(statistic=-15.86638147378889, pvalue=2.800233943272422e-44)\n",
      "\n",
      "EstimatedSalary => t-test result => Ttest_indResult(statistic=-7.7493599219079, pvalue=7.772785450066969e-14)\n",
      "\n"
     ]
    },
    {
     "data": {
      "image/png": "[encoded data removed]",
      "text/plain": [
       "<Figure size 1728x576 with 1 Axes>"
      ]
     },
     "metadata": {
      "needs_background": "light"
     },
     "output_type": "display_data"
    },
    {
     "data": {
      "image/png": "[encoded data removed]",
      "text/plain": [
       "<Figure size 1728x576 with 1 Axes>"
      ]
     },
     "metadata": {
      "needs_background": "light"
     },
     "output_type": "display_data"
    }
   ],
   "source": [
    "from scipy.stats import ttest_ind\n",
    "import seaborn as sns\n",
    "import matplotlib.pyplot as plt\n",
    "\n",
    "def t_test_plot(col,grp1,grp2):\n",
    "    plt.figure(figsize=(24,8))\n",
    "    sns.distplot(grp1)\n",
    "    sns.distplot(grp2)\n",
    "    t_test_resutl = ttest_ind(grp1,grp2)\n",
    "    print(f\"{col} => t-test result => {t_test_resutl}\\n\")\n",
    "\n",
    "    \n",
    "for col in cont_columns:\n",
    "    grp1 = data.loc[data[target]==0,col]\n",
    "    grp2 = data.loc[data[target]==1,col]\n",
    "    t_test_plot(col,grp1,grp2)"
   ]
  },
  {
   "cell_type": "markdown",
   "metadata": {},
   "source": [
    "### Cat vs Cat - chi square test"
   ]
  },
  {
   "cell_type": "code",
   "execution_count": 179,
   "metadata": {},
   "outputs": [
    {
     "data": {
      "text/plain": [
       "(0.5550869364098915,\n",
       " 0.45624659183130645,\n",
       " 1,\n",
       " array([[131.07, 125.93],\n",
       "        [ 72.93,  70.07]]))"
      ]
     },
     "execution_count": 179,
     "metadata": {},
     "output_type": "execute_result"
    }
   ],
   "source": [
    "from scipy.stats import chi2_contingency\n",
    "\n",
    "two_freq = pd.crosstab(data[\"Purchased\"],data[\"Gender\"])\n",
    "chi2_contingency(two_freq)"
   ]
  },
  {
   "cell_type": "code",
   "execution_count": 180,
   "metadata": {},
   "outputs": [],
   "source": [
    "data.drop([\"Gender\"],axis=1,inplace=True)"
   ]
  },
  {
   "cell_type": "code",
   "execution_count": 181,
   "metadata": {},
   "outputs": [
    {
     "data": {
      "text/html": [
       "<div>\n",
       "<style scoped>\n",
       "    .dataframe tbody tr th:only-of-type {\n",
       "        vertical-align: middle;\n",
       "    }\n",
       "\n",
       "    .dataframe tbody tr th {\n",
       "        vertical-align: top;\n",
       "    }\n",
       "\n",
       "    .dataframe thead th {\n",
       "        text-align: right;\n",
       "    }\n",
       "</style>\n",
       "<table border=\"1\" class=\"dataframe\">\n",
       "  <thead>\n",
       "    <tr style=\"text-align: right;\">\n",
       "      <th></th>\n",
       "      <th>Age</th>\n",
       "      <th>EstimatedSalary</th>\n",
       "      <th>Purchased</th>\n",
       "    </tr>\n",
       "  </thead>\n",
       "  <tbody>\n",
       "    <tr>\n",
       "      <th>0</th>\n",
       "      <td>19</td>\n",
       "      <td>19000</td>\n",
       "      <td>0</td>\n",
       "    </tr>\n",
       "    <tr>\n",
       "      <th>1</th>\n",
       "      <td>35</td>\n",
       "      <td>20000</td>\n",
       "      <td>0</td>\n",
       "    </tr>\n",
       "    <tr>\n",
       "      <th>2</th>\n",
       "      <td>26</td>\n",
       "      <td>43000</td>\n",
       "      <td>0</td>\n",
       "    </tr>\n",
       "    <tr>\n",
       "      <th>3</th>\n",
       "      <td>27</td>\n",
       "      <td>57000</td>\n",
       "      <td>0</td>\n",
       "    </tr>\n",
       "    <tr>\n",
       "      <th>4</th>\n",
       "      <td>19</td>\n",
       "      <td>76000</td>\n",
       "      <td>0</td>\n",
       "    </tr>\n",
       "    <tr>\n",
       "      <th>...</th>\n",
       "      <td>...</td>\n",
       "      <td>...</td>\n",
       "      <td>...</td>\n",
       "    </tr>\n",
       "    <tr>\n",
       "      <th>395</th>\n",
       "      <td>46</td>\n",
       "      <td>41000</td>\n",
       "      <td>1</td>\n",
       "    </tr>\n",
       "    <tr>\n",
       "      <th>396</th>\n",
       "      <td>51</td>\n",
       "      <td>23000</td>\n",
       "      <td>1</td>\n",
       "    </tr>\n",
       "    <tr>\n",
       "      <th>397</th>\n",
       "      <td>50</td>\n",
       "      <td>20000</td>\n",
       "      <td>1</td>\n",
       "    </tr>\n",
       "    <tr>\n",
       "      <th>398</th>\n",
       "      <td>36</td>\n",
       "      <td>33000</td>\n",
       "      <td>0</td>\n",
       "    </tr>\n",
       "    <tr>\n",
       "      <th>399</th>\n",
       "      <td>49</td>\n",
       "      <td>36000</td>\n",
       "      <td>1</td>\n",
       "    </tr>\n",
       "  </tbody>\n",
       "</table>\n",
       "<p>400 rows × 3 columns</p>\n",
       "</div>"
      ],
      "text/plain": [
       "     Age  EstimatedSalary Purchased\n",
       "0     19            19000         0\n",
       "1     35            20000         0\n",
       "2     26            43000         0\n",
       "3     27            57000         0\n",
       "4     19            76000         0\n",
       "..   ...              ...       ...\n",
       "395   46            41000         1\n",
       "396   51            23000         1\n",
       "397   50            20000         1\n",
       "398   36            33000         0\n",
       "399   49            36000         1\n",
       "\n",
       "[400 rows x 3 columns]"
      ]
     },
     "execution_count": 181,
     "metadata": {},
     "output_type": "execute_result"
    }
   ],
   "source": [
    "data"
   ]
  },
  {
   "cell_type": "code",
   "execution_count": 182,
   "metadata": {},
   "outputs": [
    {
     "data": {
      "text/plain": [
       "<seaborn.axisgrid.JointGrid at 0x1b160aae310>"
      ]
     },
     "execution_count": 182,
     "metadata": {},
     "output_type": "execute_result"
    },
    {
     "data": {
      "image/png": "[encoded data removed]",
      "text/plain": [
       "<Figure size 432x432 with 3 Axes>"
      ]
     },
     "metadata": {
      "needs_background": "light"
     },
     "output_type": "display_data"
    }
   ],
   "source": [
    "sns.jointplot(data[\"Age\"],data[\"Purchased\"].astype(int),kind='reg')"
   ]
  },
  {
   "cell_type": "code",
   "execution_count": 183,
   "metadata": {},
   "outputs": [
    {
     "data": {
      "text/plain": [
       "<seaborn.axisgrid.JointGrid at 0x1b160b45250>"
      ]
     },
     "execution_count": 183,
     "metadata": {},
     "output_type": "execute_result"
    },
    {
     "data": {
      "image/png": "[encoded data removed]",
      "text/plain": [
       "<Figure size 432x432 with 3 Axes>"
      ]
     },
     "metadata": {
      "needs_background": "light"
     },
     "output_type": "display_data"
    }
   ],
   "source": [
    "sns.jointplot(data[\"EstimatedSalary\"],data[\"Purchased\"].astype(int),kind='reg')"
   ]
  },
  {
   "cell_type": "code",
   "execution_count": 184,
   "metadata": {},
   "outputs": [
    {
     "data": {
      "application/vnd.plotly.v1+json": {
       "config": {
        "plotlyServerURL": "https://plot.ly"
       },
       "data": [
        {
         "hovertemplate": "color=0<br>x=%{x}<br>y=%{y}<extra></extra>",
         "legendgroup": "0",
         "marker": {
          "color": "#636efa",
          "symbol": "circle"
         },
         "mode": "markers",
         "name": "0",
         "orientation": "v",
         "showlegend": true,
         "type": "scatter",
         "x": [
          19,
          35,
          26,
          27,
          19,
          27,
          27,
          25,
          35,
          26,
          26,
          20,
          32,
          18,
          29,
          29,
          31,
          31,
          21,
          28,
          27,
          35,
          33,
          30,
          26,
          27,
          27,
          33,
          35,
          30,
          28,
          23,
          25,
          27,
          31,
          24,
          18,
          29,
          35,
          27,
          24,
          23,
          28,
          22,
          32,
          27,
          25,
          23,
          59,
          24,
          24,
          23,
          22,
          31,
          25,
          24,
          20,
          33,
          32,
          18,
          22,
          28,
          26,
          30,
          39,
          20,
          35,
          30,
          24,
          28,
          26,
          35,
          22,
          30,
          26,
          29,
          29,
          35,
          35,
          35,
          28,
          27,
          28,
          32,
          19,
          21,
          26,
          27,
          26,
          38,
          39,
          37,
          38,
          37,
          42,
          40,
          35,
          36,
          40,
          41,
          36,
          37,
          40,
          35,
          41,
          39,
          42,
          26,
          30,
          26,
          31,
          33,
          30,
          21,
          28,
          23,
          20,
          28,
          19,
          19,
          18,
          35,
          30,
          34,
          24,
          41,
          29,
          20,
          26,
          41,
          31,
          36,
          40,
          31,
          46,
          29,
          26,
          25,
          37,
          35,
          33,
          18,
          22,
          35,
          29,
          21,
          34,
          26,
          34,
          34,
          23,
          35,
          25,
          24,
          31,
          26,
          31,
          33,
          33,
          31,
          20,
          33,
          35,
          28,
          24,
          19,
          29,
          19,
          28,
          34,
          30,
          20,
          26,
          35,
          35,
          49,
          41,
          47,
          52,
          46,
          59,
          35,
          47,
          49,
          40,
          46,
          41,
          35,
          37,
          40,
          39,
          38,
          40,
          37,
          46,
          38,
          41,
          35,
          41,
          44,
          37,
          50,
          41,
          40,
          35,
          35,
          40,
          37,
          40,
          43,
          38,
          35,
          48,
          37,
          41,
          37,
          35,
          36,
          45,
          40,
          42,
          51,
          38,
          42,
          38,
          39,
          35,
          36,
          41,
          41,
          41,
          42,
          38,
          42,
          40,
          36,
          35,
          38,
          35,
          38,
          41,
          39,
          38,
          37,
          37,
          41,
          42,
          42,
          38,
          39,
          37,
          46,
          42,
          42,
          39,
          39,
          36
         ],
         "xaxis": "x",
         "y": [
          19000,
          20000,
          43000,
          57000,
          76000,
          58000,
          84000,
          33000,
          65000,
          80000,
          52000,
          86000,
          18000,
          82000,
          80000,
          43000,
          18000,
          74000,
          16000,
          44000,
          90000,
          27000,
          28000,
          49000,
          72000,
          31000,
          17000,
          51000,
          108000,
          15000,
          84000,
          20000,
          79000,
          54000,
          89000,
          32000,
          44000,
          83000,
          23000,
          58000,
          55000,
          48000,
          79000,
          18000,
          117000,
          20000,
          87000,
          66000,
          83000,
          58000,
          19000,
          82000,
          63000,
          68000,
          80000,
          27000,
          23000,
          113000,
          18000,
          52000,
          27000,
          87000,
          17000,
          80000,
          42000,
          49000,
          88000,
          62000,
          55000,
          85000,
          81000,
          50000,
          81000,
          116000,
          15000,
          28000,
          83000,
          44000,
          25000,
          73000,
          37000,
          88000,
          59000,
          86000,
          21000,
          72000,
          35000,
          89000,
          86000,
          80000,
          71000,
          71000,
          61000,
          55000,
          80000,
          57000,
          75000,
          52000,
          59000,
          59000,
          75000,
          72000,
          75000,
          53000,
          51000,
          61000,
          65000,
          32000,
          17000,
          84000,
          58000,
          31000,
          87000,
          68000,
          55000,
          63000,
          82000,
          59000,
          25000,
          85000,
          68000,
          59000,
          89000,
          25000,
          89000,
          30000,
          61000,
          74000,
          15000,
          45000,
          76000,
          50000,
          47000,
          15000,
          59000,
          75000,
          30000,
          90000,
          33000,
          38000,
          69000,
          86000,
          55000,
          71000,
          47000,
          88000,
          115000,
          118000,
          43000,
          72000,
          28000,
          47000,
          22000,
          23000,
          34000,
          16000,
          71000,
          43000,
          60000,
          66000,
          82000,
          41000,
          72000,
          32000,
          84000,
          26000,
          43000,
          70000,
          89000,
          43000,
          79000,
          36000,
          80000,
          22000,
          39000,
          74000,
          71000,
          47000,
          114000,
          22000,
          42000,
          58000,
          43000,
          65000,
          78000,
          96000,
          80000,
          60000,
          53000,
          72000,
          42000,
          112000,
          57000,
          80000,
          82000,
          59000,
          72000,
          50000,
          52000,
          39000,
          52000,
          44000,
          72000,
          57000,
          77000,
          72000,
          75000,
          74000,
          61000,
          133000,
          71000,
          61000,
          141000,
          62000,
          79000,
          77000,
          57000,
          63000,
          79000,
          60000,
          54000,
          134000,
          50000,
          70000,
          50000,
          79000,
          55000,
          60000,
          52000,
          60000,
          72000,
          75000,
          51000,
          65000,
          65000,
          54000,
          79000,
          55000,
          75000,
          65000,
          63000,
          77000,
          61000,
          75000,
          57000,
          72000,
          54000,
          79000,
          71000,
          73000,
          80000,
          74000,
          53000,
          64000,
          71000,
          59000,
          33000
         ],
         "yaxis": "y"
        },
        {
         "hovertemplate": "color=1<br>x=%{x}<br>y=%{y}<extra></extra>",
         "legendgroup": "1",
         "marker": {
          "color": "#EF553B",
          "symbol": "circle"
         },
         "mode": "markers",
         "name": "1",
         "orientation": "v",
         "showlegend": true,
         "type": "scatter",
         "x": [
          32,
          47,
          45,
          46,
          48,
          45,
          47,
          48,
          45,
          46,
          47,
          49,
          47,
          27,
          30,
          32,
          34,
          31,
          28,
          33,
          30,
          27,
          32,
          32,
          29,
          32,
          39,
          58,
          55,
          40,
          48,
          52,
          60,
          59,
          35,
          37,
          60,
          36,
          56,
          42,
          35,
          40,
          49,
          46,
          53,
          42,
          50,
          56,
          51,
          57,
          35,
          48,
          37,
          52,
          58,
          45,
          36,
          55,
          48,
          42,
          47,
          59,
          60,
          39,
          57,
          57,
          49,
          52,
          50,
          59,
          37,
          52,
          37,
          48,
          37,
          39,
          49,
          55,
          42,
          43,
          46,
          58,
          48,
          37,
          37,
          47,
          36,
          39,
          49,
          39,
          54,
          45,
          52,
          53,
          48,
          48,
          36,
          47,
          48,
          57,
          58,
          39,
          53,
          47,
          47,
          53,
          54,
          38,
          42,
          36,
          60,
          54,
          40,
          43,
          53,
          47,
          42,
          59,
          58,
          46,
          54,
          60,
          60,
          59,
          46,
          41,
          58,
          48,
          44,
          49,
          57,
          56,
          49,
          47,
          48,
          48,
          47,
          45,
          60,
          46,
          51,
          50,
          49
         ],
         "xaxis": "x",
         "y": [
          150000,
          25000,
          26000,
          28000,
          29000,
          22000,
          49000,
          41000,
          22000,
          23000,
          20000,
          28000,
          30000,
          137000,
          135000,
          120000,
          112000,
          118000,
          123000,
          149000,
          107000,
          96000,
          135000,
          100000,
          148000,
          117000,
          134000,
          101000,
          130000,
          142000,
          96000,
          150000,
          108000,
          143000,
          91000,
          144000,
          102000,
          126000,
          133000,
          80000,
          147000,
          107000,
          86000,
          79000,
          143000,
          149000,
          88000,
          104000,
          146000,
          122000,
          97000,
          134000,
          146000,
          90000,
          95000,
          131000,
          144000,
          125000,
          90000,
          108000,
          144000,
          76000,
          42000,
          106000,
          26000,
          74000,
          88000,
          38000,
          36000,
          88000,
          70000,
          21000,
          93000,
          138000,
          78000,
          134000,
          89000,
          39000,
          73000,
          112000,
          117000,
          38000,
          74000,
          137000,
          79000,
          113000,
          125000,
          96000,
          141000,
          75000,
          104000,
          32000,
          138000,
          82000,
          30000,
          131000,
          118000,
          107000,
          119000,
          60000,
          144000,
          122000,
          104000,
          51000,
          105000,
          72000,
          108000,
          113000,
          90000,
          99000,
          34000,
          70000,
          71000,
          129000,
          34000,
          50000,
          104000,
          29000,
          47000,
          88000,
          26000,
          46000,
          83000,
          130000,
          32000,
          87000,
          23000,
          33000,
          139000,
          28000,
          33000,
          60000,
          39000,
          34000,
          35000,
          33000,
          23000,
          45000,
          42000,
          41000,
          23000,
          20000,
          36000
         ],
         "yaxis": "y"
        }
       ],
       "layout": {
        "legend": {
         "title": {
          "text": "color"
         },
         "tracegroupgap": 0
        },
        "margin": {
         "t": 60
        },
        "template": {
         "data": {
          "bar": [
           {
            "error_x": {
             "color": "#2a3f5f"
            },
            "error_y": {
             "color": "#2a3f5f"
            },
            "marker": {
             "line": {
              "color": "#E5ECF6",
              "width": 0.5
             }
            },
            "type": "bar"
           }
          ],
          "barpolar": [
           {
            "marker": {
             "line": {
              "color": "#E5ECF6",
              "width": 0.5
             }
            },
            "type": "barpolar"
           }
          ],
          "carpet": [
           {
            "aaxis": {
             "endlinecolor": "#2a3f5f",
             "gridcolor": "white",
             "linecolor": "white",
             "minorgridcolor": "white",
             "startlinecolor": "#2a3f5f"
            },
            "baxis": {
             "endlinecolor": "#2a3f5f",
             "gridcolor": "white",
             "linecolor": "white",
             "minorgridcolor": "white",
             "startlinecolor": "#2a3f5f"
            },
            "type": "carpet"
           }
          ],
          "choropleth": [
           {
            "colorbar": {
             "outlinewidth": 0,
             "ticks": ""
            },
            "type": "choropleth"
           }
          ],
          "contour": [
           {
            "colorbar": {
             "outlinewidth": 0,
             "ticks": ""
            },
            "colorscale": [
             [
              0,
              "#0d0887"
             ],
             [
              0.1111111111111111,
              "#46039f"
             ],
             [
              0.2222222222222222,
              "#7201a8"
             ],
             [
              0.3333333333333333,
              "#9c179e"
             ],
             [
              0.4444444444444444,
              "#bd3786"
             ],
             [
              0.5555555555555556,
              "#d8576b"
             ],
             [
              0.6666666666666666,
              "#ed7953"
             ],
             [
              0.7777777777777778,
              "#fb9f3a"
             ],
             [
              0.8888888888888888,
              "#fdca26"
             ],
             [
              1,
              "#f0f921"
             ]
            ],
            "type": "contour"
           }
          ],
          "contourcarpet": [
           {
            "colorbar": {
             "outlinewidth": 0,
             "ticks": ""
            },
            "type": "contourcarpet"
           }
          ],
          "heatmap": [
           {
            "colorbar": {
             "outlinewidth": 0,
             "ticks": ""
            },
            "colorscale": [
             [
              0,
              "#0d0887"
             ],
             [
              0.1111111111111111,
              "#46039f"
             ],
             [
              0.2222222222222222,
              "#7201a8"
             ],
             [
              0.3333333333333333,
              "#9c179e"
             ],
             [
              0.4444444444444444,
              "#bd3786"
             ],
             [
              0.5555555555555556,
              "#d8576b"
             ],
             [
              0.6666666666666666,
              "#ed7953"
             ],
             [
              0.7777777777777778,
              "#fb9f3a"
             ],
             [
              0.8888888888888888,
              "#fdca26"
             ],
             [
              1,
              "#f0f921"
             ]
            ],
            "type": "heatmap"
           }
          ],
          "heatmapgl": [
           {
            "colorbar": {
             "outlinewidth": 0,
             "ticks": ""
            },
            "colorscale": [
             [
              0,
              "#0d0887"
             ],
             [
              0.1111111111111111,
              "#46039f"
             ],
             [
              0.2222222222222222,
              "#7201a8"
             ],
             [
              0.3333333333333333,
              "#9c179e"
             ],
             [
              0.4444444444444444,
              "#bd3786"
             ],
             [
              0.5555555555555556,
              "#d8576b"
             ],
             [
              0.6666666666666666,
              "#ed7953"
             ],
             [
              0.7777777777777778,
              "#fb9f3a"
             ],
             [
              0.8888888888888888,
              "#fdca26"
             ],
             [
              1,
              "#f0f921"
             ]
            ],
            "type": "heatmapgl"
           }
          ],
          "histogram": [
           {
            "marker": {
             "colorbar": {
              "outlinewidth": 0,
              "ticks": ""
             }
            },
            "type": "histogram"
           }
          ],
          "histogram2d": [
           {
            "colorbar": {
             "outlinewidth": 0,
             "ticks": ""
            },
            "colorscale": [
             [
              0,
              "#0d0887"
             ],
             [
              0.1111111111111111,
              "#46039f"
             ],
             [
              0.2222222222222222,
              "#7201a8"
             ],
             [
              0.3333333333333333,
              "#9c179e"
             ],
             [
              0.4444444444444444,
              "#bd3786"
             ],
             [
              0.5555555555555556,
              "#d8576b"
             ],
             [
              0.6666666666666666,
              "#ed7953"
             ],
             [
              0.7777777777777778,
              "#fb9f3a"
             ],
             [
              0.8888888888888888,
              "#fdca26"
             ],
             [
              1,
              "#f0f921"
             ]
            ],
            "type": "histogram2d"
           }
          ],
          "histogram2dcontour": [
           {
            "colorbar": {
             "outlinewidth": 0,
             "ticks": ""
            },
            "colorscale": [
             [
              0,
              "#0d0887"
             ],
             [
              0.1111111111111111,
              "#46039f"
             ],
             [
              0.2222222222222222,
              "#7201a8"
             ],
             [
              0.3333333333333333,
              "#9c179e"
             ],
             [
              0.4444444444444444,
              "#bd3786"
             ],
             [
              0.5555555555555556,
              "#d8576b"
             ],
             [
              0.6666666666666666,
              "#ed7953"
             ],
             [
              0.7777777777777778,
              "#fb9f3a"
             ],
             [
              0.8888888888888888,
              "#fdca26"
             ],
             [
              1,
              "#f0f921"
             ]
            ],
            "type": "histogram2dcontour"
           }
          ],
          "mesh3d": [
           {
            "colorbar": {
             "outlinewidth": 0,
             "ticks": ""
            },
            "type": "mesh3d"
           }
          ],
          "parcoords": [
           {
            "line": {
             "colorbar": {
              "outlinewidth": 0,
              "ticks": ""
             }
            },
            "type": "parcoords"
           }
          ],
          "pie": [
           {
            "automargin": true,
            "type": "pie"
           }
          ],
          "scatter": [
           {
            "marker": {
             "colorbar": {
              "outlinewidth": 0,
              "ticks": ""
             }
            },
            "type": "scatter"
           }
          ],
          "scatter3d": [
           {
            "line": {
             "colorbar": {
              "outlinewidth": 0,
              "ticks": ""
             }
            },
            "marker": {
             "colorbar": {
              "outlinewidth": 0,
              "ticks": ""
             }
            },
            "type": "scatter3d"
           }
          ],
          "scattercarpet": [
           {
            "marker": {
             "colorbar": {
              "outlinewidth": 0,
              "ticks": ""
             }
            },
            "type": "scattercarpet"
           }
          ],
          "scattergeo": [
           {
            "marker": {
             "colorbar": {
              "outlinewidth": 0,
              "ticks": ""
             }
            },
            "type": "scattergeo"
           }
          ],
          "scattergl": [
           {
            "marker": {
             "colorbar": {
              "outlinewidth": 0,
              "ticks": ""
             }
            },
            "type": "scattergl"
           }
          ],
          "scattermapbox": [
           {
            "marker": {
             "colorbar": {
              "outlinewidth": 0,
              "ticks": ""
             }
            },
            "type": "scattermapbox"
           }
          ],
          "scatterpolar": [
           {
            "marker": {
             "colorbar": {
              "outlinewidth": 0,
              "ticks": ""
             }
            },
            "type": "scatterpolar"
           }
          ],
          "scatterpolargl": [
           {
            "marker": {
             "colorbar": {
              "outlinewidth": 0,
              "ticks": ""
             }
            },
            "type": "scatterpolargl"
           }
          ],
          "scatterternary": [
           {
            "marker": {
             "colorbar": {
              "outlinewidth": 0,
              "ticks": ""
             }
            },
            "type": "scatterternary"
           }
          ],
          "surface": [
           {
            "colorbar": {
             "outlinewidth": 0,
             "ticks": ""
            },
            "colorscale": [
             [
              0,
              "#0d0887"
             ],
             [
              0.1111111111111111,
              "#46039f"
             ],
             [
              0.2222222222222222,
              "#7201a8"
             ],
             [
              0.3333333333333333,
              "#9c179e"
             ],
             [
              0.4444444444444444,
              "#bd3786"
             ],
             [
              0.5555555555555556,
              "#d8576b"
             ],
             [
              0.6666666666666666,
              "#ed7953"
             ],
             [
              0.7777777777777778,
              "#fb9f3a"
             ],
             [
              0.8888888888888888,
              "#fdca26"
             ],
             [
              1,
              "#f0f921"
             ]
            ],
            "type": "surface"
           }
          ],
          "table": [
           {
            "cells": {
             "fill": {
              "color": "#EBF0F8"
             },
             "line": {
              "color": "white"
             }
            },
            "header": {
             "fill": {
              "color": "#C8D4E3"
             },
             "line": {
              "color": "white"
             }
            },
            "type": "table"
           }
          ]
         },
         "layout": {
          "annotationdefaults": {
           "arrowcolor": "#2a3f5f",
           "arrowhead": 0,
           "arrowwidth": 1
          },
          "autotypenumbers": "strict",
          "coloraxis": {
           "colorbar": {
            "outlinewidth": 0,
            "ticks": ""
           }
          },
          "colorscale": {
           "diverging": [
            [
             0,
             "#8e0152"
            ],
            [
             0.1,
             "#c51b7d"
            ],
            [
             0.2,
             "#de77ae"
            ],
            [
             0.3,
             "#f1b6da"
            ],
            [
             0.4,
             "#fde0ef"
            ],
            [
             0.5,
             "#f7f7f7"
            ],
            [
             0.6,
             "#e6f5d0"
            ],
            [
             0.7,
             "#b8e186"
            ],
            [
             0.8,
             "#7fbc41"
            ],
            [
             0.9,
             "#4d9221"
            ],
            [
             1,
             "#276419"
            ]
           ],
           "sequential": [
            [
             0,
             "#0d0887"
            ],
            [
             0.1111111111111111,
             "#46039f"
            ],
            [
             0.2222222222222222,
             "#7201a8"
            ],
            [
             0.3333333333333333,
             "#9c179e"
            ],
            [
             0.4444444444444444,
             "#bd3786"
            ],
            [
             0.5555555555555556,
             "#d8576b"
            ],
            [
             0.6666666666666666,
             "#ed7953"
            ],
            [
             0.7777777777777778,
             "#fb9f3a"
            ],
            [
             0.8888888888888888,
             "#fdca26"
            ],
            [
             1,
             "#f0f921"
            ]
           ],
           "sequentialminus": [
            [
             0,
             "#0d0887"
            ],
            [
             0.1111111111111111,
             "#46039f"
            ],
            [
             0.2222222222222222,
             "#7201a8"
            ],
            [
             0.3333333333333333,
             "#9c179e"
            ],
            [
             0.4444444444444444,
             "#bd3786"
            ],
            [
             0.5555555555555556,
             "#d8576b"
            ],
            [
             0.6666666666666666,
             "#ed7953"
            ],
            [
             0.7777777777777778,
             "#fb9f3a"
            ],
            [
             0.8888888888888888,
             "#fdca26"
            ],
            [
             1,
             "#f0f921"
            ]
           ]
          },
          "colorway": [
           "#636efa",
           "#EF553B",
           "#00cc96",
           "#ab63fa",
           "#FFA15A",
           "#19d3f3",
           "#FF6692",
           "#B6E880",
           "#FF97FF",
           "#FECB52"
          ],
          "font": {
           "color": "#2a3f5f"
          },
          "geo": {
           "bgcolor": "white",
           "lakecolor": "white",
           "landcolor": "#E5ECF6",
           "showlakes": true,
           "showland": true,
           "subunitcolor": "white"
          },
          "hoverlabel": {
           "align": "left"
          },
          "hovermode": "closest",
          "mapbox": {
           "style": "light"
          },
          "paper_bgcolor": "white",
          "plot_bgcolor": "#E5ECF6",
          "polar": {
           "angularaxis": {
            "gridcolor": "white",
            "linecolor": "white",
            "ticks": ""
           },
           "bgcolor": "#E5ECF6",
           "radialaxis": {
            "gridcolor": "white",
            "linecolor": "white",
            "ticks": ""
           }
          },
          "scene": {
           "xaxis": {
            "backgroundcolor": "#E5ECF6",
            "gridcolor": "white",
            "gridwidth": 2,
            "linecolor": "white",
            "showbackground": true,
            "ticks": "",
            "zerolinecolor": "white"
           },
           "yaxis": {
            "backgroundcolor": "#E5ECF6",
            "gridcolor": "white",
            "gridwidth": 2,
            "linecolor": "white",
            "showbackground": true,
            "ticks": "",
            "zerolinecolor": "white"
           },
           "zaxis": {
            "backgroundcolor": "#E5ECF6",
            "gridcolor": "white",
            "gridwidth": 2,
            "linecolor": "white",
            "showbackground": true,
            "ticks": "",
            "zerolinecolor": "white"
           }
          },
          "shapedefaults": {
           "line": {
            "color": "#2a3f5f"
           }
          },
          "ternary": {
           "aaxis": {
            "gridcolor": "white",
            "linecolor": "white",
            "ticks": ""
           },
           "baxis": {
            "gridcolor": "white",
            "linecolor": "white",
            "ticks": ""
           },
           "bgcolor": "#E5ECF6",
           "caxis": {
            "gridcolor": "white",
            "linecolor": "white",
            "ticks": ""
           }
          },
          "title": {
           "x": 0.05
          },
          "xaxis": {
           "automargin": true,
           "gridcolor": "white",
           "linecolor": "white",
           "ticks": "",
           "title": {
            "standoff": 15
           },
           "zerolinecolor": "white",
           "zerolinewidth": 2
          },
          "yaxis": {
           "automargin": true,
           "gridcolor": "white",
           "linecolor": "white",
           "ticks": "",
           "title": {
            "standoff": 15
           },
           "zerolinecolor": "white",
           "zerolinewidth": 2
          }
         }
        },
        "xaxis": {
         "anchor": "y",
         "domain": [
          0,
          1
         ],
         "title": {
          "text": "x"
         }
        },
        "yaxis": {
         "anchor": "x",
         "domain": [
          0,
          1
         ],
         "title": {
          "text": "y"
         }
        }
       }
      },
      "text/html": [
       "<div>                            <div id=\"3ca07f5f-08ef-4e37-8b6e-6019ecbd3163\" class=\"plotly-graph-div\" style=\"height:525px; width:100%;\"></div>            <script type=\"text/javascript\">                require([\"plotly\"], function(Plotly) {                    window.PLOTLYENV=window.PLOTLYENV || {};                                    if (document.getElementById(\"3ca07f5f-08ef-4e37-8b6e-6019ecbd3163\")) {                    Plotly.newPlot(                        \"3ca07f5f-08ef-4e37-8b6e-6019ecbd3163\",                        [{\"hovertemplate\": \"color=0<br>x=%{x}<br>y=%{y}<extra></extra>\", \"legendgroup\": \"0\", \"marker\": {\"color\": \"#636efa\", \"symbol\": \"circle\"}, \"mode\": \"markers\", \"name\": \"0\", \"orientation\": \"v\", \"showlegend\": true, \"type\": \"scatter\", \"x\": [19, 35, 26, 27, 19, 27, 27, 25, 35, 26, 26, 20, 32, 18, 29, 29, 31, 31, 21, 28, 27, 35, 33, 30, 26, 27, 27, 33, 35, 30, 28, 23, 25, 27, 31, 24, 18, 29, 35, 27, 24, 23, 28, 22, 32, 27, 25, 23, 59, 24, 24, 23, 22, 31, 25, 24, 20, 33, 32, 18, 22, 28, 26, 30, 39, 20, 35, 30, 24, 28, 26, 35, 22, 30, 26, 29, 29, 35, 35, 35, 28, 27, 28, 32, 19, 21, 26, 27, 26, 38, 39, 37, 38, 37, 42, 40, 35, 36, 40, 41, 36, 37, 40, 35, 41, 39, 42, 26, 30, 26, 31, 33, 30, 21, 28, 23, 20, 28, 19, 19, 18, 35, 30, 34, 24, 41, 29, 20, 26, 41, 31, 36, 40, 31, 46, 29, 26, 25, 37, 35, 33, 18, 22, 35, 29, 21, 34, 26, 34, 34, 23, 35, 25, 24, 31, 26, 31, 33, 33, 31, 20, 33, 35, 28, 24, 19, 29, 19, 28, 34, 30, 20, 26, 35, 35, 49, 41, 47, 52, 46, 59, 35, 47, 49, 40, 46, 41, 35, 37, 40, 39, 38, 40, 37, 46, 38, 41, 35, 41, 44, 37, 50, 41, 40, 35, 35, 40, 37, 40, 43, 38, 35, 48, 37, 41, 37, 35, 36, 45, 40, 42, 51, 38, 42, 38, 39, 35, 36, 41, 41, 41, 42, 38, 42, 40, 36, 35, 38, 35, 38, 41, 39, 38, 37, 37, 41, 42, 42, 38, 39, 37, 46, 42, 42, 39, 39, 36], \"xaxis\": \"x\", \"y\": [19000, 20000, 43000, 57000, 76000, 58000, 84000, 33000, 65000, 80000, 52000, 86000, 18000, 82000, 80000, 43000, 18000, 74000, 16000, 44000, 90000, 27000, 28000, 49000, 72000, 31000, 17000, 51000, 108000, 15000, 84000, 20000, 79000, 54000, 89000, 32000, 44000, 83000, 23000, 58000, 55000, 48000, 79000, 18000, 117000, 20000, 87000, 66000, 83000, 58000, 19000, 82000, 63000, 68000, 80000, 27000, 23000, 113000, 18000, 52000, 27000, 87000, 17000, 80000, 42000, 49000, 88000, 62000, 55000, 85000, 81000, 50000, 81000, 116000, 15000, 28000, 83000, 44000, 25000, 73000, 37000, 88000, 59000, 86000, 21000, 72000, 35000, 89000, 86000, 80000, 71000, 71000, 61000, 55000, 80000, 57000, 75000, 52000, 59000, 59000, 75000, 72000, 75000, 53000, 51000, 61000, 65000, 32000, 17000, 84000, 58000, 31000, 87000, 68000, 55000, 63000, 82000, 59000, 25000, 85000, 68000, 59000, 89000, 25000, 89000, 30000, 61000, 74000, 15000, 45000, 76000, 50000, 47000, 15000, 59000, 75000, 30000, 90000, 33000, 38000, 69000, 86000, 55000, 71000, 47000, 88000, 115000, 118000, 43000, 72000, 28000, 47000, 22000, 23000, 34000, 16000, 71000, 43000, 60000, 66000, 82000, 41000, 72000, 32000, 84000, 26000, 43000, 70000, 89000, 43000, 79000, 36000, 80000, 22000, 39000, 74000, 71000, 47000, 114000, 22000, 42000, 58000, 43000, 65000, 78000, 96000, 80000, 60000, 53000, 72000, 42000, 112000, 57000, 80000, 82000, 59000, 72000, 50000, 52000, 39000, 52000, 44000, 72000, 57000, 77000, 72000, 75000, 74000, 61000, 133000, 71000, 61000, 141000, 62000, 79000, 77000, 57000, 63000, 79000, 60000, 54000, 134000, 50000, 70000, 50000, 79000, 55000, 60000, 52000, 60000, 72000, 75000, 51000, 65000, 65000, 54000, 79000, 55000, 75000, 65000, 63000, 77000, 61000, 75000, 57000, 72000, 54000, 79000, 71000, 73000, 80000, 74000, 53000, 64000, 71000, 59000, 33000], \"yaxis\": \"y\"}, {\"hovertemplate\": \"color=1<br>x=%{x}<br>y=%{y}<extra></extra>\", \"legendgroup\": \"1\", \"marker\": {\"color\": \"#EF553B\", \"symbol\": \"circle\"}, \"mode\": \"markers\", \"name\": \"1\", \"orientation\": \"v\", \"showlegend\": true, \"type\": \"scatter\", \"x\": [32, 47, 45, 46, 48, 45, 47, 48, 45, 46, 47, 49, 47, 27, 30, 32, 34, 31, 28, 33, 30, 27, 32, 32, 29, 32, 39, 58, 55, 40, 48, 52, 60, 59, 35, 37, 60, 36, 56, 42, 35, 40, 49, 46, 53, 42, 50, 56, 51, 57, 35, 48, 37, 52, 58, 45, 36, 55, 48, 42, 47, 59, 60, 39, 57, 57, 49, 52, 50, 59, 37, 52, 37, 48, 37, 39, 49, 55, 42, 43, 46, 58, 48, 37, 37, 47, 36, 39, 49, 39, 54, 45, 52, 53, 48, 48, 36, 47, 48, 57, 58, 39, 53, 47, 47, 53, 54, 38, 42, 36, 60, 54, 40, 43, 53, 47, 42, 59, 58, 46, 54, 60, 60, 59, 46, 41, 58, 48, 44, 49, 57, 56, 49, 47, 48, 48, 47, 45, 60, 46, 51, 50, 49], \"xaxis\": \"x\", \"y\": [150000, 25000, 26000, 28000, 29000, 22000, 49000, 41000, 22000, 23000, 20000, 28000, 30000, 137000, 135000, 120000, 112000, 118000, 123000, 149000, 107000, 96000, 135000, 100000, 148000, 117000, 134000, 101000, 130000, 142000, 96000, 150000, 108000, 143000, 91000, 144000, 102000, 126000, 133000, 80000, 147000, 107000, 86000, 79000, 143000, 149000, 88000, 104000, 146000, 122000, 97000, 134000, 146000, 90000, 95000, 131000, 144000, 125000, 90000, 108000, 144000, 76000, 42000, 106000, 26000, 74000, 88000, 38000, 36000, 88000, 70000, 21000, 93000, 138000, 78000, 134000, 89000, 39000, 73000, 112000, 117000, 38000, 74000, 137000, 79000, 113000, 125000, 96000, 141000, 75000, 104000, 32000, 138000, 82000, 30000, 131000, 118000, 107000, 119000, 60000, 144000, 122000, 104000, 51000, 105000, 72000, 108000, 113000, 90000, 99000, 34000, 70000, 71000, 129000, 34000, 50000, 104000, 29000, 47000, 88000, 26000, 46000, 83000, 130000, 32000, 87000, 23000, 33000, 139000, 28000, 33000, 60000, 39000, 34000, 35000, 33000, 23000, 45000, 42000, 41000, 23000, 20000, 36000], \"yaxis\": \"y\"}],                        {\"legend\": {\"title\": {\"text\": \"color\"}, \"tracegroupgap\": 0}, \"margin\": {\"t\": 60}, \"template\": {\"data\": {\"bar\": [{\"error_x\": {\"color\": \"#2a3f5f\"}, \"error_y\": {\"color\": \"#2a3f5f\"}, \"marker\": {\"line\": {\"color\": \"#E5ECF6\", \"width\": 0.5}}, \"type\": \"bar\"}], \"barpolar\": [{\"marker\": {\"line\": {\"color\": \"#E5ECF6\", \"width\": 0.5}}, \"type\": \"barpolar\"}], \"carpet\": [{\"aaxis\": {\"endlinecolor\": \"#2a3f5f\", \"gridcolor\": \"white\", \"linecolor\": \"white\", \"minorgridcolor\": \"white\", \"startlinecolor\": \"#2a3f5f\"}, \"baxis\": {\"endlinecolor\": \"#2a3f5f\", \"gridcolor\": \"white\", \"linecolor\": \"white\", \"minorgridcolor\": \"white\", \"startlinecolor\": \"#2a3f5f\"}, \"type\": \"carpet\"}], \"choropleth\": [{\"colorbar\": {\"outlinewidth\": 0, \"ticks\": \"\"}, \"type\": \"choropleth\"}], \"contour\": [{\"colorbar\": {\"outlinewidth\": 0, \"ticks\": \"\"}, \"colorscale\": [[0.0, \"#0d0887\"], [0.1111111111111111, \"#46039f\"], [0.2222222222222222, \"#7201a8\"], [0.3333333333333333, \"#9c179e\"], [0.4444444444444444, \"#bd3786\"], [0.5555555555555556, \"#d8576b\"], [0.6666666666666666, \"#ed7953\"], [0.7777777777777778, \"#fb9f3a\"], [0.8888888888888888, \"#fdca26\"], [1.0, \"#f0f921\"]], \"type\": \"contour\"}], \"contourcarpet\": [{\"colorbar\": {\"outlinewidth\": 0, \"ticks\": \"\"}, \"type\": \"contourcarpet\"}], \"heatmap\": [{\"colorbar\": {\"outlinewidth\": 0, \"ticks\": \"\"}, \"colorscale\": [[0.0, \"#0d0887\"], [0.1111111111111111, \"#46039f\"], [0.2222222222222222, \"#7201a8\"], [0.3333333333333333, \"#9c179e\"], [0.4444444444444444, \"#bd3786\"], [0.5555555555555556, \"#d8576b\"], [0.6666666666666666, \"#ed7953\"], [0.7777777777777778, \"#fb9f3a\"], [0.8888888888888888, \"#fdca26\"], [1.0, \"#f0f921\"]], \"type\": \"heatmap\"}], \"heatmapgl\": [{\"colorbar\": {\"outlinewidth\": 0, \"ticks\": \"\"}, \"colorscale\": [[0.0, \"#0d0887\"], [0.1111111111111111, \"#46039f\"], [0.2222222222222222, \"#7201a8\"], [0.3333333333333333, \"#9c179e\"], [0.4444444444444444, \"#bd3786\"], [0.5555555555555556, \"#d8576b\"], [0.6666666666666666, \"#ed7953\"], [0.7777777777777778, \"#fb9f3a\"], [0.8888888888888888, \"#fdca26\"], [1.0, \"#f0f921\"]], \"type\": \"heatmapgl\"}], \"histogram\": [{\"marker\": {\"colorbar\": {\"outlinewidth\": 0, \"ticks\": \"\"}}, \"type\": \"histogram\"}], \"histogram2d\": [{\"colorbar\": {\"outlinewidth\": 0, \"ticks\": \"\"}, \"colorscale\": [[0.0, \"#0d0887\"], [0.1111111111111111, \"#46039f\"], [0.2222222222222222, \"#7201a8\"], [0.3333333333333333, \"#9c179e\"], [0.4444444444444444, \"#bd3786\"], [0.5555555555555556, \"#d8576b\"], [0.6666666666666666, \"#ed7953\"], [0.7777777777777778, \"#fb9f3a\"], [0.8888888888888888, \"#fdca26\"], [1.0, \"#f0f921\"]], \"type\": \"histogram2d\"}], \"histogram2dcontour\": [{\"colorbar\": {\"outlinewidth\": 0, \"ticks\": \"\"}, \"colorscale\": [[0.0, \"#0d0887\"], [0.1111111111111111, \"#46039f\"], [0.2222222222222222, \"#7201a8\"], [0.3333333333333333, \"#9c179e\"], [0.4444444444444444, \"#bd3786\"], [0.5555555555555556, \"#d8576b\"], [0.6666666666666666, \"#ed7953\"], [0.7777777777777778, \"#fb9f3a\"], [0.8888888888888888, \"#fdca26\"], [1.0, \"#f0f921\"]], \"type\": \"histogram2dcontour\"}], \"mesh3d\": [{\"colorbar\": {\"outlinewidth\": 0, \"ticks\": \"\"}, \"type\": \"mesh3d\"}], \"parcoords\": [{\"line\": {\"colorbar\": {\"outlinewidth\": 0, \"ticks\": \"\"}}, \"type\": \"parcoords\"}], \"pie\": [{\"automargin\": true, \"type\": \"pie\"}], \"scatter\": [{\"marker\": {\"colorbar\": {\"outlinewidth\": 0, \"ticks\": \"\"}}, \"type\": \"scatter\"}], \"scatter3d\": [{\"line\": {\"colorbar\": {\"outlinewidth\": 0, \"ticks\": \"\"}}, \"marker\": {\"colorbar\": {\"outlinewidth\": 0, \"ticks\": \"\"}}, \"type\": \"scatter3d\"}], \"scattercarpet\": [{\"marker\": {\"colorbar\": {\"outlinewidth\": 0, \"ticks\": \"\"}}, \"type\": \"scattercarpet\"}], \"scattergeo\": [{\"marker\": {\"colorbar\": {\"outlinewidth\": 0, \"ticks\": \"\"}}, \"type\": \"scattergeo\"}], \"scattergl\": [{\"marker\": {\"colorbar\": {\"outlinewidth\": 0, \"ticks\": \"\"}}, \"type\": \"scattergl\"}], \"scattermapbox\": [{\"marker\": {\"colorbar\": {\"outlinewidth\": 0, \"ticks\": \"\"}}, \"type\": \"scattermapbox\"}], \"scatterpolar\": [{\"marker\": {\"colorbar\": {\"outlinewidth\": 0, \"ticks\": \"\"}}, \"type\": \"scatterpolar\"}], \"scatterpolargl\": [{\"marker\": {\"colorbar\": {\"outlinewidth\": 0, \"ticks\": \"\"}}, \"type\": \"scatterpolargl\"}], \"scatterternary\": [{\"marker\": {\"colorbar\": {\"outlinewidth\": 0, \"ticks\": \"\"}}, \"type\": \"scatterternary\"}], \"surface\": [{\"colorbar\": {\"outlinewidth\": 0, \"ticks\": \"\"}, \"colorscale\": [[0.0, \"#0d0887\"], [0.1111111111111111, \"#46039f\"], [0.2222222222222222, \"#7201a8\"], [0.3333333333333333, \"#9c179e\"], [0.4444444444444444, \"#bd3786\"], [0.5555555555555556, \"#d8576b\"], [0.6666666666666666, \"#ed7953\"], [0.7777777777777778, \"#fb9f3a\"], [0.8888888888888888, \"#fdca26\"], [1.0, \"#f0f921\"]], \"type\": \"surface\"}], \"table\": [{\"cells\": {\"fill\": {\"color\": \"#EBF0F8\"}, \"line\": {\"color\": \"white\"}}, \"header\": {\"fill\": {\"color\": \"#C8D4E3\"}, \"line\": {\"color\": \"white\"}}, \"type\": \"table\"}]}, \"layout\": {\"annotationdefaults\": {\"arrowcolor\": \"#2a3f5f\", \"arrowhead\": 0, \"arrowwidth\": 1}, \"autotypenumbers\": \"strict\", \"coloraxis\": {\"colorbar\": {\"outlinewidth\": 0, \"ticks\": \"\"}}, \"colorscale\": {\"diverging\": [[0, \"#8e0152\"], [0.1, \"#c51b7d\"], [0.2, \"#de77ae\"], [0.3, \"#f1b6da\"], [0.4, \"#fde0ef\"], [0.5, \"#f7f7f7\"], [0.6, \"#e6f5d0\"], [0.7, \"#b8e186\"], [0.8, \"#7fbc41\"], [0.9, \"#4d9221\"], [1, \"#276419\"]], \"sequential\": [[0.0, \"#0d0887\"], [0.1111111111111111, \"#46039f\"], [0.2222222222222222, \"#7201a8\"], [0.3333333333333333, \"#9c179e\"], [0.4444444444444444, \"#bd3786\"], [0.5555555555555556, \"#d8576b\"], [0.6666666666666666, \"#ed7953\"], [0.7777777777777778, \"#fb9f3a\"], [0.8888888888888888, \"#fdca26\"], [1.0, \"#f0f921\"]], \"sequentialminus\": [[0.0, \"#0d0887\"], [0.1111111111111111, \"#46039f\"], [0.2222222222222222, \"#7201a8\"], [0.3333333333333333, \"#9c179e\"], [0.4444444444444444, \"#bd3786\"], [0.5555555555555556, \"#d8576b\"], [0.6666666666666666, \"#ed7953\"], [0.7777777777777778, \"#fb9f3a\"], [0.8888888888888888, \"#fdca26\"], [1.0, \"#f0f921\"]]}, \"colorway\": [\"#636efa\", \"#EF553B\", \"#00cc96\", \"#ab63fa\", \"#FFA15A\", \"#19d3f3\", \"#FF6692\", \"#B6E880\", \"#FF97FF\", \"#FECB52\"], \"font\": {\"color\": \"#2a3f5f\"}, \"geo\": {\"bgcolor\": \"white\", \"lakecolor\": \"white\", \"landcolor\": \"#E5ECF6\", \"showlakes\": true, \"showland\": true, \"subunitcolor\": \"white\"}, \"hoverlabel\": {\"align\": \"left\"}, \"hovermode\": \"closest\", \"mapbox\": {\"style\": \"light\"}, \"paper_bgcolor\": \"white\", \"plot_bgcolor\": \"#E5ECF6\", \"polar\": {\"angularaxis\": {\"gridcolor\": \"white\", \"linecolor\": \"white\", \"ticks\": \"\"}, \"bgcolor\": \"#E5ECF6\", \"radialaxis\": {\"gridcolor\": \"white\", \"linecolor\": \"white\", \"ticks\": \"\"}}, \"scene\": {\"xaxis\": {\"backgroundcolor\": \"#E5ECF6\", \"gridcolor\": \"white\", \"gridwidth\": 2, \"linecolor\": \"white\", \"showbackground\": true, \"ticks\": \"\", \"zerolinecolor\": \"white\"}, \"yaxis\": {\"backgroundcolor\": \"#E5ECF6\", \"gridcolor\": \"white\", \"gridwidth\": 2, \"linecolor\": \"white\", \"showbackground\": true, \"ticks\": \"\", \"zerolinecolor\": \"white\"}, \"zaxis\": {\"backgroundcolor\": \"#E5ECF6\", \"gridcolor\": \"white\", \"gridwidth\": 2, \"linecolor\": \"white\", \"showbackground\": true, \"ticks\": \"\", \"zerolinecolor\": \"white\"}}, \"shapedefaults\": {\"line\": {\"color\": \"#2a3f5f\"}}, \"ternary\": {\"aaxis\": {\"gridcolor\": \"white\", \"linecolor\": \"white\", \"ticks\": \"\"}, \"baxis\": {\"gridcolor\": \"white\", \"linecolor\": \"white\", \"ticks\": \"\"}, \"bgcolor\": \"#E5ECF6\", \"caxis\": {\"gridcolor\": \"white\", \"linecolor\": \"white\", \"ticks\": \"\"}}, \"title\": {\"x\": 0.05}, \"xaxis\": {\"automargin\": true, \"gridcolor\": \"white\", \"linecolor\": \"white\", \"ticks\": \"\", \"title\": {\"standoff\": 15}, \"zerolinecolor\": \"white\", \"zerolinewidth\": 2}, \"yaxis\": {\"automargin\": true, \"gridcolor\": \"white\", \"linecolor\": \"white\", \"ticks\": \"\", \"title\": {\"standoff\": 15}, \"zerolinecolor\": \"white\", \"zerolinewidth\": 2}}}, \"xaxis\": {\"anchor\": \"y\", \"domain\": [0.0, 1.0], \"title\": {\"text\": \"x\"}}, \"yaxis\": {\"anchor\": \"x\", \"domain\": [0.0, 1.0], \"title\": {\"text\": \"y\"}}},                        {\"responsive\": true}                    ).then(function(){\n",
       "                            \n",
       "var gd = document.getElementById('3ca07f5f-08ef-4e37-8b6e-6019ecbd3163');\n",
       "var x = new MutationObserver(function (mutations, observer) {{\n",
       "        var display = window.getComputedStyle(gd).display;\n",
       "        if (!display || display === 'none') {{\n",
       "            console.log([gd, 'removed!']);\n",
       "            Plotly.purge(gd);\n",
       "            observer.disconnect();\n",
       "        }}\n",
       "}});\n",
       "\n",
       "// Listen for the removal of the full notebook cells\n",
       "var notebookContainer = gd.closest('#notebook-container');\n",
       "if (notebookContainer) {{\n",
       "    x.observe(notebookContainer, {childList: true});\n",
       "}}\n",
       "\n",
       "// Listen for the clearing of the current output cell\n",
       "var outputEl = gd.closest('.output');\n",
       "if (outputEl) {{\n",
       "    x.observe(outputEl, {childList: true});\n",
       "}}\n",
       "\n",
       "                        })                };                });            </script>        </div>"
      ]
     },
     "metadata": {},
     "output_type": "display_data"
    }
   ],
   "source": [
    "import plotly.express as px\n",
    "px.scatter(y=data[\"EstimatedSalary\"],x=data[\"Age\"],color=data[\"Purchased\"])"
   ]
  },
  {
   "cell_type": "markdown",
   "metadata": {},
   "source": [
    "### `Modelling ----------------------------------`"
   ]
  },
  {
   "cell_type": "code",
   "execution_count": 185,
   "metadata": {},
   "outputs": [],
   "source": [
    "X = data[[\"EstimatedSalary\",\"Age\"]]\n",
    "y = data[\"Purchased\"]"
   ]
  },
  {
   "cell_type": "code",
   "execution_count": 186,
   "metadata": {},
   "outputs": [
    {
     "data": {
      "text/html": [
       "<div>\n",
       "<style scoped>\n",
       "    .dataframe tbody tr th:only-of-type {\n",
       "        vertical-align: middle;\n",
       "    }\n",
       "\n",
       "    .dataframe tbody tr th {\n",
       "        vertical-align: top;\n",
       "    }\n",
       "\n",
       "    .dataframe thead th {\n",
       "        text-align: right;\n",
       "    }\n",
       "</style>\n",
       "<table border=\"1\" class=\"dataframe\">\n",
       "  <thead>\n",
       "    <tr style=\"text-align: right;\">\n",
       "      <th></th>\n",
       "      <th>EstimatedSalary</th>\n",
       "      <th>Age</th>\n",
       "    </tr>\n",
       "  </thead>\n",
       "  <tbody>\n",
       "    <tr>\n",
       "      <th>0</th>\n",
       "      <td>19000</td>\n",
       "      <td>19</td>\n",
       "    </tr>\n",
       "    <tr>\n",
       "      <th>1</th>\n",
       "      <td>20000</td>\n",
       "      <td>35</td>\n",
       "    </tr>\n",
       "    <tr>\n",
       "      <th>2</th>\n",
       "      <td>43000</td>\n",
       "      <td>26</td>\n",
       "    </tr>\n",
       "    <tr>\n",
       "      <th>3</th>\n",
       "      <td>57000</td>\n",
       "      <td>27</td>\n",
       "    </tr>\n",
       "    <tr>\n",
       "      <th>4</th>\n",
       "      <td>76000</td>\n",
       "      <td>19</td>\n",
       "    </tr>\n",
       "    <tr>\n",
       "      <th>...</th>\n",
       "      <td>...</td>\n",
       "      <td>...</td>\n",
       "    </tr>\n",
       "    <tr>\n",
       "      <th>395</th>\n",
       "      <td>41000</td>\n",
       "      <td>46</td>\n",
       "    </tr>\n",
       "    <tr>\n",
       "      <th>396</th>\n",
       "      <td>23000</td>\n",
       "      <td>51</td>\n",
       "    </tr>\n",
       "    <tr>\n",
       "      <th>397</th>\n",
       "      <td>20000</td>\n",
       "      <td>50</td>\n",
       "    </tr>\n",
       "    <tr>\n",
       "      <th>398</th>\n",
       "      <td>33000</td>\n",
       "      <td>36</td>\n",
       "    </tr>\n",
       "    <tr>\n",
       "      <th>399</th>\n",
       "      <td>36000</td>\n",
       "      <td>49</td>\n",
       "    </tr>\n",
       "  </tbody>\n",
       "</table>\n",
       "<p>400 rows × 2 columns</p>\n",
       "</div>"
      ],
      "text/plain": [
       "     EstimatedSalary  Age\n",
       "0              19000   19\n",
       "1              20000   35\n",
       "2              43000   26\n",
       "3              57000   27\n",
       "4              76000   19\n",
       "..               ...  ...\n",
       "395            41000   46\n",
       "396            23000   51\n",
       "397            20000   50\n",
       "398            33000   36\n",
       "399            36000   49\n",
       "\n",
       "[400 rows x 2 columns]"
      ]
     },
     "execution_count": 186,
     "metadata": {},
     "output_type": "execute_result"
    }
   ],
   "source": [
    "X"
   ]
  },
  {
   "cell_type": "code",
   "execution_count": 187,
   "metadata": {},
   "outputs": [
    {
     "data": {
      "text/plain": [
       "0      0\n",
       "1      0\n",
       "2      0\n",
       "3      0\n",
       "4      0\n",
       "      ..\n",
       "395    1\n",
       "396    1\n",
       "397    1\n",
       "398    0\n",
       "399    1\n",
       "Name: Purchased, Length: 400, dtype: category\n",
       "Categories (2, int64): [0, 1]"
      ]
     },
     "execution_count": 187,
     "metadata": {},
     "output_type": "execute_result"
    }
   ],
   "source": [
    "y"
   ]
  },
  {
   "cell_type": "code",
   "execution_count": 188,
   "metadata": {},
   "outputs": [],
   "source": [
    "from sklearn.model_selection import train_test_split\n",
    "\n",
    "X_train, X_test, y_train, y_test = train_test_split(X, y, test_size=0.20, random_state=42)"
   ]
  },
  {
   "cell_type": "code",
   "execution_count": 189,
   "metadata": {},
   "outputs": [
    {
     "data": {
      "text/html": [
       "<div>\n",
       "<style scoped>\n",
       "    .dataframe tbody tr th:only-of-type {\n",
       "        vertical-align: middle;\n",
       "    }\n",
       "\n",
       "    .dataframe tbody tr th {\n",
       "        vertical-align: top;\n",
       "    }\n",
       "\n",
       "    .dataframe thead th {\n",
       "        text-align: right;\n",
       "    }\n",
       "</style>\n",
       "<table border=\"1\" class=\"dataframe\">\n",
       "  <thead>\n",
       "    <tr style=\"text-align: right;\">\n",
       "      <th></th>\n",
       "      <th>EstimatedSalary</th>\n",
       "      <th>Age</th>\n",
       "    </tr>\n",
       "  </thead>\n",
       "  <tbody>\n",
       "    <tr>\n",
       "      <th>3</th>\n",
       "      <td>57000</td>\n",
       "      <td>27</td>\n",
       "    </tr>\n",
       "    <tr>\n",
       "      <th>18</th>\n",
       "      <td>28000</td>\n",
       "      <td>46</td>\n",
       "    </tr>\n",
       "    <tr>\n",
       "      <th>202</th>\n",
       "      <td>134000</td>\n",
       "      <td>39</td>\n",
       "    </tr>\n",
       "    <tr>\n",
       "      <th>250</th>\n",
       "      <td>39000</td>\n",
       "      <td>44</td>\n",
       "    </tr>\n",
       "    <tr>\n",
       "      <th>274</th>\n",
       "      <td>26000</td>\n",
       "      <td>57</td>\n",
       "    </tr>\n",
       "    <tr>\n",
       "      <th>...</th>\n",
       "      <td>...</td>\n",
       "      <td>...</td>\n",
       "    </tr>\n",
       "    <tr>\n",
       "      <th>71</th>\n",
       "      <td>27000</td>\n",
       "      <td>24</td>\n",
       "    </tr>\n",
       "    <tr>\n",
       "      <th>106</th>\n",
       "      <td>35000</td>\n",
       "      <td>26</td>\n",
       "    </tr>\n",
       "    <tr>\n",
       "      <th>270</th>\n",
       "      <td>133000</td>\n",
       "      <td>43</td>\n",
       "    </tr>\n",
       "    <tr>\n",
       "      <th>348</th>\n",
       "      <td>77000</td>\n",
       "      <td>39</td>\n",
       "    </tr>\n",
       "    <tr>\n",
       "      <th>102</th>\n",
       "      <td>86000</td>\n",
       "      <td>32</td>\n",
       "    </tr>\n",
       "  </tbody>\n",
       "</table>\n",
       "<p>320 rows × 2 columns</p>\n",
       "</div>"
      ],
      "text/plain": [
       "     EstimatedSalary  Age\n",
       "3              57000   27\n",
       "18             28000   46\n",
       "202           134000   39\n",
       "250            39000   44\n",
       "274            26000   57\n",
       "..               ...  ...\n",
       "71             27000   24\n",
       "106            35000   26\n",
       "270           133000   43\n",
       "348            77000   39\n",
       "102            86000   32\n",
       "\n",
       "[320 rows x 2 columns]"
      ]
     },
     "execution_count": 189,
     "metadata": {},
     "output_type": "execute_result"
    }
   ],
   "source": [
    "X_train"
   ]
  },
  {
   "cell_type": "code",
   "execution_count": 190,
   "metadata": {},
   "outputs": [
    {
     "data": {
      "text/plain": [
       "LogisticRegression()"
      ]
     },
     "execution_count": 190,
     "metadata": {},
     "output_type": "execute_result"
    }
   ],
   "source": [
    "from sklearn.linear_model import LogisticRegression\n",
    "model = LogisticRegression()\n",
    "model.fit(X_train,y_train)"
   ]
  },
  {
   "cell_type": "code",
   "execution_count": 191,
   "metadata": {},
   "outputs": [],
   "source": [
    "y_pred = model.predict(X_test)"
   ]
  },
  {
   "cell_type": "code",
   "execution_count": 192,
   "metadata": {},
   "outputs": [
    {
     "data": {
      "text/plain": [
       "array([0, 0, 0, 0, 0, 0, 0, 0, 0, 0, 0, 0, 0, 0, 0, 0, 0, 0, 0, 0, 0, 0,\n",
       "       0, 0, 0, 0, 0, 0, 0, 0, 0, 0, 0, 0, 0, 0, 0, 0, 0, 0, 0, 0, 0, 0,\n",
       "       0, 0, 0, 0, 0, 0, 0, 0, 0, 0, 0, 0, 0, 0, 0, 0, 0, 0, 0, 0, 0, 0,\n",
       "       0, 0, 0, 0, 0, 0, 0, 0, 0, 0, 0, 0, 0, 0], dtype=int64)"
      ]
     },
     "execution_count": 192,
     "metadata": {},
     "output_type": "execute_result"
    }
   ],
   "source": [
    "y_pred"
   ]
  },
  {
   "cell_type": "code",
   "execution_count": 193,
   "metadata": {},
   "outputs": [
    {
     "data": {
      "text/plain": [
       "0.65"
      ]
     },
     "execution_count": 193,
     "metadata": {},
     "output_type": "execute_result"
    }
   ],
   "source": [
    "from sklearn.metrics import accuracy_score\n",
    "accuracy_score(y_test,y_pred)"
   ]
  },
  {
   "cell_type": "code",
   "execution_count": 194,
   "metadata": {},
   "outputs": [
    {
     "data": {
      "text/plain": [
       "array([[52,  0],\n",
       "       [28,  0]], dtype=int64)"
      ]
     },
     "execution_count": 194,
     "metadata": {},
     "output_type": "execute_result"
    }
   ],
   "source": [
    "from sklearn.metrics import confusion_matrix\n",
    "confusion_matrix(y_test,y_pred)"
   ]
  },
  {
   "cell_type": "markdown",
   "metadata": {},
   "source": [
    "### `Needs to Standardize to improve accuracy`"
   ]
  },
  {
   "cell_type": "code",
   "execution_count": 195,
   "metadata": {},
   "outputs": [],
   "source": [
    "from sklearn.preprocessing import StandardScaler\n",
    "sc = StandardScaler()\n",
    "sc.fit(X_train)\n",
    "X_train = sc.transform(X_train)\n",
    "X_test = sc.transform(X_test)"
   ]
  },
  {
   "cell_type": "code",
   "execution_count": 196,
   "metadata": {},
   "outputs": [
    {
     "data": {
      "text/plain": [
       "array([[-0.38634438, -1.06675246],\n",
       "       [-1.22993871,  0.79753468],\n",
       "       [ 1.853544  ,  0.11069205],\n",
       "       [-0.90995465,  0.60129393],\n",
       "       [-1.28811763,  1.87685881],\n",
       "       [ 1.44629156, -0.57615058],\n",
       "       [-0.53179168,  0.3069328 ],\n",
       "       [ 0.10817643,  0.99377543],\n",
       "       [ 0.45724994, -1.16487283],\n",
       "       [ 0.31180264, -1.55735433],\n",
       "       [ 0.45724994,  1.0918958 ],\n",
       "       [-0.47361276, -0.18366908],\n",
       "       [-0.32816546,  0.20881242],\n",
       "       [ 0.28271318,  0.3069328 ],\n",
       "       [-1.57901222, -1.16487283],\n",
       "       [ 0.25362372,  0.11069205],\n",
       "       [ 1.73718616,  2.07309956],\n",
       "       [-0.18271817,  0.40505317],\n",
       "       [ 2.11534913,  1.4843773 ],\n",
       "       [ 1.21357589, -0.37990983],\n",
       "       [ 1.50447048,  1.87685881],\n",
       "       [ 0.02090805,  0.11069205],\n",
       "       [-1.31720709,  0.89565505],\n",
       "       [-1.49174384, -1.36111358],\n",
       "       [-0.5899706 , -0.18366908],\n",
       "       [ 2.31897535, -0.57615058],\n",
       "       [-1.20084925,  0.99377543],\n",
       "       [ 1.06812859, -0.77239133],\n",
       "       [-1.05540195,  2.17121993],\n",
       "       [-0.26998655,  0.01257167],\n",
       "       [-1.14267033, -0.4780302 ],\n",
       "       [ 0.02090805,  0.11069205],\n",
       "       [-0.90995465,  1.68061805],\n",
       "       [-0.90995465,  1.0918958 ],\n",
       "       [ 1.21357589,  0.50317355],\n",
       "       [-1.46265438, -1.06675246],\n",
       "       [-1.54992276, -1.16487283],\n",
       "       [ 0.66087616, -0.0855487 ],\n",
       "       [-0.47361276,  0.40505317],\n",
       "       [-0.26998655, -0.28178945],\n",
       "       [ 0.13726589, -0.87051171],\n",
       "       [ 0.28271318,  0.01257167],\n",
       "       [-1.28811763,  0.6994143 ],\n",
       "       [ 1.09721805,  1.58249768],\n",
       "       [-1.37538601,  0.79753468],\n",
       "       [-1.22993871, -1.45923396],\n",
       "       [ 0.13726589, -0.0855487 ],\n",
       "       [-0.15362871,  0.40505317],\n",
       "       [ 0.02090805, -0.28178945],\n",
       "       [ 2.20261751,  1.28813655],\n",
       "       [ 0.74814454,  0.11069205],\n",
       "       [ 0.54451832, -1.36111358],\n",
       "       [ 0.71905508,  1.97497918],\n",
       "       [-1.40447546, -1.26299321],\n",
       "       [-0.32816546,  0.3069328 ],\n",
       "       [ 0.54451832, -0.96863208],\n",
       "       [ 0.28271318,  0.40505317],\n",
       "       [ 1.09721805,  0.40505317],\n",
       "       [ 0.74814454,  0.79753468],\n",
       "       [ 1.24266535,  0.89565505],\n",
       "       [-1.22993871, -0.4780302 ],\n",
       "       [-1.31720709, -1.85171546],\n",
       "       [ 0.54451832,  1.0918958 ],\n",
       "       [-1.60810168, -0.67427095],\n",
       "       [ 0.25362372, -0.77239133],\n",
       "       [ 2.05717021,  0.99377543],\n",
       "       [ 1.35902318, -0.57615058],\n",
       "       [ 0.02090805, -0.0855487 ],\n",
       "       [ 0.45724994, -1.94983583],\n",
       "       [ 0.25362372,  0.40505317],\n",
       "       [ 0.39907102, -1.06675246],\n",
       "       [-0.15362871,  0.20881242],\n",
       "       [ 0.10817643,  1.87685881],\n",
       "       [-1.60810168, -1.16487283],\n",
       "       [ 0.28271318, -1.16487283],\n",
       "       [-0.79359682, -0.87051171],\n",
       "       [ 2.28988589, -0.4780302 ],\n",
       "       [-0.82268628,  0.11069205],\n",
       "       [ 0.98086021,  1.58249768],\n",
       "       [-1.08449141, -0.18366908],\n",
       "       [-1.11358087,  0.79753468],\n",
       "       [ 2.08625967,  0.20881242],\n",
       "       [-0.24089709, -0.0855487 ],\n",
       "       [ 2.26079643, -0.87051171],\n",
       "       [-0.38634438, -0.0855487 ],\n",
       "       [-0.5899706 , -0.28178945],\n",
       "       [-0.50270222,  0.40505317],\n",
       "       [-0.93904411, -0.28178945],\n",
       "       [-1.17175979,  0.3069328 ],\n",
       "       [ 0.04999751,  0.20881242],\n",
       "       [-1.60810168, -1.16487283],\n",
       "       [-0.06636033, -0.67427095],\n",
       "       [-0.50270222, -0.28178945],\n",
       "       [-1.31720709, -0.28178945],\n",
       "       [ 0.54451832, -0.77239133],\n",
       "       [ 0.04999751,  0.3069328 ],\n",
       "       [ 1.53355994, -0.96863208],\n",
       "       [ 0.3408921 ,  0.79753468],\n",
       "       [-0.21180763, -1.55735433],\n",
       "       [-1.40447546,  0.6994143 ],\n",
       "       [-0.61906006, -0.77239133],\n",
       "       [-1.31720709, -0.37990983],\n",
       "       [ 0.13726589,  0.20881242],\n",
       "       [ 1.35902318, -0.57615058],\n",
       "       [ 0.3408921 , -1.45923396],\n",
       "       [ 0.28271318, -1.16487283],\n",
       "       [ 1.76627562,  0.99377543],\n",
       "       [ 2.11534913,  2.07309956],\n",
       "       [-0.4445233 , -0.28178945],\n",
       "       [-0.79359682, -0.37990983],\n",
       "       [-0.26998655,  0.11069205],\n",
       "       [ 0.74814454, -1.06675246],\n",
       "       [ 0.36998156,  2.17121993],\n",
       "       [-0.4445233 , -1.36111358],\n",
       "       [ 2.14443859,  1.97497918],\n",
       "       [ 0.98086021,  1.4843773 ],\n",
       "       [ 0.25362372, -0.28178945],\n",
       "       [ 0.83541291, -0.18366908],\n",
       "       [-0.29907601,  1.87685881],\n",
       "       [ 1.94081237, -0.0855487 ],\n",
       "       [-0.79359682, -0.4780302 ],\n",
       "       [ 0.02090805,  0.3069328 ],\n",
       "       [-1.43356492,  1.38625693],\n",
       "       [ 2.31897535,  1.38625693],\n",
       "       [-0.00818141, -0.0855487 ],\n",
       "       [ 0.39907102, -1.16487283],\n",
       "       [ 0.04999751, -1.16487283],\n",
       "       [-0.53179168, -1.16487283],\n",
       "       [-0.29907601,  0.3069328 ],\n",
       "       [-0.12453925, -0.67427095],\n",
       "       [ 2.14443859, -0.0855487 ],\n",
       "       [-0.26998655,  0.01257167],\n",
       "       [-1.05540195, -0.67427095],\n",
       "       [ 0.13726589,  0.40505317],\n",
       "       [ 1.35902318,  0.79753468],\n",
       "       [-0.53179168, -0.18366908],\n",
       "       [ 0.02090805,  0.01257167],\n",
       "       [ 0.51542886,  1.0918958 ],\n",
       "       [-1.08449141,  1.87685881],\n",
       "       [ 1.96990183,  0.99377543],\n",
       "       [-0.5899706 ,  0.89565505],\n",
       "       [-0.03727087, -0.4780302 ],\n",
       "       [ 2.20261751, -0.0855487 ],\n",
       "       [ 0.3408921 , -1.75359508],\n",
       "       [-0.67723898,  0.20881242],\n",
       "       [-1.40447546, -0.28178945],\n",
       "       [-0.99722303, -1.75359508],\n",
       "       [-0.7354179 ,  0.6994143 ],\n",
       "       [-0.79359682, -1.16487283],\n",
       "       [ 0.89359183,  1.97497918],\n",
       "       [-0.38634438,  0.20881242],\n",
       "       [ 1.21357589,  0.01257167],\n",
       "       [ 0.28271318, -0.0855487 ],\n",
       "       [-1.22993871,  1.0918958 ],\n",
       "       [ 0.13726589, -0.18366908],\n",
       "       [ 0.04999751,  0.3069328 ],\n",
       "       [-0.29907601, -0.28178945],\n",
       "       [ 1.7080967 ,  0.50317355],\n",
       "       [ 0.4863394 ,  0.3069328 ],\n",
       "       [ 1.24266535,  0.01257167],\n",
       "       [-1.37538601,  1.97497918],\n",
       "       [-1.11358087, -1.16487283],\n",
       "       [-1.5208333 , -0.57615058],\n",
       "       [-0.53179168,  0.3069328 ],\n",
       "       [-1.5208333 , -0.67427095],\n",
       "       [ 0.51542886, -0.28178945],\n",
       "       [-1.02631249,  0.99377543],\n",
       "       [ 0.54451832, -1.06675246],\n",
       "       [ 0.777234  , -0.28178945],\n",
       "       [ 0.07908697,  0.40505317],\n",
       "       [-0.06636033, -1.65547471],\n",
       "       [ 0.04999751,  0.3069328 ],\n",
       "       [-0.29907601, -0.4780302 ],\n",
       "       [ 1.853544  ,  0.11069205],\n",
       "       [ 0.39907102, -0.96863208],\n",
       "       [ 0.51542886,  0.79753468],\n",
       "       [-0.35725492, -1.36111358],\n",
       "       [ 1.38811264, -0.67427095],\n",
       "       [ 0.51542886,  1.19001618],\n",
       "       [ 0.3408921 , -1.75359508],\n",
       "       [ 1.88263345, -0.57615058],\n",
       "       [ 0.45724994, -1.75359508],\n",
       "       [-1.25902817, -0.28178945],\n",
       "       [-0.79359682, -0.87051171],\n",
       "       [ 0.51542886, -1.65547471],\n",
       "       [-0.32816546, -0.28178945],\n",
       "       [-1.11358087,  0.6994143 ],\n",
       "       [-0.82268628,  2.17121993],\n",
       "       [ 0.60269724, -0.28178945],\n",
       "       [-0.76450736, -0.28178945],\n",
       "       [-0.76450736, -1.94983583],\n",
       "       [ 2.28988589,  0.40505317],\n",
       "       [ 0.25362372,  0.6994143 ],\n",
       "       [-0.29907601,  0.20881242],\n",
       "       [-1.37538601, -1.36111358],\n",
       "       [-0.56088114, -0.4780302 ],\n",
       "       [-0.00818141,  0.40505317],\n",
       "       [ 1.73718616,  1.68061805],\n",
       "       [-0.76450736,  1.19001618],\n",
       "       [ 1.4172021 ,  0.99377543],\n",
       "       [ 0.16635535, -1.85171546],\n",
       "       [ 0.04999751,  0.3069328 ],\n",
       "       [ 0.02090805,  0.20881242],\n",
       "       [ 0.51542886, -1.06675246],\n",
       "       [ 1.62082832, -0.18366908],\n",
       "       [ 0.13726589, -0.28178945],\n",
       "       [-0.35725492, -0.28178945],\n",
       "       [ 1.30084427, -0.37990983],\n",
       "       [ 0.07908697, -0.28178945],\n",
       "       [ 1.09721805,  2.17121993],\n",
       "       [ 0.4863394 , -1.26299321],\n",
       "       [-0.47361276, -1.06675246],\n",
       "       [-1.57901222, -1.65547471],\n",
       "       [ 0.10817643, -0.0855487 ],\n",
       "       [-0.90995465, -0.28178945],\n",
       "       [-0.00818141,  1.58249768],\n",
       "       [-1.17175979,  0.89565505],\n",
       "       [-0.5899706 ,  0.01257167],\n",
       "       [ 2.23170697, -0.28178945],\n",
       "       [ 0.19544481, -0.28178945],\n",
       "       [ 0.25362372,  0.3069328 ],\n",
       "       [-1.08449141, -0.0855487 ],\n",
       "       [-0.70632844,  2.17121993],\n",
       "       [-0.32816546, -0.96863208],\n",
       "       [-0.12453925, -1.45923396],\n",
       "       [-0.21180763, -1.45923396],\n",
       "       [-1.54992276, -0.77239133],\n",
       "       [-1.08449141, -1.26299321],\n",
       "       [ 0.36998156,  2.07309956],\n",
       "       [-0.93904411,  1.97497918],\n",
       "       [ 0.3408921 , -1.94983583],\n",
       "       [-0.32816546,  0.79753468],\n",
       "       [-1.54992276, -1.06675246],\n",
       "       [-0.67723898,  1.97497918],\n",
       "       [-1.17175979,  0.99377543],\n",
       "       [-0.15362871,  1.0918958 ],\n",
       "       [-0.99722303,  1.19001618],\n",
       "       [ 0.04999751,  1.4843773 ],\n",
       "       [-0.38634438,  0.20881242],\n",
       "       [ 1.27175481,  1.38625693],\n",
       "       [-0.82268628,  2.07309956],\n",
       "       [-0.21180763, -0.18366908],\n",
       "       [ 0.98086021,  0.40505317],\n",
       "       [-0.53179168, -0.0855487 ],\n",
       "       [-1.08449141,  0.99377543],\n",
       "       [-1.20084925,  2.07309956],\n",
       "       [ 0.25362372, -0.0855487 ],\n",
       "       [-0.26998655,  0.20881242],\n",
       "       [ 0.10817643,  1.0918958 ],\n",
       "       [ 0.57360778, -1.26299321],\n",
       "       [-1.60810168, -0.77239133],\n",
       "       [ 0.22453427,  0.20881242],\n",
       "       [ 0.39907102, -1.36111358],\n",
       "       [-0.5899706 ,  0.01257167],\n",
       "       [ 1.76627562,  0.6994143 ],\n",
       "       [ 0.04999751, -1.65547471],\n",
       "       [-1.37538601, -0.28178945],\n",
       "       [-1.46265438, -0.28178945],\n",
       "       [ 0.54451832, -0.67427095],\n",
       "       [ 0.28271318, -0.77239133],\n",
       "       [-0.67723898,  0.89565505],\n",
       "       [ 0.57360778, -1.06675246],\n",
       "       [ 0.04999751, -0.28178945],\n",
       "       [ 1.32993372, -0.77239133],\n",
       "       [ 1.50447048,  0.11069205],\n",
       "       [ 0.36998156, -0.87051171],\n",
       "       [-0.21180763,  0.3069328 ],\n",
       "       [ 0.57360778,  0.99377543],\n",
       "       [-0.32816546,  0.01257167],\n",
       "       [-1.5208333 , -0.57615058],\n",
       "       [ 0.13726589,  0.11069205],\n",
       "       [ 0.31180264, -1.16487283],\n",
       "       [ 1.03903913,  0.11069205],\n",
       "       [-0.4445233 , -1.55735433],\n",
       "       [ 1.38811264, -0.18366908],\n",
       "       [-0.82268628,  2.17121993],\n",
       "       [-0.4445233 , -0.96863208],\n",
       "       [ 1.853544  ,  1.28813655],\n",
       "       [-1.22993871,  1.0918958 ],\n",
       "       [-0.29907601, -0.18366908],\n",
       "       [ 0.98086021,  1.77873843],\n",
       "       [-0.35725492, -1.06675246],\n",
       "       [-1.11358087, -1.36111358],\n",
       "       [ 0.04999751, -0.37990983],\n",
       "       [-1.11358087, -0.96863208],\n",
       "       [-1.46265438,  1.19001618],\n",
       "       [-0.85177573, -0.4780302 ],\n",
       "       [-0.67723898, -0.87051171],\n",
       "       [-1.5208333 , -1.55735433],\n",
       "       [ 1.88263345, -0.77239133],\n",
       "       [ 1.00994967,  0.89565505],\n",
       "       [ 0.25362372,  0.79753468],\n",
       "       [ 1.853544  ,  0.99377543],\n",
       "       [-0.61906006,  0.89565505],\n",
       "       [ 2.05717021,  1.0918958 ],\n",
       "       [ 0.86450237, -0.57615058],\n",
       "       [ 0.02090805,  0.01257167],\n",
       "       [-1.28811763, -1.85171546],\n",
       "       [ 0.19544481, -0.0855487 ],\n",
       "       [-0.56088114,  0.89565505],\n",
       "       [-0.38634438,  0.20881242],\n",
       "       [ 1.59173886, -0.18366908],\n",
       "       [ 0.10817643, -1.75359508],\n",
       "       [-0.35725492, -0.67427095],\n",
       "       [-0.7354179 ,  0.3069328 ],\n",
       "       [-0.47361276,  0.40505317],\n",
       "       [-0.96813357, -0.96863208],\n",
       "       [ 0.07908697,  0.11069205],\n",
       "       [ 0.42816048, -0.96863208],\n",
       "       [-0.56088114,  0.01257167],\n",
       "       [-0.79359682,  0.89565505],\n",
       "       [ 0.04999751, -0.0855487 ],\n",
       "       [-0.99722303,  1.0918958 ],\n",
       "       [-1.40447546,  0.6994143 ],\n",
       "       [ 0.04999751, -0.28178945],\n",
       "       [-1.25902817, -1.36111358],\n",
       "       [-1.02631249, -1.16487283],\n",
       "       [ 1.82445454,  0.50317355],\n",
       "       [ 0.19544481,  0.11069205],\n",
       "       [ 0.45724994, -0.57615058]])"
      ]
     },
     "execution_count": 196,
     "metadata": {},
     "output_type": "execute_result"
    }
   ],
   "source": [
    "X_train"
   ]
  },
  {
   "cell_type": "code",
   "execution_count": 197,
   "metadata": {},
   "outputs": [
    {
     "data": {
      "text/plain": [
       "LogisticRegression()"
      ]
     },
     "execution_count": 197,
     "metadata": {},
     "output_type": "execute_result"
    }
   ],
   "source": [
    "from sklearn.linear_model import LogisticRegression\n",
    "model = LogisticRegression()\n",
    "model.fit(X_train,y_train)"
   ]
  },
  {
   "cell_type": "code",
   "execution_count": 198,
   "metadata": {},
   "outputs": [],
   "source": [
    "y_pred = model.predict(X_test)"
   ]
  },
  {
   "cell_type": "code",
   "execution_count": 199,
   "metadata": {},
   "outputs": [
    {
     "data": {
      "text/plain": [
       "array([0, 1, 0, 1, 0, 0, 1, 0, 0, 0, 0, 1, 0, 0, 0, 0, 1, 1, 0, 1, 0, 0,\n",
       "       0, 1, 0, 0, 1, 0, 1, 0, 0, 0, 1, 0, 1, 0, 0, 0, 0, 0, 0, 0, 0, 0,\n",
       "       0, 1, 0, 0, 0, 0, 0, 1, 0, 0, 0, 0, 1, 0, 0, 0, 0, 0, 1, 0, 0, 0,\n",
       "       1, 1, 0, 0, 1, 0, 0, 0, 0, 0, 1, 1, 0, 0], dtype=int64)"
      ]
     },
     "execution_count": 199,
     "metadata": {},
     "output_type": "execute_result"
    }
   ],
   "source": [
    "y_pred"
   ]
  },
  {
   "cell_type": "code",
   "execution_count": 200,
   "metadata": {},
   "outputs": [
    {
     "data": {
      "text/plain": [
       "209    0\n",
       "280    1\n",
       "33     0\n",
       "210    1\n",
       "93     0\n",
       "      ..\n",
       "246    0\n",
       "227    1\n",
       "369    1\n",
       "176    0\n",
       "289    1\n",
       "Name: Purchased, Length: 80, dtype: category\n",
       "Categories (2, int64): [0, 1]"
      ]
     },
     "execution_count": 200,
     "metadata": {},
     "output_type": "execute_result"
    }
   ],
   "source": [
    "y_test"
   ]
  },
  {
   "cell_type": "code",
   "execution_count": 201,
   "metadata": {},
   "outputs": [
    {
     "data": {
      "text/plain": [
       "0.8625"
      ]
     },
     "execution_count": 201,
     "metadata": {},
     "output_type": "execute_result"
    }
   ],
   "source": [
    "from sklearn.metrics import accuracy_score\n",
    "accuracy_score(y_test,y_pred)"
   ]
  },
  {
   "cell_type": "code",
   "execution_count": 202,
   "metadata": {},
   "outputs": [
    {
     "data": {
      "text/plain": [
       "array([[50,  2],\n",
       "       [ 9, 19]], dtype=int64)"
      ]
     },
     "execution_count": 202,
     "metadata": {},
     "output_type": "execute_result"
    }
   ],
   "source": [
    "from sklearn.metrics import confusion_matrix\n",
    "confusion_matrix(y_test,y_pred)"
   ]
  },
  {
   "cell_type": "markdown",
   "metadata": {},
   "source": [
    "## `End ---------------------------------`"
   ]
  }
 ],
 "metadata": {
  "kernelspec": {
   "display_name": "Python 3",
   "language": "python",
   "name": "python3"
  },
  "language_info": {
   "codemirror_mode": {
    "name": "ipython",
    "version": 3
   },
   "file_extension": ".py",
   "mimetype": "text/x-python",
   "name": "python",
   "nbconvert_exporter": "python",
   "pygments_lexer": "ipython3",
   "version": "3.8.8"
  }
 },
 "nbformat": 4,
 "nbformat_minor": 4
}
